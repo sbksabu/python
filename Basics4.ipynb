{
 "cells": [
  {
   "cell_type": "code",
   "execution_count": 4,
   "metadata": {},
   "outputs": [
    {
     "name": "stdout",
     "output_type": "stream",
     "text": [
      "Enter the letter : u\n",
      "u is a vowel\n"
     ]
    }
   ],
   "source": [
    "letter = input(\"Enter the letter : \")\n",
    "\n",
    "letter = letter.lower()\n",
    "\n",
    "if letter in ['a', 'e', 'i', 'o', 'u']:\n",
    "    \n",
    "    print(\"%s is a vowel\" %letter)\n",
    "    \n",
    "elif letter == 'y':\n",
    "    \n",
    "    print(\"Y is ambigous\")\n",
    "    \n",
    "else: \n",
    "    \n",
    "    print(\"The letter %s is a consonant\" %letter)"
   ]
  },
  {
   "cell_type": "code",
   "execution_count": 7,
   "metadata": {},
   "outputs": [
    {
     "name": "stdout",
     "output_type": "stream",
     "text": [
      "Enter the word : Amma\n",
      "Amma\n",
      "Not a paliandrome\n"
     ]
    }
   ],
   "source": [
    "word = input(\"Enter the word : \")\n",
    "\n",
    "print(word)\n",
    "\n",
    "rev_word = word[::-1]\n",
    "\n",
    "if word == rev_word:\n",
    "    \n",
    "    print(\"Paliandrome\")\n",
    "    \n",
    "else:\n",
    "    \n",
    "    print(\"Not a paliandrome\")"
   ]
  },
  {
   "cell_type": "code",
   "execution_count": null,
   "metadata": {},
   "outputs": [],
   "source": []
  }
 ],
 "metadata": {
  "kernelspec": {
   "display_name": "Python 3",
   "language": "python",
   "name": "python3"
  },
  "language_info": {
   "codemirror_mode": {
    "name": "ipython",
    "version": 3
   },
   "file_extension": ".py",
   "mimetype": "text/x-python",
   "name": "python",
   "nbconvert_exporter": "python",
   "pygments_lexer": "ipython3",
   "version": "3.8.5"
  }
 },
 "nbformat": 4,
 "nbformat_minor": 4
}
