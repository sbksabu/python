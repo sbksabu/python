{
 "cells": [
  {
   "cell_type": "code",
   "execution_count": 1,
   "metadata": {},
   "outputs": [],
   "source": [
    "fruits = [\"Mango\", \"Pineapple\", \"Papaya\", \"Anar\"]"
   ]
  },
  {
   "cell_type": "code",
   "execution_count": 2,
   "metadata": {},
   "outputs": [
    {
     "name": "stdout",
     "output_type": "stream",
     "text": [
      "['Mango', 'Pineapple', 'Papaya', 'Apple']\n",
      "\n",
      "Printing outside  ['Mango', 'Pineapple', 'Papaya', 'Apple']\n"
     ]
    }
   ],
   "source": [
    "def changeFruits(fruits):\n",
    "    \n",
    "    fruits[3] = \"Apple\"\n",
    "    \n",
    "    print(fruits)\n",
    "\n",
    "\n",
    "changeFruits(fruits)\n",
    "\n",
    "print()\n",
    "\n",
    "print(\"Printing outside \", fruits)"
   ]
  },
  {
   "cell_type": "code",
   "execution_count": 3,
   "metadata": {},
   "outputs": [
    {
     "name": "stdout",
     "output_type": "stream",
     "text": [
      "['Mango', 'Pineapple', 'Papaya', 'Apple', 'Kiwi']\n",
      "\n",
      "Outside  ['Mango', 'Pineapple', 'Papaya', 'Apple', 'Kiwi']\n"
     ]
    }
   ],
   "source": [
    "def addFruits(fruits):\n",
    "    \n",
    "    fruits.append(\"Kiwi\")\n",
    "    \n",
    "    print(fruits)\n",
    "    \n",
    "addFruits(fruits)\n",
    "\n",
    "print()\n",
    "\n",
    "print(\"Outside \", fruits)"
   ]
  },
  {
   "cell_type": "code",
   "execution_count": 5,
   "metadata": {},
   "outputs": [
    {
     "name": "stdout",
     "output_type": "stream",
     "text": [
      "['Apple', 'Kiwi', 'Mango']\n",
      "Outside  ['Apple', 'Kiwi', 'Mango']\n"
     ]
    }
   ],
   "source": [
    "def sort_remove_last(list1):\n",
    "    \n",
    "    list1.sort()\n",
    "    \n",
    "    list1.pop()\n",
    "    \n",
    "    print(list1)\n",
    "    \n",
    "sort_remove_last(fruits)\n",
    "\n",
    "print(\"Outside \", fruits)"
   ]
  },
  {
   "cell_type": "code",
   "execution_count": 6,
   "metadata": {},
   "outputs": [],
   "source": [
    "dict1 = {\"Sabu\" : 100, \"Kohli\" : 99, \"Ronaldo\" : 98}"
   ]
  },
  {
   "cell_type": "code",
   "execution_count": 7,
   "metadata": {},
   "outputs": [
    {
     "name": "stdout",
     "output_type": "stream",
     "text": [
      "{'Sabu': 100, 'Kohli': 99, 'Ronaldo': 98, 'Sehwag': 97}\n",
      "\n",
      "Outside  {'Sabu': 100, 'Kohli': 99, 'Ronaldo': 98, 'Sehwag': 97}\n"
     ]
    }
   ],
   "source": [
    "def changeDict(dict2):\n",
    "    \n",
    "    dict2[\"Sehwag\"] = 97\n",
    "    \n",
    "    print(dict2)\n",
    "    \n",
    "changeDict(dict1)\n",
    "\n",
    "print()\n",
    "\n",
    "print(\"Outside \", dict1)"
   ]
  },
  {
   "cell_type": "code",
   "execution_count": null,
   "metadata": {},
   "outputs": [],
   "source": []
  }
 ],
 "metadata": {
  "kernelspec": {
   "display_name": "Python 3",
   "language": "python",
   "name": "python3"
  },
  "language_info": {
   "codemirror_mode": {
    "name": "ipython",
    "version": 3
   },
   "file_extension": ".py",
   "mimetype": "text/x-python",
   "name": "python",
   "nbconvert_exporter": "python",
   "pygments_lexer": "ipython3",
   "version": "3.8.5"
  }
 },
 "nbformat": 4,
 "nbformat_minor": 4
}
