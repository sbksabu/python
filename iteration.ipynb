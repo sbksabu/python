{
 "cells": [
  {
   "cell_type": "code",
   "execution_count": 1,
   "metadata": {},
   "outputs": [
    {
     "name": "stdout",
     "output_type": "stream",
     "text": [
      "Qutab Minar\n",
      "Chahar Bagh\n",
      "Yamuna\n",
      "Mahmud of Ghani\n"
     ]
    }
   ],
   "source": [
    "for i in [\"Qutab Minar\", \"Chahar Bagh\", \"Yamuna\", \"Mahmud of Ghani\"]:\n",
    "    print(i)"
   ]
  },
  {
   "cell_type": "code",
   "execution_count": 2,
   "metadata": {},
   "outputs": [
    {
     "name": "stdout",
     "output_type": "stream",
     "text": [
      "M\n",
      "a\n",
      "h\n",
      "m\n",
      "u\n",
      "d\n",
      " \n",
      "G\n",
      "h\n",
      "a\n",
      "z\n",
      "n\n",
      "i\n"
     ]
    }
   ],
   "source": [
    "for i in \"Mahmud Ghazni\":\n",
    "    print(i)"
   ]
  },
  {
   "cell_type": "code",
   "execution_count": 3,
   "metadata": {},
   "outputs": [
    {
     "name": "stdout",
     "output_type": "stream",
     "text": [
      "1\n",
      "0\n",
      "0\n",
      "7\n"
     ]
    }
   ],
   "source": [
    "for i in \"1007\":\n",
    "    \n",
    "    print(i)"
   ]
  },
  {
   "cell_type": "code",
   "execution_count": 4,
   "metadata": {},
   "outputs": [
    {
     "name": "stdout",
     "output_type": "stream",
     "text": [
      "Dara Skuhoh\n",
      "Sabu\n"
     ]
    }
   ],
   "source": [
    " for i in \"Dara Skuhoh\", \"Sabu\":\n",
    "        \n",
    "        print(i)"
   ]
  },
  {
   "cell_type": "code",
   "execution_count": 7,
   "metadata": {},
   "outputs": [
    {
     "name": "stdout",
     "output_type": "stream",
     "text": [
      "Dog  one\n",
      "Dog  two\n",
      "Dog  three\n"
     ]
    }
   ],
   "source": [
    "dogs = (\"one\", \"two\", \"three\")\n",
    "\n",
    "for dog in dogs:\n",
    "    \n",
    "    print(\"Dog \",dog)"
   ]
  },
  {
   "cell_type": "code",
   "execution_count": 9,
   "metadata": {},
   "outputs": [],
   "source": [
    "name_age = ((\"Sabu\", 30), (\"Varsha\", 29), (\"Tara\", 11))"
   ]
  },
  {
   "cell_type": "code",
   "execution_count": 10,
   "metadata": {},
   "outputs": [
    {
     "name": "stdout",
     "output_type": "stream",
     "text": [
      "('Sabu', 30)\n",
      "('Varsha', 29)\n",
      "('Tara', 11)\n"
     ]
    }
   ],
   "source": [
    "for i in name_age:\n",
    "    \n",
    "    print(i)"
   ]
  },
  {
   "cell_type": "code",
   "execution_count": 12,
   "metadata": {},
   "outputs": [
    {
     "name": "stdout",
     "output_type": "stream",
     "text": [
      "Name is Sabu and Age is 30\n",
      "Name is Varsha and Age is 29\n",
      "Name is Tara and Age is 11\n"
     ]
    }
   ],
   "source": [
    "for i, (name, age) in enumerate (name_age):\n",
    "    \n",
    "    print(\"Name is %s and Age is %d\" %(name, age))"
   ]
  },
  {
   "cell_type": "code",
   "execution_count": 17,
   "metadata": {},
   "outputs": [
    {
     "name": "stdout",
     "output_type": "stream",
     "text": [
      "Sabu 30\n",
      "Varsha 29\n",
      "Tara 11\n"
     ]
    }
   ],
   "source": [
    "dic1 = {\"Sabu\": 30, \"Varsha\" : 29, \"Tara\" : 11}\n",
    "\n",
    "for name in dic1:\n",
    "    \n",
    "    print(name, dic1[name])"
   ]
  },
  {
   "cell_type": "code",
   "execution_count": 14,
   "metadata": {},
   "outputs": [
    {
     "name": "stdout",
     "output_type": "stream",
     "text": [
      "30\n",
      "29\n",
      "11\n"
     ]
    }
   ],
   "source": [
    "for i in dic1.values():\n",
    "    \n",
    "    print(i)"
   ]
  },
  {
   "cell_type": "code",
   "execution_count": 18,
   "metadata": {},
   "outputs": [
    {
     "name": "stdout",
     "output_type": "stream",
     "text": [
      "('Sabu', 30)\n",
      "('Varsha', 29)\n",
      "('Tara', 11)\n"
     ]
    }
   ],
   "source": [
    "for key_value in dic1.items():\n",
    "    \n",
    "    print(key_value)"
   ]
  },
  {
   "cell_type": "code",
   "execution_count": 20,
   "metadata": {},
   "outputs": [
    {
     "name": "stdout",
     "output_type": "stream",
     "text": [
      "The 0 th Name is Sabu and his or her age is 30\n",
      "The 1 th Name is Varsha and his or her age is 29\n",
      "The 2 th Name is Tara and his or her age is 11\n"
     ]
    }
   ],
   "source": [
    "for i, (name, age) in enumerate (dic1.items()):\n",
    "    \n",
    "    print(\"The %d th Name is %s and his or her age is %d\" %(i,name,age))"
   ]
  },
  {
   "cell_type": "code",
   "execution_count": 23,
   "metadata": {},
   "outputs": [
    {
     "name": "stdout",
     "output_type": "stream",
     "text": [
      "Quotient of 81 by 3 is 27\n",
      "Quotient of 108 by 3 is 36\n",
      "Quotient of 125 by 3 is 41\n",
      "Quotient of 58 by 3 is 19\n"
     ]
    }
   ],
   "source": [
    "num = [81, 108, 125, 58]\n",
    "\n",
    "for n1 in num:\n",
    "    \n",
    "    q1 = n1//3\n",
    "    \n",
    "    print(\"Quotient of %d by 3 is %d\" %(n1, q1))"
   ]
  },
  {
   "cell_type": "code",
   "execution_count": 27,
   "metadata": {},
   "outputs": [
    {
     "name": "stdout",
     "output_type": "stream",
     "text": [
      "Swauare of 81 is 6561\n",
      "Swauare of 108 is 11664\n",
      "Swauare of 125 is 15625\n",
      "Swauare of 58 is 3364\n",
      "No more numbers are present\n"
     ]
    }
   ],
   "source": [
    "for n2 in num:\n",
    "    \n",
    "    square = n2 ** 2\n",
    "    \n",
    "    print(\"Swauare of %d is %d\" %(n2, square)) \n",
    "    \n",
    "else:\n",
    "    \n",
    "    print(\"No more numbers are present\")"
   ]
  },
  {
   "cell_type": "code",
   "execution_count": 26,
   "metadata": {},
   "outputs": [
    {
     "name": "stdout",
     "output_type": "stream",
     "text": [
      "Enter the name : Alauddin Khalji\n",
      "15\n"
     ]
    }
   ],
   "source": [
    "str1 = input(\"Enter the name : \")\n",
    "\n",
    "len1 = 0\n",
    "\n",
    "for i in str1:\n",
    "    \n",
    "    len1 = len1 +1\n",
    "    \n",
    "print(len1)"
   ]
  },
  {
   "cell_type": "code",
   "execution_count": null,
   "metadata": {},
   "outputs": [],
   "source": []
  }
 ],
 "metadata": {
  "kernelspec": {
   "display_name": "Python 3",
   "language": "python",
   "name": "python3"
  },
  "language_info": {
   "codemirror_mode": {
    "name": "ipython",
    "version": 3
   },
   "file_extension": ".py",
   "mimetype": "text/x-python",
   "name": "python",
   "nbconvert_exporter": "python",
   "pygments_lexer": "ipython3",
   "version": "3.8.5"
  }
 },
 "nbformat": 4,
 "nbformat_minor": 4
}
