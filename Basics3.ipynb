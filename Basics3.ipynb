{
 "cells": [
  {
   "cell_type": "code",
   "execution_count": 1,
   "metadata": {},
   "outputs": [
    {
     "name": "stdout",
     "output_type": "stream",
     "text": [
      "Enter the names : Nur Jahan, Babur, Humayun, Akbar, Jahangir, Shah Jahan, Aurangazeb\n",
      "['Nur Jahan', ' Babur', ' Humayun', ' Akbar', ' Jahangir', ' Shah Jahan', ' Aurangazeb']\n",
      "[' Akbar', ' Aurangazeb', ' Babur', ' Humayun', ' Jahangir', ' Shah Jahan', 'Nur Jahan']\n"
     ]
    }
   ],
   "source": [
    "str1 = input(\"Enter the names : \")\n",
    "\n",
    "str1_lst = str1.split(\",\")\n",
    "\n",
    "print(str1_lst)\n",
    "\n",
    "str2 = sorted(str1_lst)\n",
    "\n",
    "print(str2)"
   ]
  },
  {
   "cell_type": "code",
   "execution_count": 2,
   "metadata": {},
   "outputs": [
    {
     "name": "stdout",
     "output_type": "stream",
     "text": [
      "Type the Sentence : Aurangazeb Aurangazeb humiliated Shivaji Shivaji which was not Mughal culture\n"
     ]
    },
    {
     "ename": "NameError",
     "evalue": "name 'Str1' is not defined",
     "output_type": "error",
     "traceback": [
      "\u001b[1;31m---------------------------------------------------------------------------\u001b[0m",
      "\u001b[1;31mNameError\u001b[0m                                 Traceback (most recent call last)",
      "\u001b[1;32m<ipython-input-2-6f96ae9c7c2f>\u001b[0m in \u001b[0;36m<module>\u001b[1;34m\u001b[0m\n\u001b[0;32m      1\u001b[0m \u001b[0mstr1\u001b[0m \u001b[1;33m=\u001b[0m \u001b[0minput\u001b[0m\u001b[1;33m(\u001b[0m\u001b[1;34m\"Type the Sentence : \"\u001b[0m\u001b[1;33m)\u001b[0m\u001b[1;33m\u001b[0m\u001b[1;33m\u001b[0m\u001b[0m\n\u001b[0;32m      2\u001b[0m \u001b[1;33m\u001b[0m\u001b[0m\n\u001b[1;32m----> 3\u001b[1;33m \u001b[0mprint\u001b[0m\u001b[1;33m(\u001b[0m\u001b[0mStr1\u001b[0m\u001b[1;33m)\u001b[0m\u001b[1;33m\u001b[0m\u001b[1;33m\u001b[0m\u001b[0m\n\u001b[0m\u001b[0;32m      4\u001b[0m \u001b[1;33m\u001b[0m\u001b[0m\n\u001b[0;32m      5\u001b[0m \u001b[0mstr2\u001b[0m \u001b[1;33m=\u001b[0m \u001b[0mstr1\u001b[0m\u001b[1;33m.\u001b[0m\u001b[0msplit\u001b[0m\u001b[1;33m(\u001b[0m\u001b[1;34m\" \"\u001b[0m\u001b[1;33m)\u001b[0m\u001b[1;33m\u001b[0m\u001b[1;33m\u001b[0m\u001b[0m\n",
      "\u001b[1;31mNameError\u001b[0m: name 'Str1' is not defined"
     ]
    }
   ],
   "source": [
    "str1 = input(\"Type the Sentence : \")\n",
    "\n",
    "print(Str1)\n",
    "\n",
    "str2 = str1.split(\" \")\n",
    "\n",
    "str3 = set(str2)\n",
    "\n",
    "str4 = \" \".join(str3)\n",
    "\n",
    "print(str4)"
   ]
  },
  {
   "cell_type": "code",
   "execution_count": 3,
   "metadata": {},
   "outputs": [
    {
     "name": "stdout",
     "output_type": "stream",
     "text": [
      "Type the Sentence : Aurangazeb Aurangazeb humiliated Shivaji Shivaji which was not Mughal culture\n",
      "Aurangazeb Aurangazeb humiliated Shivaji Shivaji which was not Mughal culture\n",
      "Aurangazeb Mughal humiliated Shivaji which was culture not\n"
     ]
    }
   ],
   "source": [
    "str1 = input(\"Type the Sentence : \")\n",
    "\n",
    "print(str1)\n",
    "\n",
    "str2 = str1.split(\" \")\n",
    "\n",
    "str3 = set(str2)\n",
    "\n",
    "str4 = \" \".join(str3)\n",
    "\n",
    "print(str4)"
   ]
  },
  {
   "cell_type": "code",
   "execution_count": 5,
   "metadata": {},
   "outputs": [
    {
     "data": {
      "text/plain": [
       "{1: 1, 2: 4, 3: 27}"
      ]
     },
     "execution_count": 5,
     "metadata": {},
     "output_type": "execute_result"
    }
   ],
   "source": [
    "squares = dict()\n",
    "\n",
    "squares[1] = 1\n",
    "\n",
    "squares[2] = 2 ** 2\n",
    "\n",
    "squares[3] = 3 ** 3\n",
    "\n",
    "squares"
   ]
  },
  {
   "cell_type": "code",
   "execution_count": 6,
   "metadata": {},
   "outputs": [
    {
     "name": "stdout",
     "output_type": "stream",
     "text": [
      "Enter the value : Mirza Kamraan\n",
      "Enter the 2nd value : Mirza Hakim\n"
     ]
    },
    {
     "data": {
      "text/plain": [
       "{' ', 'M', 'a', 'i', 'm', 'r', 'z'}"
      ]
     },
     "execution_count": 6,
     "metadata": {},
     "output_type": "execute_result"
    }
   ],
   "source": [
    "str1 = input(\"Enter the value : \")\n",
    "\n",
    "str2 = input(\"Enter the 2nd value : \")\n",
    "\n",
    "set1 = set(str1)\n",
    "set2 = set(str2)\n",
    "\n",
    "common = set1.intersection(set2)\n",
    "\n",
    "common"
   ]
  },
  {
   "cell_type": "code",
   "execution_count": 9,
   "metadata": {},
   "outputs": [
    {
     "data": {
      "text/plain": [
       "[50, 60, 70, 80]"
      ]
     },
     "execution_count": 9,
     "metadata": {},
     "output_type": "execute_result"
    }
   ],
   "source": [
    "lst = [10, 20, 30, 40, 50, 60, 70, 80]\n",
    "\n",
    "len1 = len(lst)\n",
    "\n",
    "half = int (len1 / 2)\n",
    "\n",
    "lst1 = lst[:half]\n",
    "lst2 = lst[half:]\n",
    "\n",
    "lst1\n",
    "lst2"
   ]
  },
  {
   "cell_type": "code",
   "execution_count": null,
   "metadata": {},
   "outputs": [],
   "source": []
  }
 ],
 "metadata": {
  "kernelspec": {
   "display_name": "Python 3",
   "language": "python",
   "name": "python3"
  },
  "language_info": {
   "codemirror_mode": {
    "name": "ipython",
    "version": 3
   },
   "file_extension": ".py",
   "mimetype": "text/x-python",
   "name": "python",
   "nbconvert_exporter": "python",
   "pygments_lexer": "ipython3",
   "version": "3.8.5"
  }
 },
 "nbformat": 4,
 "nbformat_minor": 4
}
