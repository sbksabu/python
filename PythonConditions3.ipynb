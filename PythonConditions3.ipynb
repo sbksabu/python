{
 "cells": [
  {
   "cell_type": "code",
   "execution_count": 1,
   "metadata": {},
   "outputs": [],
   "source": [
    "desert_tu = (\"Al Azizia\", \"Tifilalet\", \"Chad\", \"Mauritania\", \"Drass\")"
   ]
  },
  {
   "cell_type": "code",
   "execution_count": 2,
   "metadata": {},
   "outputs": [
    {
     "name": "stdout",
     "output_type": "stream",
     "text": [
      "one of the 11 countries\n"
     ]
    }
   ],
   "source": [
    "if \"Chad\" in desert_tu:\n",
    "    \n",
    "    print(\"one of the 11 countries\")\n",
    "    \n",
    "else:\n",
    "    \n",
    "    print(\"Its not Sahara\")"
   ]
  },
  {
   "cell_type": "code",
   "execution_count": 3,
   "metadata": {},
   "outputs": [],
   "source": [
    "cold_desert = {\"Ladakh\" : \"Karakoram and Zanskar\", \"Gorges\" : \"Indus\", \"Khapa Chan\" : \"SnowLand\"}"
   ]
  },
  {
   "cell_type": "code",
   "execution_count": 10,
   "metadata": {},
   "outputs": [
    {
     "name": "stdout",
     "output_type": "stream",
     "text": [
      "Its a cold desert Karakoram and Zanskar\n"
     ]
    }
   ],
   "source": [
    "if \"Ladakh\" in cold_desert :\n",
    "    \n",
    "    print(\"Its a cold desert\", cold_desert[\"Ladakh\"])\n",
    "    \n",
    "else :\n",
    "    \n",
    "    print(\"failed\")\n",
    "    "
   ]
  },
  {
   "cell_type": "code",
   "execution_count": 11,
   "metadata": {},
   "outputs": [
    {
     "name": "stdout",
     "output_type": "stream",
     "text": [
      "failed\n"
     ]
    }
   ],
   "source": [
    "if \"Langalacha La\" in cold_desert :\n",
    "    \n",
    "    print(\"Its a cold desert\", cold_desert[\"Ladakh\"])\n",
    "    \n",
    "else :\n",
    "    \n",
    "    print(\"failed\")\n",
    "    cold_desert[\"Langalacha La\"] = \"Tanglang La\""
   ]
  },
  {
   "cell_type": "code",
   "execution_count": 12,
   "metadata": {},
   "outputs": [
    {
     "data": {
      "text/plain": [
       "{'Ladakh': 'Karakoram and Zanskar',\n",
       " 'Gorges': 'Indus',\n",
       " 'Khapa Chan': 'SnowLand',\n",
       " 'Langalacha La': 'Tanglang La'}"
      ]
     },
     "execution_count": 12,
     "metadata": {},
     "output_type": "execute_result"
    }
   ],
   "source": [
    "cold_desert"
   ]
  },
  {
   "cell_type": "code",
   "execution_count": null,
   "metadata": {},
   "outputs": [],
   "source": []
  }
 ],
 "metadata": {
  "kernelspec": {
   "display_name": "Python 3",
   "language": "python",
   "name": "python3"
  },
  "language_info": {
   "codemirror_mode": {
    "name": "ipython",
    "version": 3
   },
   "file_extension": ".py",
   "mimetype": "text/x-python",
   "name": "python",
   "nbconvert_exporter": "python",
   "pygments_lexer": "ipython3",
   "version": "3.8.5"
  }
 },
 "nbformat": 4,
 "nbformat_minor": 4
}
