{
 "cells": [
  {
   "cell_type": "code",
   "execution_count": 2,
   "metadata": {},
   "outputs": [
    {
     "name": "stdout",
     "output_type": "stream",
     "text": [
      "0\n",
      "1\n",
      "2\n",
      "3\n",
      "4\n",
      "5\n",
      "6\n",
      "7\n",
      "8\n",
      "9\n"
     ]
    }
   ],
   "source": [
    "num = 0\n",
    "while num in range (10):\n",
    "    \n",
    "    print(num)\n",
    "    \n",
    "    num += 1"
   ]
  },
  {
   "cell_type": "code",
   "execution_count": 3,
   "metadata": {},
   "outputs": [
    {
     "name": "stdout",
     "output_type": "stream",
     "text": [
      "0 is an even number\n",
      "1 is an Odd number\n",
      "2 is an even number\n",
      "3 is an Odd number\n",
      "4 is an even number\n",
      "5 is an Odd number\n",
      "6 is an even number\n",
      "7 is an Odd number\n",
      "8 is an even number\n",
      "9 is an Odd number\n"
     ]
    }
   ],
   "source": [
    "num = 0\n",
    "while num in range (10):\n",
    "    \n",
    "    if num % 2 == 0:\n",
    "        \n",
    "        print(\"%d is an even number\" %num)\n",
    "        \n",
    "    else:\n",
    "        \n",
    "        print(\"%d is an Odd number\" %num)\n",
    "        \n",
    "    num += 1"
   ]
  },
  {
   "cell_type": "code",
   "execution_count": 6,
   "metadata": {},
   "outputs": [
    {
     "name": "stdout",
     "output_type": "stream",
     "text": [
      "Enter the number12365478920\n",
      "Number of digits in 0 is 11 \n"
     ]
    }
   ],
   "source": [
    "value = int(input(\"Enter the number\"))\n",
    "count = 0\n",
    "while value > 0:\n",
    "    \n",
    "    value = value // 10\n",
    "    \n",
    "    count += 1\n",
    "    \n",
    "print(\"Number of digits in %d is %d \" %(value, count))"
   ]
  },
  {
   "cell_type": "code",
   "execution_count": 7,
   "metadata": {},
   "outputs": [
    {
     "name": "stdout",
     "output_type": "stream",
     "text": [
      "1\n",
      "2\n",
      "3\n",
      "4\n",
      "5\n"
     ]
    }
   ],
   "source": [
    "x, y = 0, 5\n",
    "\n",
    "while(x < y) : x += 1 ; print(x)"
   ]
  },
  {
   "cell_type": "code",
   "execution_count": 8,
   "metadata": {},
   "outputs": [
    {
     "name": "stdout",
     "output_type": "stream",
     "text": [
      "1 1\n",
      "1 2\n",
      "1 3\n",
      "1 4\n",
      "2 1\n",
      "2 2\n",
      "2 3\n",
      "2 4\n",
      "3 1\n",
      "3 2\n",
      "3 3\n",
      "3 4\n",
      "4 1\n",
      "4 2\n",
      "4 3\n",
      "4 4\n"
     ]
    }
   ],
   "source": [
    "x = 1\n",
    "\n",
    "while x < 5:\n",
    "    \n",
    "    y = 1\n",
    "    \n",
    "    while y < 5:\n",
    "        \n",
    "        print(x, y)\n",
    "        \n",
    "        y += 1\n",
    "        \n",
    "    x += 1"
   ]
  },
  {
   "cell_type": "code",
   "execution_count": 9,
   "metadata": {},
   "outputs": [
    {
     "name": "stdout",
     "output_type": "stream",
     "text": [
      "10\n",
      "20\n",
      "30\n",
      "40\n",
      "2\n",
      "4\n",
      "7\n"
     ]
    }
   ],
   "source": [
    "num = [10, 20, 30, 40, 2, 4, 7]\n",
    "\n",
    "count = 0\n",
    "\n",
    "while count < len(num):\n",
    "    \n",
    "    print(num[count])\n",
    "    \n",
    "    count += 1"
   ]
  },
  {
   "cell_type": "code",
   "execution_count": 10,
   "metadata": {},
   "outputs": [
    {
     "name": "stdout",
     "output_type": "stream",
     "text": [
      "113\n"
     ]
    }
   ],
   "source": [
    "sum1 = sum(num)\n",
    "\n",
    "print(sum1)"
   ]
  },
  {
   "cell_type": "code",
   "execution_count": null,
   "metadata": {},
   "outputs": [],
   "source": [
    "even = []\n",
    "\n",
    "odd = []\n",
    "\n",
    "num = [10, 20, 30, 40, 2, 4, 7]\n",
    "\n",
    "count = 0\n",
    "\n",
    "while count < len(num):\n",
    "    \n",
    "    if (num[count] % 2 == 0 ):\n",
    "        \n",
    "        even.append(num[count])\n",
    "        \n",
    "    else:\n",
    "        \n",
    "        odd.append(num[count])\n",
    "        \n",
    "print(odd, even)\n"
   ]
  },
  {
   "cell_type": "code",
   "execution_count": null,
   "metadata": {},
   "outputs": [],
   "source": [
    "even = []\n",
    "\n",
    "odd = []\n",
    "\n",
    "num = [10, 20, 30, 40, 2, 4, 7]\n",
    "\n",
    "count = 0\n",
    "\n",
    "while count < len(num):\n",
    "    \n",
    "    if (num[count] % 2 == 0 ):\n",
    "        \n",
    "        even.append(num[count])\n",
    "        \n",
    "    else:\n",
    "        \n",
    "        odd.append(num[count])\n",
    "    \n",
    "    count += 1\n",
    "    \n",
    "print(odd, even)"
   ]
  },
  {
   "cell_type": "code",
   "execution_count": null,
   "metadata": {},
   "outputs": [],
   "source": []
  }
 ],
 "metadata": {
  "kernelspec": {
   "display_name": "Python 3",
   "language": "python",
   "name": "python3"
  },
  "language_info": {
   "codemirror_mode": {
    "name": "ipython",
    "version": 3
   },
   "file_extension": ".py",
   "mimetype": "text/x-python",
   "name": "python",
   "nbconvert_exporter": "python",
   "pygments_lexer": "ipython3",
   "version": "3.8.5"
  }
 },
 "nbformat": 4,
 "nbformat_minor": 4
}
