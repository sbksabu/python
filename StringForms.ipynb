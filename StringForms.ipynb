{
 "cells": [
  {
   "cell_type": "code",
   "execution_count": 1,
   "metadata": {},
   "outputs": [
    {
     "name": "stdout",
     "output_type": "stream",
     "text": [
      "Select PM in Single Quote\n"
     ]
    }
   ],
   "source": [
    "print ('Select PM in Single Quote')"
   ]
  },
  {
   "cell_type": "code",
   "execution_count": 2,
   "metadata": {},
   "outputs": [
    {
     "name": "stdout",
     "output_type": "stream",
     "text": [
      "Control, guide and correct the government in double quote\n"
     ]
    }
   ],
   "source": [
    "print (\"Control, guide and correct the government in double quote\")"
   ]
  },
  {
   "cell_type": "code",
   "execution_count": 3,
   "metadata": {},
   "outputs": [
    {
     "name": "stdout",
     "output_type": "stream",
     "text": [
      "Making Law 245 Rajyasabha MPs 2 Anglo Indian representatives\n"
     ]
    }
   ],
   "source": [
    "print ('Making Law', \"245 Rajyasabha MPs\", \"\"\"2 Anglo Indian representatives\"\"\")"
   ]
  },
  {
   "cell_type": "code",
   "execution_count": 4,
   "metadata": {},
   "outputs": [
    {
     "name": "stdout",
     "output_type": "stream",
     "text": [
      "12\n",
      "How many MPs can be nominated by the President of India Ask ATM  And the answer is  12\n"
     ]
    }
   ],
   "source": [
    "Question = \"How many MPs can be nominated by the President of India\"\n",
    "\n",
    "Answer = input()\n",
    "\n",
    "print (Question, \"Ask ATM \", \"And the answer is \", Answer)"
   ]
  },
  {
   "cell_type": "code",
   "execution_count": 5,
   "metadata": {},
   "outputs": [
    {
     "name": "stdout",
     "output_type": "stream",
     "text": [
      "Indian state assigns the \"executives\" to implement the law\n"
     ]
    }
   ],
   "source": [
    "print('Indian state assigns the \"executives\" to implement the law')"
   ]
  },
  {
   "cell_type": "code",
   "execution_count": 6,
   "metadata": {},
   "outputs": [
    {
     "name": "stdout",
     "output_type": "stream",
     "text": [
      "I'm learning Python\n"
     ]
    }
   ],
   "source": [
    "print('I\\'m learning Python')"
   ]
  },
  {
   "cell_type": "code",
   "execution_count": 7,
   "metadata": {},
   "outputs": [
    {
     "ename": "SyntaxError",
     "evalue": "Missing parentheses in call to 'print'. Did you mean print(\"I'm saying \\\"Hello\\\" to everyone\")? (<ipython-input-7-92b3a369d0a5>, line 1)",
     "output_type": "error",
     "traceback": [
      "\u001b[1;36m  File \u001b[1;32m\"<ipython-input-7-92b3a369d0a5>\"\u001b[1;36m, line \u001b[1;32m1\u001b[0m\n\u001b[1;33m    print \"I'm saying \\\"Hello\\\" to everyone\"\u001b[0m\n\u001b[1;37m          ^\u001b[0m\n\u001b[1;31mSyntaxError\u001b[0m\u001b[1;31m:\u001b[0m Missing parentheses in call to 'print'. Did you mean print(\"I'm saying \\\"Hello\\\" to everyone\")?\n"
     ]
    }
   ],
   "source": [
    "print \"I'm saying \\\"Hello\\\" to everyone\""
   ]
  },
  {
   "cell_type": "code",
   "execution_count": 8,
   "metadata": {},
   "outputs": [
    {
     "name": "stdout",
     "output_type": "stream",
     "text": [
      "I'm saying \"Hello\" to everyone\n"
     ]
    }
   ],
   "source": [
    "print (\"I'm saying \\\"Hello\\\" to everyone\")"
   ]
  },
  {
   "cell_type": "code",
   "execution_count": 9,
   "metadata": {},
   "outputs": [
    {
     "name": "stdout",
     "output_type": "stream",
     "text": [
      "Touktea is a Cyclone \n",
      " Due to deep depression\n"
     ]
    }
   ],
   "source": [
    "print (\"Touktea is a Cyclone \\n Due to deep depression\")"
   ]
  },
  {
   "cell_type": "code",
   "execution_count": 10,
   "metadata": {},
   "outputs": [
    {
     "name": "stdout",
     "output_type": "stream",
     "text": [
      "This fucking lockdown was going on and on\n",
      "and on again\n",
      "which we never know\n"
     ]
    }
   ],
   "source": [
    "print(\"\"\"This fucking lockdown was going on and on\n",
    "and on again\n",
    "which we never know\"\"\")"
   ]
  },
  {
   "cell_type": "code",
   "execution_count": null,
   "metadata": {},
   "outputs": [],
   "source": []
  }
 ],
 "metadata": {
  "kernelspec": {
   "display_name": "Python 3",
   "language": "python",
   "name": "python3"
  },
  "language_info": {
   "codemirror_mode": {
    "name": "ipython",
    "version": 3
   },
   "file_extension": ".py",
   "mimetype": "text/x-python",
   "name": "python",
   "nbconvert_exporter": "python",
   "pygments_lexer": "ipython3",
   "version": "3.8.5"
  }
 },
 "nbformat": 4,
 "nbformat_minor": 4
}
