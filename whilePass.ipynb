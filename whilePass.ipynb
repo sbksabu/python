{
 "cells": [
  {
   "cell_type": "code",
   "execution_count": 1,
   "metadata": {},
   "outputs": [
    {
     "name": "stdout",
     "output_type": "stream",
     "text": [
      "Enter the limit : 31\n",
      "2 is a prime number\n",
      "3 is a prime number\n",
      "5 is a prime number\n",
      "7 is a prime number\n",
      "11 is a prime number\n",
      "13 is a prime number\n",
      "17 is a prime number\n",
      "19 is a prime number\n",
      "23 is a prime number\n",
      "29 is a prime number\n",
      "31 is a prime number\n"
     ]
    }
   ],
   "source": [
    "limit = int(input(\"Enter the limit : \"))\n",
    "\n",
    "num = 2\n",
    "\n",
    "lst1 = []\n",
    "\n",
    "while num < limit +1 :\n",
    "    \n",
    "    isPrime = True\n",
    "    \n",
    "    count = 2\n",
    "    \n",
    "    while count < num:\n",
    "        \n",
    "        if num % count == 0:\n",
    "            \n",
    "            isPrime = False\n",
    "            break\n",
    "            \n",
    "        count += 1\n",
    "            \n",
    "    if isPrime:\n",
    "            \n",
    "        print(\"%d is a prime number\" %num)\n",
    "    \n",
    "    num += 1"
   ]
  },
  {
   "cell_type": "code",
   "execution_count": 2,
   "metadata": {},
   "outputs": [
    {
     "name": "stdout",
     "output_type": "stream",
     "text": [
      "Enter the number : 12\n",
      "The eligible number is 12\n",
      "The eligible number is 11\n",
      "The eligible number is 10\n",
      "The eligible number is 9\n",
      "The eligible number is 8\n",
      "The eligible number is 7\n",
      "Limit is in the pass block\n",
      "Limit is in the pass block\n",
      "Limit is in the pass block\n",
      "The eligible number is 3\n",
      "The eligible number is 2\n",
      "The eligible number is 1\n",
      "Done !\n"
     ]
    }
   ],
   "source": [
    "limit = int(input(\"Enter the number : \"))\n",
    "\n",
    "while limit > 0:\n",
    "    \n",
    "    if limit < 7 and limit > 3:\n",
    "        \n",
    "        pass\n",
    "        print(\"Limit is in the pass block\")\n",
    "        \n",
    "    else:\n",
    "        \n",
    "        print(\"The eligible number is %d\" %limit)\n",
    "        \n",
    "    limit -= 1\n",
    "    \n",
    "print(\"Done !\")"
   ]
  },
  {
   "cell_type": "code",
   "execution_count": null,
   "metadata": {},
   "outputs": [],
   "source": []
  }
 ],
 "metadata": {
  "kernelspec": {
   "display_name": "Python 3",
   "language": "python",
   "name": "python3"
  },
  "language_info": {
   "codemirror_mode": {
    "name": "ipython",
    "version": 3
   },
   "file_extension": ".py",
   "mimetype": "text/x-python",
   "name": "python",
   "nbconvert_exporter": "python",
   "pygments_lexer": "ipython3",
   "version": "3.8.5"
  }
 },
 "nbformat": 4,
 "nbformat_minor": 4
}
