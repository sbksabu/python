{
 "cells": [
  {
   "cell_type": "code",
   "execution_count": 1,
   "metadata": {},
   "outputs": [],
   "source": [
    "def sub_mark(phy, che, math, bio):\n",
    "    \n",
    "    dict1 = { \"Physics\" : phy,\n",
    "             \n",
    "             \"Chemistry\": che,\n",
    "             \n",
    "             \"Maths\": math,\n",
    "             \n",
    "             \"Biology\" : bio\n",
    "        \n",
    "    }\n",
    "    \n",
    "    sum1 = phy + che + math + bio\n",
    "    \n",
    "    return (dict1, sum1)"
   ]
  },
  {
   "cell_type": "code",
   "execution_count": 3,
   "metadata": {},
   "outputs": [
    {
     "data": {
      "text/plain": [
       "({'Physics': 95, 'Chemistry': 96, 'Maths': 96, 'Biology': 94}, 381)"
      ]
     },
     "execution_count": 3,
     "metadata": {},
     "output_type": "execute_result"
    }
   ],
   "source": [
    "sub_mark(che = 96, math = 96, phy=95, bio = 94)"
   ]
  },
  {
   "cell_type": "code",
   "execution_count": 4,
   "metadata": {},
   "outputs": [
    {
     "data": {
      "text/plain": [
       "[7, 15, 26, 68, 98]"
      ]
     },
     "execution_count": 4,
     "metadata": {},
     "output_type": "execute_result"
    }
   ],
   "source": [
    "num = [7, 98, 15, 68, 26]\n",
    "\n",
    "sorted(num)"
   ]
  },
  {
   "cell_type": "code",
   "execution_count": 7,
   "metadata": {},
   "outputs": [
    {
     "data": {
      "text/plain": [
       "[98, 68, 26, 15, 7]"
      ]
     },
     "execution_count": 7,
     "metadata": {},
     "output_type": "execute_result"
    }
   ],
   "source": [
    "sorted(num, reverse=True)"
   ]
  },
  {
   "cell_type": "code",
   "execution_count": 10,
   "metadata": {},
   "outputs": [
    {
     "name": "stdout",
     "output_type": "stream",
     "text": [
      "Sabu|May|June\n",
      "**********"
     ]
    }
   ],
   "source": [
    "print(\"Sabu\", \"May\", \"June\", sep=\"|\", end=\"\\n**********\")"
   ]
  },
  {
   "cell_type": "code",
   "execution_count": 3,
   "metadata": {},
   "outputs": [],
   "source": [
    "def stud_details(name, school, enrolled, phy, che, math, bio):\n",
    "    \n",
    "    dict1 = { \"Name\" : name,\n",
    "             \n",
    "             \"School\": school,\n",
    "             \n",
    "             \"Enrolled\": enrolled,\n",
    "             \n",
    "        \n",
    "    }\n",
    "    \n",
    "    sum1 = phy + che + math + bio\n",
    "    \n",
    "    return (dict1, sum1)"
   ]
  },
  {
   "cell_type": "code",
   "execution_count": 5,
   "metadata": {},
   "outputs": [
    {
     "data": {
      "text/plain": [
       "({'Name': 'Sabu', 'School': 'AUP Ayiroor', 'Enrolled': True}, 394)"
      ]
     },
     "execution_count": 5,
     "metadata": {},
     "output_type": "execute_result"
    }
   ],
   "source": [
    "stud_details(\"Sabu\", \"AUP Ayiroor\", enrolled=True, phy = 98, che= 99, math =100, bio=97)"
   ]
  },
  {
   "cell_type": "code",
   "execution_count": 7,
   "metadata": {},
   "outputs": [],
   "source": [
    "def stud_details(name, school, phy, che, math, bio, enrolled=False):\n",
    "    \n",
    "    dict1 = { \"Name\" : name,\n",
    "             \n",
    "             \"School\": school,\n",
    "             \n",
    "             \"Enrolled\": enrolled,\n",
    "             \n",
    "        \n",
    "    }\n",
    "    \n",
    "    sum1 = phy + che + math + bio\n",
    "    \n",
    "    return (dict1, sum1)"
   ]
  },
  {
   "cell_type": "code",
   "execution_count": 8,
   "metadata": {},
   "outputs": [
    {
     "data": {
      "text/plain": [
       "({'Name': 'Sabu', 'School': 'AUP Ayiroor', 'Enrolled': False}, 394)"
      ]
     },
     "execution_count": 8,
     "metadata": {},
     "output_type": "execute_result"
    }
   ],
   "source": [
    "stud_details(\"Sabu\", \"AUP Ayiroor\", phy = 98, che= 99, math =100, bio=97)"
   ]
  },
  {
   "cell_type": "code",
   "execution_count": 9,
   "metadata": {},
   "outputs": [],
   "source": [
    "def stud_details(name, school, phy, che, math, bio = 65, enrolled=False):\n",
    "    \n",
    "    dict1 = { \"Name\" : name,\n",
    "             \n",
    "             \"School\": school,\n",
    "             \n",
    "             \"Enrolled\": enrolled,\n",
    "             \n",
    "        \n",
    "    }\n",
    "    \n",
    "    sum1 = phy + che + math + bio\n",
    "    \n",
    "    return (dict1, sum1)"
   ]
  },
  {
   "cell_type": "code",
   "execution_count": 10,
   "metadata": {},
   "outputs": [
    {
     "data": {
      "text/plain": [
       "({'Name': 'Sabu', 'School': 'AUP Ayiroor', 'Enrolled': False}, 395)"
      ]
     },
     "execution_count": 10,
     "metadata": {},
     "output_type": "execute_result"
    }
   ],
   "source": [
    "stud_details(\"Sabu\", \"AUP Ayiroor\", phy = 98, che= 99, math =100, bio=98)"
   ]
  },
  {
   "cell_type": "code",
   "execution_count": 11,
   "metadata": {},
   "outputs": [
    {
     "data": {
      "text/plain": [
       "({'Name': 'Sabu', 'School': 'AUP Ayiroor', 'Enrolled': False}, 362)"
      ]
     },
     "execution_count": 11,
     "metadata": {},
     "output_type": "execute_result"
    }
   ],
   "source": [
    "stud_details(\"Sabu\", \"AUP Ayiroor\", phy = 98, che= 99, math =100)"
   ]
  },
  {
   "cell_type": "code",
   "execution_count": 12,
   "metadata": {},
   "outputs": [],
   "source": [
    "def stud_details(name = \"Sabu\", school = \"GMBHSS\", phy=98, che=99, math=100, bio = 95, enrolled=False):\n",
    "    \n",
    "    dict1 = { \"Name\" : name,\n",
    "             \n",
    "             \"School\": school,\n",
    "             \n",
    "             \"Enrolled\": enrolled,\n",
    "             \n",
    "        \n",
    "    }\n",
    "    \n",
    "    sum1 = phy + che + math + bio\n",
    "    \n",
    "    return (dict1, sum1)"
   ]
  },
  {
   "cell_type": "code",
   "execution_count": 13,
   "metadata": {},
   "outputs": [
    {
     "data": {
      "text/plain": [
       "({'Name': 'Sabu', 'School': 'GMBHSS', 'Enrolled': False}, 392)"
      ]
     },
     "execution_count": 13,
     "metadata": {},
     "output_type": "execute_result"
    }
   ],
   "source": [
    "stud_details()"
   ]
  },
  {
   "cell_type": "code",
   "execution_count": 14,
   "metadata": {},
   "outputs": [
    {
     "data": {
      "text/plain": [
       "({'Name': 'Sarath', 'School': 'GMBHSS', 'Enrolled': False}, 392)"
      ]
     },
     "execution_count": 14,
     "metadata": {},
     "output_type": "execute_result"
    }
   ],
   "source": [
    "stud_details(\"Sarath\")"
   ]
  },
  {
   "cell_type": "code",
   "execution_count": 15,
   "metadata": {},
   "outputs": [],
   "source": [
    "def prnt_fn(strng = \"\\n\"):\n",
    "    \n",
    "    print(strng)"
   ]
  },
  {
   "cell_type": "code",
   "execution_count": 16,
   "metadata": {},
   "outputs": [
    {
     "name": "stdout",
     "output_type": "stream",
     "text": [
      "\n",
      "\n"
     ]
    }
   ],
   "source": [
    "prnt_fn()"
   ]
  },
  {
   "cell_type": "code",
   "execution_count": 17,
   "metadata": {},
   "outputs": [
    {
     "name": "stdout",
     "output_type": "stream",
     "text": [
      "MOB\n"
     ]
    }
   ],
   "source": [
    "prnt_fn(\"MOB\")"
   ]
  },
  {
   "cell_type": "code",
   "execution_count": 18,
   "metadata": {},
   "outputs": [],
   "source": [
    "def print_fn(*args):\n",
    "    \n",
    "    arg_type = type(args)\n",
    "    \n",
    "    print(args, arg_type)"
   ]
  },
  {
   "cell_type": "code",
   "execution_count": 20,
   "metadata": {},
   "outputs": [
    {
     "name": "stdout",
     "output_type": "stream",
     "text": [
      "('Sabu', 97, 100) <class 'tuple'>\n"
     ]
    }
   ],
   "source": [
    "print_fn(\"Sabu\", 97, 100)"
   ]
  },
  {
   "cell_type": "code",
   "execution_count": 21,
   "metadata": {},
   "outputs": [
    {
     "name": "stdout",
     "output_type": "stream",
     "text": [
      "('Sahoo',) <class 'tuple'>\n"
     ]
    }
   ],
   "source": [
    "print_fn(\"Sahoo\")"
   ]
  },
  {
   "cell_type": "code",
   "execution_count": 22,
   "metadata": {},
   "outputs": [],
   "source": [
    "def print_fn(*args):\n",
    "    \n",
    "      \n",
    "    print(args)\n",
    "    "
   ]
  },
  {
   "cell_type": "code",
   "execution_count": 23,
   "metadata": {},
   "outputs": [],
   "source": [
    "lst = [10, 20, 30, 58]"
   ]
  },
  {
   "cell_type": "code",
   "execution_count": 24,
   "metadata": {},
   "outputs": [
    {
     "name": "stdout",
     "output_type": "stream",
     "text": [
      "([10, 20, 30, 58],)\n"
     ]
    }
   ],
   "source": [
    "print_fn(lst)"
   ]
  },
  {
   "cell_type": "code",
   "execution_count": 25,
   "metadata": {},
   "outputs": [
    {
     "name": "stdout",
     "output_type": "stream",
     "text": [
      "(10, 20, 30, 58)\n"
     ]
    }
   ],
   "source": [
    "print_fn(*lst)"
   ]
  },
  {
   "cell_type": "code",
   "execution_count": 27,
   "metadata": {},
   "outputs": [],
   "source": [
    "def students_college(college, city, *students):\n",
    "    \n",
    "    print(\"College is \", college)\n",
    "    print(\"City is \", city)\n",
    "    print(\"Student is \", students)"
   ]
  },
  {
   "cell_type": "code",
   "execution_count": 28,
   "metadata": {},
   "outputs": [
    {
     "name": "stdout",
     "output_type": "stream",
     "text": [
      "College is  Harward\n",
      "City is  New York\n",
      "Student is  ('Sabu', 'Kaushik')\n"
     ]
    }
   ],
   "source": [
    "students_college(\"Harward\", \"New York\", \"Sabu\", \"Kaushik\")"
   ]
  },
  {
   "cell_type": "code",
   "execution_count": 29,
   "metadata": {},
   "outputs": [],
   "source": [
    "def students_college( *students, college, city):\n",
    "    \n",
    "    print(\"College is \", college)\n",
    "    print(\"City is \", city)\n",
    "    print(\"Student is \", students)"
   ]
  },
  {
   "cell_type": "code",
   "execution_count": 30,
   "metadata": {},
   "outputs": [
    {
     "ename": "TypeError",
     "evalue": "students_college() missing 2 required keyword-only arguments: 'college' and 'city'",
     "output_type": "error",
     "traceback": [
      "\u001b[1;31m---------------------------------------------------------------------------\u001b[0m",
      "\u001b[1;31mTypeError\u001b[0m                                 Traceback (most recent call last)",
      "\u001b[1;32m<ipython-input-30-bfa0ed106b8d>\u001b[0m in \u001b[0;36m<module>\u001b[1;34m\u001b[0m\n\u001b[1;32m----> 1\u001b[1;33m \u001b[0mstudents_college\u001b[0m\u001b[1;33m(\u001b[0m\u001b[1;34m\"Myaavoo\"\u001b[0m\u001b[1;33m,\u001b[0m \u001b[1;34m\"Arabic\"\u001b[0m\u001b[1;33m,\u001b[0m \u001b[1;34m\"Assabah\"\u001b[0m\u001b[1;33m,\u001b[0m \u001b[1;34m\"CKM\"\u001b[0m\u001b[1;33m)\u001b[0m\u001b[1;33m\u001b[0m\u001b[1;33m\u001b[0m\u001b[0m\n\u001b[0m",
      "\u001b[1;31mTypeError\u001b[0m: students_college() missing 2 required keyword-only arguments: 'college' and 'city'"
     ]
    }
   ],
   "source": [
    "students_college(\"Myaavoo\", \"Arabic\", \"Assabah\", \"CKM\")"
   ]
  },
  {
   "cell_type": "code",
   "execution_count": 31,
   "metadata": {},
   "outputs": [
    {
     "name": "stdout",
     "output_type": "stream",
     "text": [
      "College is  Assabah\n",
      "City is  CKM\n",
      "Student is  ('Myaavoo', 'Arabic')\n"
     ]
    }
   ],
   "source": [
    "students_college(\"Myaavoo\", \"Arabic\", college = \"Assabah\", city=\"CKM\")"
   ]
  },
  {
   "cell_type": "code",
   "execution_count": 32,
   "metadata": {},
   "outputs": [],
   "source": [
    "def student_details (**kwargs):\n",
    "    \n",
    "    print(kwargs)\n",
    "    \n",
    "    print(type(kwargs))"
   ]
  },
  {
   "cell_type": "code",
   "execution_count": 34,
   "metadata": {},
   "outputs": [
    {
     "name": "stdout",
     "output_type": "stream",
     "text": [
      "{'Name': 'Sabu', 'subject': 'Bio'}\n",
      "<class 'dict'>\n"
     ]
    }
   ],
   "source": [
    "student_details (Name = \"Sabu\", subject=\"Bio\")"
   ]
  },
  {
   "cell_type": "code",
   "execution_count": 35,
   "metadata": {},
   "outputs": [
    {
     "name": "stdout",
     "output_type": "stream",
     "text": [
      "{'Name': 'Sabu', 'subject': 'Bio', 'Marks': 100}\n",
      "<class 'dict'>\n"
     ]
    }
   ],
   "source": [
    "student_details (Name = \"Sabu\", subject=\"Bio\", Marks = 100)"
   ]
  },
  {
   "cell_type": "code",
   "execution_count": 36,
   "metadata": {},
   "outputs": [
    {
     "ename": "TypeError",
     "evalue": "student_details() takes 0 positional arguments but 1 was given",
     "output_type": "error",
     "traceback": [
      "\u001b[1;31m---------------------------------------------------------------------------\u001b[0m",
      "\u001b[1;31mTypeError\u001b[0m                                 Traceback (most recent call last)",
      "\u001b[1;32m<ipython-input-36-e13944ce65c3>\u001b[0m in \u001b[0;36m<module>\u001b[1;34m\u001b[0m\n\u001b[0;32m      1\u001b[0m \u001b[0mdetails\u001b[0m \u001b[1;33m=\u001b[0m \u001b[1;33m{\u001b[0m\u001b[1;34m'Name'\u001b[0m\u001b[1;33m:\u001b[0m \u001b[1;34m'Sabu'\u001b[0m\u001b[1;33m,\u001b[0m \u001b[1;34m'subject'\u001b[0m\u001b[1;33m:\u001b[0m \u001b[1;34m'Bio'\u001b[0m\u001b[1;33m,\u001b[0m \u001b[1;34m'Marks'\u001b[0m\u001b[1;33m:\u001b[0m \u001b[1;36m100\u001b[0m\u001b[1;33m}\u001b[0m\u001b[1;33m\u001b[0m\u001b[1;33m\u001b[0m\u001b[0m\n\u001b[0;32m      2\u001b[0m \u001b[1;33m\u001b[0m\u001b[0m\n\u001b[1;32m----> 3\u001b[1;33m \u001b[0mstudent_details\u001b[0m\u001b[1;33m(\u001b[0m\u001b[0mdetails\u001b[0m\u001b[1;33m)\u001b[0m\u001b[1;33m\u001b[0m\u001b[1;33m\u001b[0m\u001b[0m\n\u001b[0m",
      "\u001b[1;31mTypeError\u001b[0m: student_details() takes 0 positional arguments but 1 was given"
     ]
    }
   ],
   "source": [
    "details = {'Name': 'Sabu', 'subject': 'Bio', 'Marks': 100}\n",
    "\n",
    "student_details(details)"
   ]
  },
  {
   "cell_type": "code",
   "execution_count": 37,
   "metadata": {},
   "outputs": [
    {
     "name": "stdout",
     "output_type": "stream",
     "text": [
      "{'Name': 'Sabu', 'subject': 'Bio', 'Marks': 100}\n",
      "<class 'dict'>\n"
     ]
    }
   ],
   "source": [
    "student_details(**details)"
   ]
  },
  {
   "cell_type": "code",
   "execution_count": 39,
   "metadata": {},
   "outputs": [
    {
     "ename": "SyntaxError",
     "evalue": "invalid syntax (<ipython-input-39-871083a12f4e>, line 1)",
     "output_type": "error",
     "traceback": [
      "\u001b[1;36m  File \u001b[1;32m\"<ipython-input-39-871083a12f4e>\"\u001b[1;36m, line \u001b[1;32m1\u001b[0m\n\u001b[1;33m    student_details(****details)\u001b[0m\n\u001b[1;37m                      ^\u001b[0m\n\u001b[1;31mSyntaxError\u001b[0m\u001b[1;31m:\u001b[0m invalid syntax\n"
     ]
    }
   ],
   "source": [
    "student_details(****details)"
   ]
  },
  {
   "cell_type": "code",
   "execution_count": 41,
   "metadata": {},
   "outputs": [],
   "source": [
    "def students_college(**students):\n",
    "    \n",
    "    if \"Name\" in students:\n",
    "          print(\"Student is \", students[\"Name\"])\n",
    "     \n",
    "    if \"subject\" in students:\n",
    "        \n",
    "        print(\"Subject is \", students[\"subject\"])\n",
    "  \n",
    "    "
   ]
  },
  {
   "cell_type": "code",
   "execution_count": 45,
   "metadata": {},
   "outputs": [
    {
     "name": "stdout",
     "output_type": "stream",
     "text": [
      "Student is  Sabu\n",
      "Subject is  Bio\n"
     ]
    }
   ],
   "source": [
    "details = {'Name': 'Sabu', 'subject': 'Bio', 'Marks': 100}\n",
    "\n",
    "students_college(**details)"
   ]
  },
  {
   "cell_type": "code",
   "execution_count": 46,
   "metadata": {},
   "outputs": [
    {
     "name": "stdout",
     "output_type": "stream",
     "text": [
      "Student is  Sabu\n"
     ]
    }
   ],
   "source": [
    "details = {'Name': 'Sabu'}\n",
    "\n",
    "students_college(**details)"
   ]
  },
  {
   "cell_type": "code",
   "execution_count": null,
   "metadata": {},
   "outputs": [],
   "source": []
  }
 ],
 "metadata": {
  "kernelspec": {
   "display_name": "Python 3",
   "language": "python",
   "name": "python3"
  },
  "language_info": {
   "codemirror_mode": {
    "name": "ipython",
    "version": 3
   },
   "file_extension": ".py",
   "mimetype": "text/x-python",
   "name": "python",
   "nbconvert_exporter": "python",
   "pygments_lexer": "ipython3",
   "version": "3.8.5"
  }
 },
 "nbformat": 4,
 "nbformat_minor": 4
}
