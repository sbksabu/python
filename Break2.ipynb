{
 "cells": [
  {
   "cell_type": "code",
   "execution_count": 1,
   "metadata": {},
   "outputs": [
    {
     "name": "stdout",
     "output_type": "stream",
     "text": [
      "He escaped\n"
     ]
    }
   ],
   "source": [
    "places = [\"US\", \"UK\", \"Brazil\", \"Cuba\", \"Mexico\", \"Japan\"]\n",
    "\n",
    "curr_place = \"Mali\"\n",
    "\n",
    "for pl1 in places:\n",
    "    \n",
    "    if pl1 == curr_place:\n",
    "        \n",
    "        print(\"We caught him\")\n",
    "        break\n",
    "        \n",
    "else:\n",
    "    \n",
    "    print(\"He escaped\")"
   ]
  },
  {
   "cell_type": "code",
   "execution_count": 1,
   "metadata": {},
   "outputs": [
    {
     "name": "stdout",
     "output_type": "stream",
     "text": [
      "Enter the number : 23\n",
      "23 is a Prime Number\n"
     ]
    }
   ],
   "source": [
    "num = int(input(\"Enter the number : \"))\n",
    "\n",
    "for i in range(2, num//2):\n",
    "    \n",
    "    if num % i == 0:\n",
    "        \n",
    "        print(\"%d is not a prime number\" %num)\n",
    "        \n",
    "        break\n",
    "\n",
    "else:\n",
    "    \n",
    "    print(\"%d is a Prime Number\" %num)\n",
    "    "
   ]
  },
  {
   "cell_type": "code",
   "execution_count": 1,
   "metadata": {},
   "outputs": [
    {
     "name": "stdout",
     "output_type": "stream",
     "text": [
      "Enter the passwordSabu\n",
      "Enter the password to match : Sabu\n",
      "Password Matches\n"
     ]
    }
   ],
   "source": [
    "pwd1 = input(\"Enter the password\")\n",
    "\n",
    "for i in range(3):\n",
    "    \n",
    "    pwd2 = input(\"Enter the password to match : \")\n",
    "    \n",
    "    if pwd1 == pwd2:\n",
    "        \n",
    "        print(\"Password Matches\")\n",
    "        break\n",
    "        \n",
    "else:\n",
    "    \n",
    "    print(\"You have crossed max number of attempts\")"
   ]
  },
  {
   "cell_type": "code",
   "execution_count": null,
   "metadata": {},
   "outputs": [],
   "source": []
  }
 ],
 "metadata": {
  "kernelspec": {
   "display_name": "Python 3",
   "language": "python",
   "name": "python3"
  },
  "language_info": {
   "codemirror_mode": {
    "name": "ipython",
    "version": 3
   },
   "file_extension": ".py",
   "mimetype": "text/x-python",
   "name": "python",
   "nbconvert_exporter": "python",
   "pygments_lexer": "ipython3",
   "version": "3.8.5"
  }
 },
 "nbformat": 4,
 "nbformat_minor": 4
}
