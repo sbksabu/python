{
 "cells": [
  {
   "cell_type": "code",
   "execution_count": 1,
   "metadata": {},
   "outputs": [
    {
     "name": "stdout",
     "output_type": "stream",
     "text": [
      "without duplicates :  {'Jenghis Khan', 'Panipat', 'Timur', 'Ibrahim Lodi', 'Mirza Khan'}\n",
      "Difference :  2\n"
     ]
    }
   ],
   "source": [
    "students = [\"Ibrahim Lodi\", \"Panipat\", \"Timur\", \"Jenghis Khan\", \"Mirza Khan\", \"Panipat\", \"Timur\"]\n",
    "\n",
    "len1 = len(students)\n",
    "\n",
    "student_set = set(students)\n",
    "\n",
    "len2 = len(student_set)\n",
    "\n",
    "print(\"without duplicates : \", student_set)\n",
    "\n",
    "print(\"Difference : \", len1 - len2)"
   ]
  },
  {
   "cell_type": "code",
   "execution_count": 2,
   "metadata": {},
   "outputs": [
    {
     "name": "stdout",
     "output_type": "stream",
     "text": [
      "There are 2 duplicates\n"
     ]
    }
   ],
   "source": [
    "students = [\"Ibrahim Lodi\", \"Panipat\", \"Timur\", \"Jenghis Khan\", \"Mirza Khan\", \"Panipat\", \"Timur\"]\n",
    "\n",
    "len1 = len(students)\n",
    "\n",
    "student_set = set(students)\n",
    "\n",
    "len2 = len(student_set)\n",
    "\n",
    "if len1 == len2 :\n",
    "    \n",
    "    print(\"There are no duplicates\")\n",
    "    \n",
    "else :\n",
    "    \n",
    "    print(\"There are {} duplicates\".format(len1-len2))"
   ]
  },
  {
   "cell_type": "code",
   "execution_count": 3,
   "metadata": {},
   "outputs": [
    {
     "name": "stdout",
     "output_type": "stream",
     "text": [
      "Enter comma separated values : 20,30,40,50\n"
     ]
    },
    {
     "data": {
      "text/plain": [
       "['20', '30', '40', '50']"
      ]
     },
     "execution_count": 3,
     "metadata": {},
     "output_type": "execute_result"
    }
   ],
   "source": [
    "values = input(\"Enter comma separated values : \")\n",
    "\n",
    "lst = values.split(\",\")\n",
    "\n",
    "lst"
   ]
  },
  {
   "cell_type": "code",
   "execution_count": null,
   "metadata": {},
   "outputs": [],
   "source": []
  }
 ],
 "metadata": {
  "kernelspec": {
   "display_name": "Python 3",
   "language": "python",
   "name": "python3"
  },
  "language_info": {
   "codemirror_mode": {
    "name": "ipython",
    "version": 3
   },
   "file_extension": ".py",
   "mimetype": "text/x-python",
   "name": "python",
   "nbconvert_exporter": "python",
   "pygments_lexer": "ipython3",
   "version": "3.8.5"
  }
 },
 "nbformat": 4,
 "nbformat_minor": 4
}
