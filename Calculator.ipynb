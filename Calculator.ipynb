{
 "cells": [
  {
   "cell_type": "code",
   "execution_count": 2,
   "metadata": {},
   "outputs": [
    {
     "name": "stdout",
     "output_type": "stream",
     "text": [
      "Enter the first number : 98\n",
      "Enter the operator : +\n",
      "Enter the 2nd number32\n",
      "Sum is :  130.0\n"
     ]
    }
   ],
   "source": [
    "num1 = float(input(\"Enter the first number : \"))\n",
    "\n",
    "operator = input(\"Enter the operator : \")\n",
    "\n",
    "num2 = float(input(\"Enter the 2nd number\"))\n",
    "\n",
    "if operator == \"+\":\n",
    "    \n",
    "    print(\"Sum is : \", num1+num2)\n",
    "    \n",
    "elif operator == \"-\":\n",
    "    \n",
    "    print(\"Difference is : \", num1-num2)"
   ]
  },
  {
   "cell_type": "code",
   "execution_count": null,
   "metadata": {},
   "outputs": [],
   "source": []
  }
 ],
 "metadata": {
  "kernelspec": {
   "display_name": "Python 3",
   "language": "python",
   "name": "python3"
  },
  "language_info": {
   "codemirror_mode": {
    "name": "ipython",
    "version": 3
   },
   "file_extension": ".py",
   "mimetype": "text/x-python",
   "name": "python",
   "nbconvert_exporter": "python",
   "pygments_lexer": "ipython3",
   "version": "3.8.5"
  }
 },
 "nbformat": 4,
 "nbformat_minor": 4
}
