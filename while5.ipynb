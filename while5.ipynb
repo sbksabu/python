{
 "cells": [
  {
   "cell_type": "code",
   "execution_count": 3,
   "metadata": {},
   "outputs": [
    {
     "name": "stdout",
     "output_type": "stream",
     "text": [
      "    C     F\n",
      "  -15   5.0\n",
      "   20  68.0\n",
      "  -10  14.0\n",
      "   30  86.0\n",
      "   31  87.8\n",
      "  -14   5.9\n"
     ]
    }
   ],
   "source": [
    "in_c = [-15, 20, -10, 30, 31, - 14.5]\n",
    "\n",
    "index = 0\n",
    "\n",
    "print(\"    C     F\")\n",
    "\n",
    "while index < len(in_c):\n",
    "    \n",
    "    C = in_c[index]\n",
    "    \n",
    "    F = (9.0/5) * C + 32\n",
    "    \n",
    "    print(\"%5d %5.1f\"%(C, F))\n",
    "    \n",
    "    index += 1"
   ]
  },
  {
   "cell_type": "code",
   "execution_count": 4,
   "metadata": {},
   "outputs": [
    {
     "name": "stdout",
     "output_type": "stream",
     "text": [
      "a\n",
      "b\n",
      "c\n",
      "d\n",
      "e\n",
      "f\n"
     ]
    }
   ],
   "source": [
    "alphb = (\"a\", \"b\", \"c\", \"d\", \"e\", \"f\")\n",
    "\n",
    "index = 0\n",
    "\n",
    "while index < len(alphb):\n",
    "    \n",
    "    print(alphb[index])\n",
    "    \n",
    "    index += 1"
   ]
  },
  {
   "cell_type": "code",
   "execution_count": null,
   "metadata": {},
   "outputs": [],
   "source": [
    "values = (\"Margery\", \"Michaels\", \"Sabu Balan\", \"Govardhanan Shobana\", \"Ragavi Muthukrishnan\", \"Logendran Kannuthurai\", \"Rahul Lal\")\n",
    "\n",
    "index = 0\n",
    "\n",
    "temp = \"\"\n",
    "\n",
    "while index < len(values):\n",
    "    \n",
    "    if (len(values[index]) > len(temp)):\n",
    "        \n",
    "        temp = values[index]\n",
    "        \n",
    "    else:\n",
    "        \n",
    "        continue\n",
    "    \n",
    "    index += 1\n",
    "    \n",
    "print(\"The name with max characters is %s\" %temp)\n"
   ]
  },
  {
   "cell_type": "code",
   "execution_count": null,
   "metadata": {},
   "outputs": [],
   "source": [
    "values = (\"Margery\", \"Michaels\", \"Sabu Balan\", \"Govardhanan Shobana\", \"Logendran Kannuthurai\", \"Rahul Lal\")\n",
    "\n",
    "index = 0\n",
    "\n",
    "temp = \"\"\n",
    "\n",
    "while index < len(values):\n",
    "    \n",
    "    if (len(values[index]) > len(temp)):\n",
    "        \n",
    "        temp = values[index]\n",
    "        \n",
    "    else:\n",
    "        \n",
    "        continue\n",
    "    \n",
    "    index += 1\n",
    "    \n",
    "print(\"The name with max characters is %s\" %temp)\n"
   ]
  },
  {
   "cell_type": "code",
   "execution_count": null,
   "metadata": {},
   "outputs": [],
   "source": []
  }
 ],
 "metadata": {
  "kernelspec": {
   "display_name": "Python 3",
   "language": "python",
   "name": "python3"
  },
  "language_info": {
   "codemirror_mode": {
    "name": "ipython",
    "version": 3
   },
   "file_extension": ".py",
   "mimetype": "text/x-python",
   "name": "python",
   "nbconvert_exporter": "python",
   "pygments_lexer": "ipython3",
   "version": "3.8.5"
  }
 },
 "nbformat": 4,
 "nbformat_minor": 4
}
