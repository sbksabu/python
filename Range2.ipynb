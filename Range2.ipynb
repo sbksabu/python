{
 "cells": [
  {
   "cell_type": "code",
   "execution_count": 1,
   "metadata": {},
   "outputs": [
    {
     "name": "stdout",
     "output_type": "stream",
     "text": [
      "The number 48 is divisible by 3\n",
      "Its not a multiple of 3\n",
      "Its not a multiple of 3\n",
      "The number 42 is divisible by 3\n",
      "Its not a multiple of 3\n",
      "Its not a multiple of 3\n",
      "The number 36 is divisible by 3\n",
      "Its not a multiple of 3\n",
      "Its not a multiple of 3\n",
      "The number 30 is divisible by 3\n",
      "Its not a multiple of 3\n",
      "Its not a multiple of 3\n",
      "The number 24 is divisible by 3\n",
      "Its not a multiple of 3\n",
      "Its not a multiple of 3\n",
      "The number 18 is divisible by 3\n",
      "Its not a multiple of 3\n",
      "Its not a multiple of 3\n",
      "The number 12 is divisible by 3\n",
      "Its not a multiple of 3\n"
     ]
    }
   ],
   "source": [
    "for i in reversed (range(10, 50, 2)):\n",
    "    \n",
    "    if i % 3 == 0:\n",
    "        \n",
    "        print(\"The number %d is divisible by 3\" %i)\n",
    "        \n",
    "    else:\n",
    "        \n",
    "        print(\"Its not a multiple of 3\")"
   ]
  },
  {
   "cell_type": "code",
   "execution_count": 2,
   "metadata": {},
   "outputs": [
    {
     "name": "stdout",
     "output_type": "stream",
     "text": [
      "[5, 10, 15, 20, 25, 30, 35, 40, 45, 50, 55, 60, 65, 70, 75, 80, 85, 90, 95, 100]\n"
     ]
    }
   ],
   "source": [
    "num_list = []\n",
    "\n",
    "for i in range (1,101):\n",
    "    \n",
    "    if i % 5 == 0:\n",
    "        \n",
    "        num_list.append(i)\n",
    "        \n",
    "print(num_list)"
   ]
  },
  {
   "cell_type": "code",
   "execution_count": 7,
   "metadata": {},
   "outputs": [
    {
     "name": "stdout",
     "output_type": "stream",
     "text": [
      "['200', '202', '204', '206', '208', '220', '222', '224', '226', '228', '240', '242', '244', '246', '248', '260', '262', '264', '266', '268', '280', '282', '284', '286', '288']\n",
      "200, 202, 204, 206, 208, 220, 222, 224, 226, 228, 240, 242, 244, 246, 248, 260, 262, 264, 266, 268, 280, 282, 284, 286, 288\n"
     ]
    }
   ],
   "source": [
    "even_dig = []\n",
    "\n",
    "for i in range (100, 301):\n",
    "    \n",
    "    str_nm = str(i)\n",
    "    \n",
    "    dig1 = int(str_nm[0])\n",
    "    \n",
    "    dig2 = int(str_nm[1])\n",
    "    \n",
    "    dig3 = int(str_nm[2])\n",
    "    \n",
    "    \n",
    "    if ((dig1 % 2 == 0) and (dig2 % 2 == 0) and (dig3 % 2 == 0)):\n",
    "        \n",
    "        even_dig.append(str_nm)\n",
    "\n",
    "print(even_dig)        \n",
    "print(\", \".join(even_dig))\n"
   ]
  },
  {
   "cell_type": "code",
   "execution_count": 12,
   "metadata": {},
   "outputs": [
    {
     "name": "stdout",
     "output_type": "stream",
     "text": [
      "['Vw', 'Mercedes', 'BMW', 'Honda', 'Toyota', 'Mazda']\n"
     ]
    }
   ],
   "source": [
    "vehicles = [[\"Vw\", \"Mercedes\", \"BMW\"], [\"Honda\", \"Toyota\", \"Mazda\"]]\n",
    "\n",
    "veh2 = []\n",
    "\n",
    "for car_list in vehicles:\n",
    "    \n",
    "    for veh in car_list:\n",
    "        \n",
    "        veh2.append(veh)\n",
    "        \n",
    "\n",
    "print(veh2)\n",
    "    \n",
    "    "
   ]
  },
  {
   "cell_type": "code",
   "execution_count": 11,
   "metadata": {},
   "outputs": [
    {
     "name": "stdout",
     "output_type": "stream",
     "text": [
      "2000 is a leap year\n",
      "2004 is a leap year\n",
      "2008 is a leap year\n",
      "2012 is a leap year\n",
      "2016 is a leap year\n",
      "2020 is a leap year\n",
      "2024 is a leap year\n",
      "2028 is a leap year\n",
      "2032 is a leap year\n",
      "2036 is a leap year\n",
      "2040 is a leap year\n",
      "2044 is a leap year\n",
      "2048 is a leap year\n",
      "2052 is a leap year\n",
      "2056 is a leap year\n",
      "2060 is a leap year\n",
      "2064 is a leap year\n",
      "2068 is a leap year\n",
      "2072 is a leap year\n",
      "2076 is a leap year\n",
      "2080 is a leap year\n",
      "2084 is a leap year\n",
      "2088 is a leap year\n",
      "2092 is a leap year\n",
      "2096 is a leap year\n"
     ]
    }
   ],
   "source": [
    "for i in range (2000, 2100):\n",
    "    \n",
    "    if i % 4 == 0:\n",
    "        \n",
    "        print(\"%d is a leap year\" %i)"
   ]
  },
  {
   "cell_type": "code",
   "execution_count": null,
   "metadata": {},
   "outputs": [],
   "source": []
  }
 ],
 "metadata": {
  "kernelspec": {
   "display_name": "Python 3",
   "language": "python",
   "name": "python3"
  },
  "language_info": {
   "codemirror_mode": {
    "name": "ipython",
    "version": 3
   },
   "file_extension": ".py",
   "mimetype": "text/x-python",
   "name": "python",
   "nbconvert_exporter": "python",
   "pygments_lexer": "ipython3",
   "version": "3.8.5"
  }
 },
 "nbformat": 4,
 "nbformat_minor": 4
}
