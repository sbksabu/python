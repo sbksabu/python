{
 "cells": [
  {
   "cell_type": "code",
   "execution_count": 2,
   "metadata": {},
   "outputs": [
    {
     "name": "stdout",
     "output_type": "stream",
     "text": [
      "The final list is  [1, 2, 3, 4, 6, 8, 9, 11, 12, 13, 16, 17, 18, 19, 22, 23, 24, 26, 27, 29, 31, 32, 33, 34, 36, 37, 38, 39, 41, 43, 44, 46, 47, 48]\n"
     ]
    }
   ],
   "source": [
    "lst1 = []\n",
    "\n",
    "index = 0\n",
    "\n",
    "while index in range (50):\n",
    "    \n",
    "    index += 1\n",
    "    \n",
    "    if index % 5 == 0 or index % 7 == 0:\n",
    "        \n",
    "        continue\n",
    "        \n",
    "    else:\n",
    "        \n",
    "        lst1.append(index)\n",
    "print(\"The final list is \", lst1)"
   ]
  },
  {
   "cell_type": "code",
   "execution_count": 5,
   "metadata": {},
   "outputs": [
    {
     "name": "stdout",
     "output_type": "stream",
     "text": [
      "Enter the input : hsfs\n",
      "Enter integers only - Continue block\n",
      "Enter the input : te\n",
      "Enter integers only - Continue block\n",
      "Enter the input : 10\n",
      "Cube of 10 is  1000 \n",
      "Enter the input : out\n",
      "Enter integers only - Continue block\n",
      "Enter the input : Out\n",
      "Breaking the execution\n"
     ]
    }
   ],
   "source": [
    "while True:\n",
    "    \n",
    "    value = input(\"Enter the input : \")\n",
    "    \n",
    "    if value == \"Out\":\n",
    "        \n",
    "        print(\"Breaking the execution\")\n",
    "        break\n",
    "        \n",
    "    if not value.isdigit():\n",
    "        \n",
    "        print(\"Enter integers only - Continue block\")\n",
    "        continue\n",
    "        \n",
    "    value1 = int(value)\n",
    "    \n",
    "    print(\"Cube of %d is %5d \" %(value1, value1 ** 3))"
   ]
  },
  {
   "cell_type": "code",
   "execution_count": null,
   "metadata": {},
   "outputs": [],
   "source": []
  }
 ],
 "metadata": {
  "kernelspec": {
   "display_name": "Python 3",
   "language": "python",
   "name": "python3"
  },
  "language_info": {
   "codemirror_mode": {
    "name": "ipython",
    "version": 3
   },
   "file_extension": ".py",
   "mimetype": "text/x-python",
   "name": "python",
   "nbconvert_exporter": "python",
   "pygments_lexer": "ipython3",
   "version": "3.8.5"
  }
 },
 "nbformat": 4,
 "nbformat_minor": 4
}
