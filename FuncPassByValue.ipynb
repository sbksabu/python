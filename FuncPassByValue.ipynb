{
 "cells": [
  {
   "cell_type": "code",
   "execution_count": 1,
   "metadata": {},
   "outputs": [],
   "source": [
    "fruits = [\"Mango\", \"Pineapple\", \"Papya\", \"Anar\"]"
   ]
  },
  {
   "cell_type": "code",
   "execution_count": 2,
   "metadata": {},
   "outputs": [
    {
     "name": "stdout",
     "output_type": "stream",
     "text": [
      "['Apple', 'Orange']\n",
      "\n",
      "Fruits outside the function ['Mango', 'Pineapple', 'Papya', 'Anar']\n"
     ]
    }
   ],
   "source": [
    "def changelist(fruits):\n",
    "    \n",
    "    fruits = [\"Apple\", \"Orange\"]\n",
    "    \n",
    "    print(fruits)\n",
    "    \n",
    "changelist(fruits)\n",
    "\n",
    "print()\n",
    "\n",
    "print(\"Fruits outside the function\", fruits)"
   ]
  },
  {
   "cell_type": "code",
   "execution_count": 3,
   "metadata": {},
   "outputs": [],
   "source": [
    "fruits = (\"Mango\", \"Pineapple\", \"Papya\", \"Anar\")"
   ]
  },
  {
   "cell_type": "code",
   "execution_count": 4,
   "metadata": {},
   "outputs": [
    {
     "name": "stdout",
     "output_type": "stream",
     "text": [
      "('Apple', 'Orange')\n",
      "\n",
      "Fruits outside the function ('Mango', 'Pineapple', 'Papya', 'Anar')\n"
     ]
    }
   ],
   "source": [
    "def changelist(fruits):\n",
    "    \n",
    "    fruits = (\"Apple\", \"Orange\")\n",
    "    \n",
    "    print(fruits)\n",
    "    \n",
    "changelist(fruits)\n",
    "\n",
    "print()\n",
    "\n",
    "print(\"Fruits outside the function\", fruits)"
   ]
  },
  {
   "cell_type": "code",
   "execution_count": null,
   "metadata": {},
   "outputs": [],
   "source": []
  }
 ],
 "metadata": {
  "kernelspec": {
   "display_name": "Python 3",
   "language": "python",
   "name": "python3"
  },
  "language_info": {
   "codemirror_mode": {
    "name": "ipython",
    "version": 3
   },
   "file_extension": ".py",
   "mimetype": "text/x-python",
   "name": "python",
   "nbconvert_exporter": "python",
   "pygments_lexer": "ipython3",
   "version": "3.8.5"
  }
 },
 "nbformat": 4,
 "nbformat_minor": 4
}
