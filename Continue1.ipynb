{
 "cells": [
  {
   "cell_type": "code",
   "execution_count": 2,
   "metadata": {},
   "outputs": [
    {
     "name": "stdout",
     "output_type": "stream",
     "text": [
      "M\n",
      "n\n",
      "d\n",
      "p\n",
      "i\n",
      "k\n",
      "Iter done\n"
     ]
    }
   ],
   "source": [
    "for i in \"Mandapika\":\n",
    "    \n",
    "    if i == \"a\":\n",
    "        \n",
    "        continue\n",
    "        \n",
    "    print(i)\n",
    "        \n",
    "print(\"Iter done\")"
   ]
  },
  {
   "cell_type": "code",
   "execution_count": 3,
   "metadata": {},
   "outputs": [
    {
     "name": "stdout",
     "output_type": "stream",
     "text": [
      "Kohli will be playing well\n",
      "Rahane will be playing well\n",
      "Pant will be playing well\n",
      "Gill will be playing well\n"
     ]
    }
   ],
   "source": [
    "for i in [\"Kohli\", \"Rahane\", \"Pant\", \"Gill\", \"Rohit\", \"Siraj\"]:\n",
    "    \n",
    "    if (i == \"Rohit\" or i == \"Siraj\"):\n",
    "        \n",
    "        continue\n",
    "        \n",
    "    else:\n",
    "        \n",
    "        print(\"%s will be playing well\" %i)"
   ]
  },
  {
   "cell_type": "code",
   "execution_count": 7,
   "metadata": {},
   "outputs": [
    {
     "name": "stdout",
     "output_type": "stream",
     "text": [
      "Odd Number is coming\n",
      "Odd Number is coming\n",
      "Odd Number is coming\n",
      "Odd Number is coming\n",
      "Odd Number is coming\n",
      "[1, 3, 5, 7, 9]\n"
     ]
    }
   ],
   "source": [
    "odd_num = []\n",
    "for i in range (1, 10):\n",
    "    \n",
    "    if i % 2 == 0:\n",
    "        \n",
    "        continue\n",
    "        \n",
    "        \n",
    "    else:\n",
    "        \n",
    "        odd_num.append(i)\n",
    "        \n",
    "    print(\"Odd Number is coming\")\n",
    "        \n",
    "print(odd_num)"
   ]
  },
  {
   "cell_type": "code",
   "execution_count": null,
   "metadata": {},
   "outputs": [],
   "source": []
  }
 ],
 "metadata": {
  "kernelspec": {
   "display_name": "Python 3",
   "language": "python",
   "name": "python3"
  },
  "language_info": {
   "codemirror_mode": {
    "name": "ipython",
    "version": 3
   },
   "file_extension": ".py",
   "mimetype": "text/x-python",
   "name": "python",
   "nbconvert_exporter": "python",
   "pygments_lexer": "ipython3",
   "version": "3.8.5"
  }
 },
 "nbformat": 4,
 "nbformat_minor": 4
}
