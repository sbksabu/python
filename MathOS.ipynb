{
 "cells": [
  {
   "cell_type": "code",
   "execution_count": 1,
   "metadata": {},
   "outputs": [
    {
     "name": "stdout",
     "output_type": "stream",
     "text": [
      "\n",
      "Please wait a moment while I gather a list of all available modules...\n",
      "\n"
     ]
    },
    {
     "name": "stderr",
     "output_type": "stream",
     "text": [
      "C:\\ProgramData\\Anaconda3\\lib\\site-packages\\IPython\\kernel\\__init__.py:12: ShimWarning: The `IPython.kernel` package has been deprecated since IPython 4.0.You should import from ipykernel or jupyter_client instead.\n",
      "  warn(\"The `IPython.kernel` package has been deprecated since IPython 4.0.\"\n",
      "Matplotlib is building the font cache; this may take a moment.\n",
      "C:\\ProgramData\\Anaconda3\\lib\\pkgutil.py:92: MatplotlibDeprecationWarning: \n",
      "The matplotlib.compat module was deprecated in Matplotlib 3.3 and will be removed two minor releases later.\n",
      "  __import__(info.name)\n",
      "C:\\ProgramData\\Anaconda3\\lib\\site-packages\\nltk\\twitter\\__init__.py:21: UserWarning: The twython library has not been installed. Some functionality from the twitter package will not be available.\n",
      "  warnings.warn(\n"
     ]
    },
    {
     "ename": "KeyboardInterrupt",
     "evalue": "",
     "output_type": "error",
     "traceback": [
      "\u001b[1;31m---------------------------------------------------------------------------\u001b[0m",
      "\u001b[1;31mKeyboardInterrupt\u001b[0m                         Traceback (most recent call last)",
      "\u001b[1;32m<ipython-input-1-672d1fb75e1b>\u001b[0m in \u001b[0;36m<module>\u001b[1;34m\u001b[0m\n\u001b[1;32m----> 1\u001b[1;33m \u001b[0mhelp\u001b[0m\u001b[1;33m(\u001b[0m\u001b[1;34m\"modules\"\u001b[0m\u001b[1;33m)\u001b[0m\u001b[1;33m\u001b[0m\u001b[1;33m\u001b[0m\u001b[0m\n\u001b[0m",
      "\u001b[1;32mC:\\ProgramData\\Anaconda3\\lib\\_sitebuiltins.py\u001b[0m in \u001b[0;36m__call__\u001b[1;34m(self, *args, **kwds)\u001b[0m\n\u001b[0;32m    101\u001b[0m     \u001b[1;32mdef\u001b[0m \u001b[0m__call__\u001b[0m\u001b[1;33m(\u001b[0m\u001b[0mself\u001b[0m\u001b[1;33m,\u001b[0m \u001b[1;33m*\u001b[0m\u001b[0margs\u001b[0m\u001b[1;33m,\u001b[0m \u001b[1;33m**\u001b[0m\u001b[0mkwds\u001b[0m\u001b[1;33m)\u001b[0m\u001b[1;33m:\u001b[0m\u001b[1;33m\u001b[0m\u001b[1;33m\u001b[0m\u001b[0m\n\u001b[0;32m    102\u001b[0m         \u001b[1;32mimport\u001b[0m \u001b[0mpydoc\u001b[0m\u001b[1;33m\u001b[0m\u001b[1;33m\u001b[0m\u001b[0m\n\u001b[1;32m--> 103\u001b[1;33m         \u001b[1;32mreturn\u001b[0m \u001b[0mpydoc\u001b[0m\u001b[1;33m.\u001b[0m\u001b[0mhelp\u001b[0m\u001b[1;33m(\u001b[0m\u001b[1;33m*\u001b[0m\u001b[0margs\u001b[0m\u001b[1;33m,\u001b[0m \u001b[1;33m**\u001b[0m\u001b[0mkwds\u001b[0m\u001b[1;33m)\u001b[0m\u001b[1;33m\u001b[0m\u001b[1;33m\u001b[0m\u001b[0m\n\u001b[0m",
      "\u001b[1;32mC:\\ProgramData\\Anaconda3\\lib\\pydoc.py\u001b[0m in \u001b[0;36m__call__\u001b[1;34m(self, request)\u001b[0m\n\u001b[0;32m   1906\u001b[0m     \u001b[1;32mdef\u001b[0m \u001b[0m__call__\u001b[0m\u001b[1;33m(\u001b[0m\u001b[0mself\u001b[0m\u001b[1;33m,\u001b[0m \u001b[0mrequest\u001b[0m\u001b[1;33m=\u001b[0m\u001b[0m_GoInteractive\u001b[0m\u001b[1;33m)\u001b[0m\u001b[1;33m:\u001b[0m\u001b[1;33m\u001b[0m\u001b[1;33m\u001b[0m\u001b[0m\n\u001b[0;32m   1907\u001b[0m         \u001b[1;32mif\u001b[0m \u001b[0mrequest\u001b[0m \u001b[1;32mis\u001b[0m \u001b[1;32mnot\u001b[0m \u001b[0mself\u001b[0m\u001b[1;33m.\u001b[0m\u001b[0m_GoInteractive\u001b[0m\u001b[1;33m:\u001b[0m\u001b[1;33m\u001b[0m\u001b[1;33m\u001b[0m\u001b[0m\n\u001b[1;32m-> 1908\u001b[1;33m             \u001b[0mself\u001b[0m\u001b[1;33m.\u001b[0m\u001b[0mhelp\u001b[0m\u001b[1;33m(\u001b[0m\u001b[0mrequest\u001b[0m\u001b[1;33m)\u001b[0m\u001b[1;33m\u001b[0m\u001b[1;33m\u001b[0m\u001b[0m\n\u001b[0m\u001b[0;32m   1909\u001b[0m         \u001b[1;32melse\u001b[0m\u001b[1;33m:\u001b[0m\u001b[1;33m\u001b[0m\u001b[1;33m\u001b[0m\u001b[0m\n\u001b[0;32m   1910\u001b[0m             \u001b[0mself\u001b[0m\u001b[1;33m.\u001b[0m\u001b[0mintro\u001b[0m\u001b[1;33m(\u001b[0m\u001b[1;33m)\u001b[0m\u001b[1;33m\u001b[0m\u001b[1;33m\u001b[0m\u001b[0m\n",
      "\u001b[1;32mC:\\ProgramData\\Anaconda3\\lib\\pydoc.py\u001b[0m in \u001b[0;36mhelp\u001b[1;34m(self, request)\u001b[0m\n\u001b[0;32m   1953\u001b[0m             \u001b[1;32melif\u001b[0m \u001b[0mrequest\u001b[0m \u001b[1;33m==\u001b[0m \u001b[1;34m'symbols'\u001b[0m\u001b[1;33m:\u001b[0m \u001b[0mself\u001b[0m\u001b[1;33m.\u001b[0m\u001b[0mlistsymbols\u001b[0m\u001b[1;33m(\u001b[0m\u001b[1;33m)\u001b[0m\u001b[1;33m\u001b[0m\u001b[1;33m\u001b[0m\u001b[0m\n\u001b[0;32m   1954\u001b[0m             \u001b[1;32melif\u001b[0m \u001b[0mrequest\u001b[0m \u001b[1;33m==\u001b[0m \u001b[1;34m'topics'\u001b[0m\u001b[1;33m:\u001b[0m \u001b[0mself\u001b[0m\u001b[1;33m.\u001b[0m\u001b[0mlisttopics\u001b[0m\u001b[1;33m(\u001b[0m\u001b[1;33m)\u001b[0m\u001b[1;33m\u001b[0m\u001b[1;33m\u001b[0m\u001b[0m\n\u001b[1;32m-> 1955\u001b[1;33m             \u001b[1;32melif\u001b[0m \u001b[0mrequest\u001b[0m \u001b[1;33m==\u001b[0m \u001b[1;34m'modules'\u001b[0m\u001b[1;33m:\u001b[0m \u001b[0mself\u001b[0m\u001b[1;33m.\u001b[0m\u001b[0mlistmodules\u001b[0m\u001b[1;33m(\u001b[0m\u001b[1;33m)\u001b[0m\u001b[1;33m\u001b[0m\u001b[1;33m\u001b[0m\u001b[0m\n\u001b[0m\u001b[0;32m   1956\u001b[0m             \u001b[1;32melif\u001b[0m \u001b[0mrequest\u001b[0m\u001b[1;33m[\u001b[0m\u001b[1;33m:\u001b[0m\u001b[1;36m8\u001b[0m\u001b[1;33m]\u001b[0m \u001b[1;33m==\u001b[0m \u001b[1;34m'modules '\u001b[0m\u001b[1;33m:\u001b[0m\u001b[1;33m\u001b[0m\u001b[1;33m\u001b[0m\u001b[0m\n\u001b[0;32m   1957\u001b[0m                 \u001b[0mself\u001b[0m\u001b[1;33m.\u001b[0m\u001b[0mlistmodules\u001b[0m\u001b[1;33m(\u001b[0m\u001b[0mrequest\u001b[0m\u001b[1;33m.\u001b[0m\u001b[0msplit\u001b[0m\u001b[1;33m(\u001b[0m\u001b[1;33m)\u001b[0m\u001b[1;33m[\u001b[0m\u001b[1;36m1\u001b[0m\u001b[1;33m]\u001b[0m\u001b[1;33m)\u001b[0m\u001b[1;33m\u001b[0m\u001b[1;33m\u001b[0m\u001b[0m\n",
      "\u001b[1;32mC:\\ProgramData\\Anaconda3\\lib\\pydoc.py\u001b[0m in \u001b[0;36mlistmodules\u001b[1;34m(self, key)\u001b[0m\n\u001b[0;32m   2105\u001b[0m             \u001b[1;32mdef\u001b[0m \u001b[0monerror\u001b[0m\u001b[1;33m(\u001b[0m\u001b[0mmodname\u001b[0m\u001b[1;33m)\u001b[0m\u001b[1;33m:\u001b[0m\u001b[1;33m\u001b[0m\u001b[1;33m\u001b[0m\u001b[0m\n\u001b[0;32m   2106\u001b[0m                 \u001b[0mcallback\u001b[0m\u001b[1;33m(\u001b[0m\u001b[1;32mNone\u001b[0m\u001b[1;33m,\u001b[0m \u001b[0mmodname\u001b[0m\u001b[1;33m,\u001b[0m \u001b[1;32mNone\u001b[0m\u001b[1;33m)\u001b[0m\u001b[1;33m\u001b[0m\u001b[1;33m\u001b[0m\u001b[0m\n\u001b[1;32m-> 2107\u001b[1;33m             \u001b[0mModuleScanner\u001b[0m\u001b[1;33m(\u001b[0m\u001b[1;33m)\u001b[0m\u001b[1;33m.\u001b[0m\u001b[0mrun\u001b[0m\u001b[1;33m(\u001b[0m\u001b[0mcallback\u001b[0m\u001b[1;33m,\u001b[0m \u001b[0monerror\u001b[0m\u001b[1;33m=\u001b[0m\u001b[0monerror\u001b[0m\u001b[1;33m)\u001b[0m\u001b[1;33m\u001b[0m\u001b[1;33m\u001b[0m\u001b[0m\n\u001b[0m\u001b[0;32m   2108\u001b[0m             \u001b[0mself\u001b[0m\u001b[1;33m.\u001b[0m\u001b[0mlist\u001b[0m\u001b[1;33m(\u001b[0m\u001b[0mmodules\u001b[0m\u001b[1;33m.\u001b[0m\u001b[0mkeys\u001b[0m\u001b[1;33m(\u001b[0m\u001b[1;33m)\u001b[0m\u001b[1;33m)\u001b[0m\u001b[1;33m\u001b[0m\u001b[1;33m\u001b[0m\u001b[0m\n\u001b[0;32m   2109\u001b[0m             self.output.write('''\n",
      "\u001b[1;32mC:\\ProgramData\\Anaconda3\\lib\\pydoc.py\u001b[0m in \u001b[0;36mrun\u001b[1;34m(self, callback, key, completer, onerror)\u001b[0m\n\u001b[0;32m   2134\u001b[0m                         \u001b[0mcallback\u001b[0m\u001b[1;33m(\u001b[0m\u001b[1;32mNone\u001b[0m\u001b[1;33m,\u001b[0m \u001b[0mmodname\u001b[0m\u001b[1;33m,\u001b[0m \u001b[0mdesc\u001b[0m\u001b[1;33m)\u001b[0m\u001b[1;33m\u001b[0m\u001b[1;33m\u001b[0m\u001b[0m\n\u001b[0;32m   2135\u001b[0m \u001b[1;33m\u001b[0m\u001b[0m\n\u001b[1;32m-> 2136\u001b[1;33m         \u001b[1;32mfor\u001b[0m \u001b[0mimporter\u001b[0m\u001b[1;33m,\u001b[0m \u001b[0mmodname\u001b[0m\u001b[1;33m,\u001b[0m \u001b[0mispkg\u001b[0m \u001b[1;32min\u001b[0m \u001b[0mpkgutil\u001b[0m\u001b[1;33m.\u001b[0m\u001b[0mwalk_packages\u001b[0m\u001b[1;33m(\u001b[0m\u001b[0monerror\u001b[0m\u001b[1;33m=\u001b[0m\u001b[0monerror\u001b[0m\u001b[1;33m)\u001b[0m\u001b[1;33m:\u001b[0m\u001b[1;33m\u001b[0m\u001b[1;33m\u001b[0m\u001b[0m\n\u001b[0m\u001b[0;32m   2137\u001b[0m             \u001b[1;32mif\u001b[0m \u001b[0mself\u001b[0m\u001b[1;33m.\u001b[0m\u001b[0mquit\u001b[0m\u001b[1;33m:\u001b[0m\u001b[1;33m\u001b[0m\u001b[1;33m\u001b[0m\u001b[0m\n\u001b[0;32m   2138\u001b[0m                 \u001b[1;32mbreak\u001b[0m\u001b[1;33m\u001b[0m\u001b[1;33m\u001b[0m\u001b[0m\n",
      "\u001b[1;32mC:\\ProgramData\\Anaconda3\\lib\\pkgutil.py\u001b[0m in \u001b[0;36mwalk_packages\u001b[1;34m(path, prefix, onerror)\u001b[0m\n\u001b[0;32m    105\u001b[0m                 \u001b[0mpath\u001b[0m \u001b[1;33m=\u001b[0m \u001b[1;33m[\u001b[0m\u001b[0mp\u001b[0m \u001b[1;32mfor\u001b[0m \u001b[0mp\u001b[0m \u001b[1;32min\u001b[0m \u001b[0mpath\u001b[0m \u001b[1;32mif\u001b[0m \u001b[1;32mnot\u001b[0m \u001b[0mseen\u001b[0m\u001b[1;33m(\u001b[0m\u001b[0mp\u001b[0m\u001b[1;33m)\u001b[0m\u001b[1;33m]\u001b[0m\u001b[1;33m\u001b[0m\u001b[1;33m\u001b[0m\u001b[0m\n\u001b[0;32m    106\u001b[0m \u001b[1;33m\u001b[0m\u001b[0m\n\u001b[1;32m--> 107\u001b[1;33m                 \u001b[1;32myield\u001b[0m \u001b[1;32mfrom\u001b[0m \u001b[0mwalk_packages\u001b[0m\u001b[1;33m(\u001b[0m\u001b[0mpath\u001b[0m\u001b[1;33m,\u001b[0m \u001b[0minfo\u001b[0m\u001b[1;33m.\u001b[0m\u001b[0mname\u001b[0m\u001b[1;33m+\u001b[0m\u001b[1;34m'.'\u001b[0m\u001b[1;33m,\u001b[0m \u001b[0monerror\u001b[0m\u001b[1;33m)\u001b[0m\u001b[1;33m\u001b[0m\u001b[1;33m\u001b[0m\u001b[0m\n\u001b[0m\u001b[0;32m    108\u001b[0m \u001b[1;33m\u001b[0m\u001b[0m\n\u001b[0;32m    109\u001b[0m \u001b[1;33m\u001b[0m\u001b[0m\n",
      "\u001b[1;32mC:\\ProgramData\\Anaconda3\\lib\\pkgutil.py\u001b[0m in \u001b[0;36mwalk_packages\u001b[1;34m(path, prefix, onerror)\u001b[0m\n\u001b[0;32m    105\u001b[0m                 \u001b[0mpath\u001b[0m \u001b[1;33m=\u001b[0m \u001b[1;33m[\u001b[0m\u001b[0mp\u001b[0m \u001b[1;32mfor\u001b[0m \u001b[0mp\u001b[0m \u001b[1;32min\u001b[0m \u001b[0mpath\u001b[0m \u001b[1;32mif\u001b[0m \u001b[1;32mnot\u001b[0m \u001b[0mseen\u001b[0m\u001b[1;33m(\u001b[0m\u001b[0mp\u001b[0m\u001b[1;33m)\u001b[0m\u001b[1;33m]\u001b[0m\u001b[1;33m\u001b[0m\u001b[1;33m\u001b[0m\u001b[0m\n\u001b[0;32m    106\u001b[0m \u001b[1;33m\u001b[0m\u001b[0m\n\u001b[1;32m--> 107\u001b[1;33m                 \u001b[1;32myield\u001b[0m \u001b[1;32mfrom\u001b[0m \u001b[0mwalk_packages\u001b[0m\u001b[1;33m(\u001b[0m\u001b[0mpath\u001b[0m\u001b[1;33m,\u001b[0m \u001b[0minfo\u001b[0m\u001b[1;33m.\u001b[0m\u001b[0mname\u001b[0m\u001b[1;33m+\u001b[0m\u001b[1;34m'.'\u001b[0m\u001b[1;33m,\u001b[0m \u001b[0monerror\u001b[0m\u001b[1;33m)\u001b[0m\u001b[1;33m\u001b[0m\u001b[1;33m\u001b[0m\u001b[0m\n\u001b[0m\u001b[0;32m    108\u001b[0m \u001b[1;33m\u001b[0m\u001b[0m\n\u001b[0;32m    109\u001b[0m \u001b[1;33m\u001b[0m\u001b[0m\n",
      "\u001b[1;32mC:\\ProgramData\\Anaconda3\\lib\\pkgutil.py\u001b[0m in \u001b[0;36mwalk_packages\u001b[1;34m(path, prefix, onerror)\u001b[0m\n\u001b[0;32m     90\u001b[0m         \u001b[1;32mif\u001b[0m \u001b[0minfo\u001b[0m\u001b[1;33m.\u001b[0m\u001b[0mispkg\u001b[0m\u001b[1;33m:\u001b[0m\u001b[1;33m\u001b[0m\u001b[1;33m\u001b[0m\u001b[0m\n\u001b[0;32m     91\u001b[0m             \u001b[1;32mtry\u001b[0m\u001b[1;33m:\u001b[0m\u001b[1;33m\u001b[0m\u001b[1;33m\u001b[0m\u001b[0m\n\u001b[1;32m---> 92\u001b[1;33m                 \u001b[0m__import__\u001b[0m\u001b[1;33m(\u001b[0m\u001b[0minfo\u001b[0m\u001b[1;33m.\u001b[0m\u001b[0mname\u001b[0m\u001b[1;33m)\u001b[0m\u001b[1;33m\u001b[0m\u001b[1;33m\u001b[0m\u001b[0m\n\u001b[0m\u001b[0;32m     93\u001b[0m             \u001b[1;32mexcept\u001b[0m \u001b[0mImportError\u001b[0m\u001b[1;33m:\u001b[0m\u001b[1;33m\u001b[0m\u001b[1;33m\u001b[0m\u001b[0m\n\u001b[0;32m     94\u001b[0m                 \u001b[1;32mif\u001b[0m \u001b[0monerror\u001b[0m \u001b[1;32mis\u001b[0m \u001b[1;32mnot\u001b[0m \u001b[1;32mNone\u001b[0m\u001b[1;33m:\u001b[0m\u001b[1;33m\u001b[0m\u001b[1;33m\u001b[0m\u001b[0m\n",
      "\u001b[1;32mC:\\ProgramData\\Anaconda3\\lib\\site-packages\\pip\\_internal\\req\\__init__.py\u001b[0m in \u001b[0;36m<module>\u001b[1;34m\u001b[0m\n\u001b[0;32m      8\u001b[0m \u001b[1;33m\u001b[0m\u001b[0m\n\u001b[0;32m      9\u001b[0m \u001b[1;32mfrom\u001b[0m \u001b[1;33m.\u001b[0m\u001b[0mreq_file\u001b[0m \u001b[1;32mimport\u001b[0m \u001b[0mparse_requirements\u001b[0m\u001b[1;33m\u001b[0m\u001b[1;33m\u001b[0m\u001b[0m\n\u001b[1;32m---> 10\u001b[1;33m \u001b[1;32mfrom\u001b[0m \u001b[1;33m.\u001b[0m\u001b[0mreq_install\u001b[0m \u001b[1;32mimport\u001b[0m \u001b[0mInstallRequirement\u001b[0m\u001b[1;33m\u001b[0m\u001b[1;33m\u001b[0m\u001b[0m\n\u001b[0m\u001b[0;32m     11\u001b[0m \u001b[1;32mfrom\u001b[0m \u001b[1;33m.\u001b[0m\u001b[0mreq_set\u001b[0m \u001b[1;32mimport\u001b[0m \u001b[0mRequirementSet\u001b[0m\u001b[1;33m\u001b[0m\u001b[1;33m\u001b[0m\u001b[0m\n\u001b[0;32m     12\u001b[0m \u001b[1;33m\u001b[0m\u001b[0m\n",
      "\u001b[1;32mC:\\ProgramData\\Anaconda3\\lib\\site-packages\\pip\\_internal\\req\\req_install.py\u001b[0m in \u001b[0;36m<module>\u001b[1;34m\u001b[0m\n\u001b[0;32m     23\u001b[0m \u001b[1;32mfrom\u001b[0m \u001b[0mpip\u001b[0m\u001b[1;33m.\u001b[0m\u001b[0m_internal\u001b[0m\u001b[1;33m.\u001b[0m\u001b[0mmodels\u001b[0m\u001b[1;33m.\u001b[0m\u001b[0mlink\u001b[0m \u001b[1;32mimport\u001b[0m \u001b[0mLink\u001b[0m\u001b[1;33m\u001b[0m\u001b[1;33m\u001b[0m\u001b[0m\n\u001b[0;32m     24\u001b[0m \u001b[1;32mfrom\u001b[0m \u001b[0mpip\u001b[0m\u001b[1;33m.\u001b[0m\u001b[0m_internal\u001b[0m\u001b[1;33m.\u001b[0m\u001b[0moperations\u001b[0m\u001b[1;33m.\u001b[0m\u001b[0mbuild\u001b[0m\u001b[1;33m.\u001b[0m\u001b[0mmetadata\u001b[0m \u001b[1;32mimport\u001b[0m \u001b[0mgenerate_metadata\u001b[0m\u001b[1;33m\u001b[0m\u001b[1;33m\u001b[0m\u001b[0m\n\u001b[1;32m---> 25\u001b[1;33m \u001b[1;32mfrom\u001b[0m \u001b[0mpip\u001b[0m\u001b[1;33m.\u001b[0m\u001b[0m_internal\u001b[0m\u001b[1;33m.\u001b[0m\u001b[0moperations\u001b[0m\u001b[1;33m.\u001b[0m\u001b[0mbuild\u001b[0m\u001b[1;33m.\u001b[0m\u001b[0mmetadata_legacy\u001b[0m \u001b[1;32mimport\u001b[0m\u001b[0;31m \u001b[0m\u001b[0;31m\\\u001b[0m\u001b[1;33m\u001b[0m\u001b[1;33m\u001b[0m\u001b[0m\n\u001b[0m\u001b[0;32m     26\u001b[0m     \u001b[0mgenerate_metadata\u001b[0m \u001b[1;32mas\u001b[0m \u001b[0mgenerate_metadata_legacy\u001b[0m\u001b[1;33m\u001b[0m\u001b[1;33m\u001b[0m\u001b[0m\n\u001b[0;32m     27\u001b[0m \u001b[1;32mfrom\u001b[0m \u001b[0mpip\u001b[0m\u001b[1;33m.\u001b[0m\u001b[0m_internal\u001b[0m\u001b[1;33m.\u001b[0m\u001b[0moperations\u001b[0m\u001b[1;33m.\u001b[0m\u001b[0minstall\u001b[0m\u001b[1;33m.\u001b[0m\u001b[0meditable_legacy\u001b[0m \u001b[1;32mimport\u001b[0m\u001b[0;31m \u001b[0m\u001b[0;31m\\\u001b[0m\u001b[1;33m\u001b[0m\u001b[1;33m\u001b[0m\u001b[0m\n",
      "\u001b[1;32mC:\\ProgramData\\Anaconda3\\lib\\site-packages\\pip\\_internal\\operations\\build\\metadata_legacy.py\u001b[0m in \u001b[0;36m<module>\u001b[1;34m\u001b[0m\n\u001b[0;32m      6\u001b[0m \u001b[1;33m\u001b[0m\u001b[0m\n\u001b[0;32m      7\u001b[0m \u001b[1;32mfrom\u001b[0m \u001b[0mpip\u001b[0m\u001b[1;33m.\u001b[0m\u001b[0m_internal\u001b[0m\u001b[1;33m.\u001b[0m\u001b[0mexceptions\u001b[0m \u001b[1;32mimport\u001b[0m \u001b[0mInstallationError\u001b[0m\u001b[1;33m\u001b[0m\u001b[1;33m\u001b[0m\u001b[0m\n\u001b[1;32m----> 8\u001b[1;33m \u001b[1;32mfrom\u001b[0m \u001b[0mpip\u001b[0m\u001b[1;33m.\u001b[0m\u001b[0m_internal\u001b[0m\u001b[1;33m.\u001b[0m\u001b[0mutils\u001b[0m\u001b[1;33m.\u001b[0m\u001b[0msetuptools_build\u001b[0m \u001b[1;32mimport\u001b[0m \u001b[0mmake_setuptools_egg_info_args\u001b[0m\u001b[1;33m\u001b[0m\u001b[1;33m\u001b[0m\u001b[0m\n\u001b[0m\u001b[0;32m      9\u001b[0m \u001b[1;32mfrom\u001b[0m \u001b[0mpip\u001b[0m\u001b[1;33m.\u001b[0m\u001b[0m_internal\u001b[0m\u001b[1;33m.\u001b[0m\u001b[0mutils\u001b[0m\u001b[1;33m.\u001b[0m\u001b[0msubprocess\u001b[0m \u001b[1;32mimport\u001b[0m \u001b[0mcall_subprocess\u001b[0m\u001b[1;33m\u001b[0m\u001b[1;33m\u001b[0m\u001b[0m\n\u001b[0;32m     10\u001b[0m \u001b[1;32mfrom\u001b[0m \u001b[0mpip\u001b[0m\u001b[1;33m.\u001b[0m\u001b[0m_internal\u001b[0m\u001b[1;33m.\u001b[0m\u001b[0mutils\u001b[0m\u001b[1;33m.\u001b[0m\u001b[0mtemp_dir\u001b[0m \u001b[1;32mimport\u001b[0m \u001b[0mTempDirectory\u001b[0m\u001b[1;33m\u001b[0m\u001b[1;33m\u001b[0m\u001b[0m\n",
      "\u001b[1;32mC:\\ProgramData\\Anaconda3\\lib\\importlib\\_bootstrap.py\u001b[0m in \u001b[0;36m_find_and_load\u001b[1;34m(name, import_)\u001b[0m\n",
      "\u001b[1;32mC:\\ProgramData\\Anaconda3\\lib\\importlib\\_bootstrap.py\u001b[0m in \u001b[0;36m_find_and_load_unlocked\u001b[1;34m(name, import_)\u001b[0m\n",
      "\u001b[1;32mC:\\ProgramData\\Anaconda3\\lib\\importlib\\_bootstrap.py\u001b[0m in \u001b[0;36m_load_unlocked\u001b[1;34m(spec)\u001b[0m\n",
      "\u001b[1;32mC:\\ProgramData\\Anaconda3\\lib\\importlib\\_bootstrap_external.py\u001b[0m in \u001b[0;36mexec_module\u001b[1;34m(self, module)\u001b[0m\n",
      "\u001b[1;32mC:\\ProgramData\\Anaconda3\\lib\\importlib\\_bootstrap_external.py\u001b[0m in \u001b[0;36mget_code\u001b[1;34m(self, fullname)\u001b[0m\n",
      "\u001b[1;32mC:\\ProgramData\\Anaconda3\\lib\\importlib\\_bootstrap_external.py\u001b[0m in \u001b[0;36mget_data\u001b[1;34m(self, path)\u001b[0m\n",
      "\u001b[1;31mKeyboardInterrupt\u001b[0m: "
     ]
    }
   ],
   "source": [
    "help(\"modules\")"
   ]
  },
  {
   "cell_type": "code",
   "execution_count": null,
   "metadata": {},
   "outputs": [],
   "source": [
    "import math"
   ]
  },
  {
   "cell_type": "code",
   "execution_count": 2,
   "metadata": {},
   "outputs": [
    {
     "ename": "NameError",
     "evalue": "name 'math' is not defined",
     "output_type": "error",
     "traceback": [
      "\u001b[1;31m---------------------------------------------------------------------------\u001b[0m",
      "\u001b[1;31mNameError\u001b[0m                                 Traceback (most recent call last)",
      "\u001b[1;32m<ipython-input-2-23f06db11497>\u001b[0m in \u001b[0;36m<module>\u001b[1;34m\u001b[0m\n\u001b[1;32m----> 1\u001b[1;33m \u001b[0mprint\u001b[0m\u001b[1;33m(\u001b[0m\u001b[1;34m\"Pi : \"\u001b[0m\u001b[1;33m,\u001b[0m \u001b[0mmath\u001b[0m\u001b[1;33m.\u001b[0m\u001b[0mpi\u001b[0m\u001b[1;33m)\u001b[0m\u001b[1;33m\u001b[0m\u001b[1;33m\u001b[0m\u001b[0m\n\u001b[0m",
      "\u001b[1;31mNameError\u001b[0m: name 'math' is not defined"
     ]
    }
   ],
   "source": [
    "print(\"Pi : \", math.pi)"
   ]
  },
  {
   "cell_type": "code",
   "execution_count": 3,
   "metadata": {},
   "outputs": [],
   "source": [
    "import math"
   ]
  },
  {
   "cell_type": "code",
   "execution_count": 5,
   "metadata": {},
   "outputs": [
    {
     "name": "stdout",
     "output_type": "stream",
     "text": [
      "Pi :  3.141592653589793 \n",
      " e :  2.718281828459045\n"
     ]
    }
   ],
   "source": [
    "print(\"Pi : \", math.pi, \"\\n e : \", math.e)"
   ]
  },
  {
   "cell_type": "code",
   "execution_count": 6,
   "metadata": {},
   "outputs": [
    {
     "data": {
      "text/plain": [
       "9"
      ]
     },
     "execution_count": 6,
     "metadata": {},
     "output_type": "execute_result"
    }
   ],
   "source": [
    "math.ceil(8.2653)"
   ]
  },
  {
   "cell_type": "code",
   "execution_count": 7,
   "metadata": {},
   "outputs": [
    {
     "data": {
      "text/plain": [
       "8"
      ]
     },
     "execution_count": 7,
     "metadata": {},
     "output_type": "execute_result"
    }
   ],
   "source": [
    "math.floor(8.6975)"
   ]
  },
  {
   "cell_type": "code",
   "execution_count": 8,
   "metadata": {},
   "outputs": [
    {
     "data": {
      "text/plain": [
       "16.0"
      ]
     },
     "execution_count": 8,
     "metadata": {},
     "output_type": "execute_result"
    }
   ],
   "source": [
    "math.pow(2, 4)"
   ]
  },
  {
   "cell_type": "code",
   "execution_count": 9,
   "metadata": {},
   "outputs": [
    {
     "data": {
      "text/plain": [
       "5.0"
      ]
     },
     "execution_count": 9,
     "metadata": {},
     "output_type": "execute_result"
    }
   ],
   "source": [
    "math.sqrt(25)"
   ]
  },
  {
   "cell_type": "code",
   "execution_count": 10,
   "metadata": {},
   "outputs": [
    {
     "data": {
      "text/plain": [
       "5040"
      ]
     },
     "execution_count": 10,
     "metadata": {},
     "output_type": "execute_result"
    }
   ],
   "source": [
    "math.factorial(7)"
   ]
  },
  {
   "cell_type": "code",
   "execution_count": 11,
   "metadata": {},
   "outputs": [],
   "source": [
    "import os"
   ]
  },
  {
   "cell_type": "code",
   "execution_count": 12,
   "metadata": {},
   "outputs": [
    {
     "data": {
      "text/plain": [
       "'C:\\\\ProgramData\\\\Anaconda3\\\\Scripts'"
      ]
     },
     "execution_count": 12,
     "metadata": {},
     "output_type": "execute_result"
    }
   ],
   "source": [
    "os.getcwd()"
   ]
  },
  {
   "cell_type": "code",
   "execution_count": 13,
   "metadata": {},
   "outputs": [
    {
     "data": {
      "text/plain": [
       "environ{'ALLUSERSPROFILE': 'C:\\\\ProgramData',\n",
       "        'APPDATA': 'C:\\\\Users\\\\Sabu Balan K\\\\AppData\\\\Roaming',\n",
       "        'COMMONPROGRAMFILES': 'C:\\\\Program Files\\\\Common Files',\n",
       "        'COMMONPROGRAMFILES(X86)': 'C:\\\\Program Files (x86)\\\\Common Files',\n",
       "        'COMMONPROGRAMW6432': 'C:\\\\Program Files\\\\Common Files',\n",
       "        'COMPUTERNAME': 'DESKTOP-0LTMMA1',\n",
       "        'COMSPEC': 'C:\\\\WINDOWS\\\\system32\\\\cmd.exe',\n",
       "        'CONDA_DEFAULT_ENV': 'base',\n",
       "        'CONDA_EXE': 'C:\\\\ProgramData\\\\Anaconda3\\\\Scripts\\\\conda.exe',\n",
       "        'CONDA_PREFIX': 'C:\\\\ProgramData\\\\Anaconda3',\n",
       "        'CONDA_PROMPT_MODIFIER': '(base) ',\n",
       "        'CONDA_PYTHON_EXE': 'C:\\\\ProgramData\\\\Anaconda3\\\\python.exe',\n",
       "        'CONDA_SHLVL': '1',\n",
       "        'DRIVERDATA': 'C:\\\\Windows\\\\System32\\\\Drivers\\\\DriverData',\n",
       "        'GROOVY_HOME': 'C:\\\\Program Files (x86)\\\\Groovy\\\\',\n",
       "        'HOMEDRIVE': 'C:',\n",
       "        'HOMEPATH': '\\\\Users\\\\Sabu Balan K',\n",
       "        'LOCALAPPDATA': 'C:\\\\Users\\\\Sabu Balan K\\\\AppData\\\\Local',\n",
       "        'LOGONSERVER': '\\\\\\\\DESKTOP-0LTMMA1',\n",
       "        'NUMBER_OF_PROCESSORS': '4',\n",
       "        'ONEDRIVE': 'C:\\\\Users\\\\Sabu Balan K\\\\OneDrive',\n",
       "        'ONEDRIVECONSUMER': 'C:\\\\Users\\\\Sabu Balan K\\\\OneDrive',\n",
       "        'OS': 'Windows_NT',\n",
       "        'PATH': 'C:\\\\ProgramData\\\\Anaconda3;C:\\\\ProgramData\\\\Anaconda3\\\\Library\\\\mingw-w64\\\\bin;C:\\\\ProgramData\\\\Anaconda3\\\\Library\\\\usr\\\\bin;C:\\\\ProgramData\\\\Anaconda3\\\\Library\\\\bin;C:\\\\ProgramData\\\\Anaconda3\\\\Scripts;C:\\\\ProgramData\\\\Anaconda3\\\\bin;C:\\\\ProgramData\\\\Anaconda3\\\\condabin;C:\\\\ProgramData\\\\Oracle\\\\Java\\\\javapath;C:\\\\Program Files\\\\Broadcom\\\\Broadcom 802.11 Network Adapter;C:\\\\Program Files (x86)\\\\Intel\\\\iCLS Client;C:\\\\Program Files\\\\Intel\\\\iCLS Client;C:\\\\WINDOWS\\\\system32;C:\\\\WINDOWS;C:\\\\WINDOWS\\\\System32\\\\Wbem;C:\\\\WINDOWS\\\\System32\\\\WindowsPowerShell\\\\v1.0;C:\\\\Program Files (x86)\\\\Intel\\\\Intel(R) Management Engine Components\\\\DAL;C:\\\\Program Files\\\\Intel\\\\Intel(R) Management Engine Components\\\\DAL;C:\\\\Program Files (x86)\\\\Intel\\\\Intel(R) Management Engine Components\\\\IPT;C:\\\\Program Files\\\\Intel\\\\Intel(R) Management Engine Components\\\\IPT;C:\\\\Program Files\\\\Intel\\\\WiFi\\\\bin;C:\\\\Program Files\\\\Common Files\\\\Intel\\\\WirelessCommon;C:\\\\WINDOWS\\\\System32\\\\OpenSSH;C:\\\\Program Files (x86)\\\\Groovy\\\\bin;C:\\\\Program Files\\\\Git\\\\cmd;C:\\\\Gradle_new\\\\gradle-6.0.1\\\\bin;C:\\\\Users\\\\Sabu Balan K\\\\AppData\\\\Local\\\\Microsoft\\\\WindowsApps;C:\\\\Program Files\\\\Intel\\\\WiFi\\\\bin;C:\\\\Program Files\\\\Common Files\\\\Intel\\\\WirelessCommon;.;C:\\\\ProgramData\\\\Anaconda3\\\\lib\\\\site-packages\\\\llvmlite\\\\binding',\n",
       "        'PATHEXT': '.COM;.EXE;.BAT;.CMD;.VBS;.VBE;.JS;.JSE;.WSF;.WSH;.MSC',\n",
       "        'PROCESSOR_ARCHITECTURE': 'AMD64',\n",
       "        'PROCESSOR_IDENTIFIER': 'Intel64 Family 6 Model 61 Stepping 4, GenuineIntel',\n",
       "        'PROCESSOR_LEVEL': '6',\n",
       "        'PROCESSOR_REVISION': '3d04',\n",
       "        'PROGRAMDATA': 'C:\\\\ProgramData',\n",
       "        'PROGRAMFILES': 'C:\\\\Program Files',\n",
       "        'PROGRAMFILES(X86)': 'C:\\\\Program Files (x86)',\n",
       "        'PROGRAMW6432': 'C:\\\\Program Files',\n",
       "        'PROMPT': '(base) $P$G',\n",
       "        'PSMODULEPATH': 'C:\\\\Program Files\\\\WindowsPowerShell\\\\Modules;C:\\\\WINDOWS\\\\system32\\\\WindowsPowerShell\\\\v1.0\\\\Modules',\n",
       "        'PUBLIC': 'C:\\\\Users\\\\Public',\n",
       "        'SESSIONNAME': 'Console',\n",
       "        'SYSTEMDRIVE': 'C:',\n",
       "        'SYSTEMROOT': 'C:\\\\WINDOWS',\n",
       "        'TEMP': 'C:\\\\Users\\\\SABUBA~1\\\\AppData\\\\Local\\\\Temp',\n",
       "        'TMP': 'C:\\\\Users\\\\SABUBA~1\\\\AppData\\\\Local\\\\Temp',\n",
       "        'USERDOMAIN': 'DESKTOP-0LTMMA1',\n",
       "        'USERDOMAIN_ROAMINGPROFILE': 'DESKTOP-0LTMMA1',\n",
       "        'USERNAME': 'Sabu Balan K',\n",
       "        'USERPROFILE': 'C:\\\\Users\\\\Sabu Balan K',\n",
       "        'WINDIR': 'C:\\\\WINDOWS',\n",
       "        'JPY_INTERRUPT_EVENT': '3044',\n",
       "        'IPY_INTERRUPT_EVENT': '3044',\n",
       "        'JPY_PARENT_PID': '3140',\n",
       "        'TERM': 'xterm-color',\n",
       "        'CLICOLOR': '1',\n",
       "        'PAGER': 'cat',\n",
       "        'GIT_PAGER': 'cat',\n",
       "        'MPLBACKEND': 'module://ipykernel.pylab.backend_inline',\n",
       "        'QT_API': 'pyqt5',\n",
       "        'CONDA_ROOT': 'C:\\\\ProgramData\\\\Anaconda3',\n",
       "        'KMP_INIT_AT_FORK': 'FALSE',\n",
       "        'KMP_DUPLICATE_LIB_OK': 'True'}"
      ]
     },
     "execution_count": 13,
     "metadata": {},
     "output_type": "execute_result"
    }
   ],
   "source": [
    "os.environ"
   ]
  },
  {
   "cell_type": "code",
   "execution_count": 15,
   "metadata": {},
   "outputs": [
    {
     "ename": "KeyError",
     "evalue": "'USER'",
     "output_type": "error",
     "traceback": [
      "\u001b[1;31m---------------------------------------------------------------------------\u001b[0m",
      "\u001b[1;31mKeyError\u001b[0m                                  Traceback (most recent call last)",
      "\u001b[1;32m<ipython-input-15-9af5e0179bfd>\u001b[0m in \u001b[0;36m<module>\u001b[1;34m\u001b[0m\n\u001b[1;32m----> 1\u001b[1;33m \u001b[0muser\u001b[0m \u001b[1;33m=\u001b[0m \u001b[0mos\u001b[0m\u001b[1;33m.\u001b[0m\u001b[0menviron\u001b[0m\u001b[1;33m[\u001b[0m\u001b[1;34m\"USER\"\u001b[0m\u001b[1;33m]\u001b[0m\u001b[1;33m\u001b[0m\u001b[1;33m\u001b[0m\u001b[0m\n\u001b[0m\u001b[0;32m      2\u001b[0m \u001b[1;33m\u001b[0m\u001b[0m\n\u001b[0;32m      3\u001b[0m \u001b[0mprint\u001b[0m\u001b[1;33m(\u001b[0m\u001b[0muser\u001b[0m\u001b[1;33m)\u001b[0m\u001b[1;33m\u001b[0m\u001b[1;33m\u001b[0m\u001b[0m\n",
      "\u001b[1;32mC:\\ProgramData\\Anaconda3\\lib\\os.py\u001b[0m in \u001b[0;36m__getitem__\u001b[1;34m(self, key)\u001b[0m\n\u001b[0;32m    673\u001b[0m         \u001b[1;32mexcept\u001b[0m \u001b[0mKeyError\u001b[0m\u001b[1;33m:\u001b[0m\u001b[1;33m\u001b[0m\u001b[1;33m\u001b[0m\u001b[0m\n\u001b[0;32m    674\u001b[0m             \u001b[1;31m# raise KeyError with the original key value\u001b[0m\u001b[1;33m\u001b[0m\u001b[1;33m\u001b[0m\u001b[1;33m\u001b[0m\u001b[0m\n\u001b[1;32m--> 675\u001b[1;33m             \u001b[1;32mraise\u001b[0m \u001b[0mKeyError\u001b[0m\u001b[1;33m(\u001b[0m\u001b[0mkey\u001b[0m\u001b[1;33m)\u001b[0m \u001b[1;32mfrom\u001b[0m \u001b[1;32mNone\u001b[0m\u001b[1;33m\u001b[0m\u001b[1;33m\u001b[0m\u001b[0m\n\u001b[0m\u001b[0;32m    676\u001b[0m         \u001b[1;32mreturn\u001b[0m \u001b[0mself\u001b[0m\u001b[1;33m.\u001b[0m\u001b[0mdecodevalue\u001b[0m\u001b[1;33m(\u001b[0m\u001b[0mvalue\u001b[0m\u001b[1;33m)\u001b[0m\u001b[1;33m\u001b[0m\u001b[1;33m\u001b[0m\u001b[0m\n\u001b[0;32m    677\u001b[0m \u001b[1;33m\u001b[0m\u001b[0m\n",
      "\u001b[1;31mKeyError\u001b[0m: 'USER'"
     ]
    }
   ],
   "source": [
    "user = os.environ[\"USER\"]\n",
    "\n",
    "print(user)"
   ]
  },
  {
   "cell_type": "code",
   "execution_count": 16,
   "metadata": {},
   "outputs": [
    {
     "name": "stdout",
     "output_type": "stream",
     "text": [
      "C:\\ProgramData\\Anaconda3;C:\\ProgramData\\Anaconda3\\Library\\mingw-w64\\bin;C:\\ProgramData\\Anaconda3\\Library\\usr\\bin;C:\\ProgramData\\Anaconda3\\Library\\bin;C:\\ProgramData\\Anaconda3\\Scripts;C:\\ProgramData\\Anaconda3\\bin;C:\\ProgramData\\Anaconda3\\condabin;C:\\ProgramData\\Oracle\\Java\\javapath;C:\\Program Files\\Broadcom\\Broadcom 802.11 Network Adapter;C:\\Program Files (x86)\\Intel\\iCLS Client;C:\\Program Files\\Intel\\iCLS Client;C:\\WINDOWS\\system32;C:\\WINDOWS;C:\\WINDOWS\\System32\\Wbem;C:\\WINDOWS\\System32\\WindowsPowerShell\\v1.0;C:\\Program Files (x86)\\Intel\\Intel(R) Management Engine Components\\DAL;C:\\Program Files\\Intel\\Intel(R) Management Engine Components\\DAL;C:\\Program Files (x86)\\Intel\\Intel(R) Management Engine Components\\IPT;C:\\Program Files\\Intel\\Intel(R) Management Engine Components\\IPT;C:\\Program Files\\Intel\\WiFi\\bin;C:\\Program Files\\Common Files\\Intel\\WirelessCommon;C:\\WINDOWS\\System32\\OpenSSH;C:\\Program Files (x86)\\Groovy\\bin;C:\\Program Files\\Git\\cmd;C:\\Gradle_new\\gradle-6.0.1\\bin;C:\\Users\\Sabu Balan K\\AppData\\Local\\Microsoft\\WindowsApps;C:\\Program Files\\Intel\\WiFi\\bin;C:\\Program Files\\Common Files\\Intel\\WirelessCommon;.;C:\\ProgramData\\Anaconda3\\lib\\site-packages\\llvmlite\\binding\n"
     ]
    }
   ],
   "source": [
    "path = os.environ[\"PATH\"]\n",
    "\n",
    "print(path)"
   ]
  },
  {
   "cell_type": "code",
   "execution_count": 17,
   "metadata": {},
   "outputs": [
    {
     "data": {
      "text/plain": [
       "['.ipynb_checkpoints',\n",
       " '.qt-post-link.bat',\n",
       " '2to3-script.py',\n",
       " '2to3.exe',\n",
       " 'activate',\n",
       " 'activate.bat',\n",
       " 'anaconda-navigator-script.py',\n",
       " 'anaconda-navigator-script.pyw',\n",
       " 'anaconda-navigator.exe',\n",
       " 'anaconda-project-script.py',\n",
       " 'anaconda-project.exe',\n",
       " 'anaconda-script.py',\n",
       " 'anaconda.exe',\n",
       " 'ArgsGlobalLocalPass.ipynb',\n",
       " 'asadmin-script.py',\n",
       " 'asadmin.exe',\n",
       " 'autopep8-script.py',\n",
       " 'autopep8.exe',\n",
       " 'Basic3.ipynb',\n",
       " 'BasicPr1.ipynb',\n",
       " 'BasicPr2.ipynb',\n",
       " 'BasicPrograms.ipynb',\n",
       " 'Basics3.ipynb',\n",
       " 'Basics4.ipynb',\n",
       " 'binstar-script.py',\n",
       " 'binstar.exe',\n",
       " 'bokeh-script.py',\n",
       " 'bokeh.exe',\n",
       " 'Break2.ipynb',\n",
       " 'BuiltInFunctions.ipynb',\n",
       " 'bundle_image-script.py',\n",
       " 'bundle_image.exe',\n",
       " 'Calculator.ipynb',\n",
       " 'cfadmin-script.py',\n",
       " 'cfadmin.exe',\n",
       " 'chardetect-script.py',\n",
       " 'chardetect.exe',\n",
       " 'clear_comtypes_cache.py',\n",
       " 'Comprehensions.ipynb',\n",
       " 'conda-build-script.py',\n",
       " 'conda-build.exe',\n",
       " 'conda-convert-script.py',\n",
       " 'conda-convert.exe',\n",
       " 'conda-debug-script.py',\n",
       " 'conda-debug.exe',\n",
       " 'conda-develop-script.py',\n",
       " 'conda-develop.exe',\n",
       " 'conda-env-script.py',\n",
       " 'conda-env.exe',\n",
       " 'conda-index-script.py',\n",
       " 'conda-index.exe',\n",
       " 'conda-inspect-script.py',\n",
       " 'conda-inspect.exe',\n",
       " 'conda-metapackage-script.py',\n",
       " 'conda-metapackage.exe',\n",
       " 'conda-render-script.py',\n",
       " 'conda-render.exe',\n",
       " 'conda-script.py',\n",
       " 'conda-server-script.py',\n",
       " 'conda-server.exe',\n",
       " 'conda-skeleton-script.py',\n",
       " 'conda-skeleton.exe',\n",
       " 'conda-verify-script.py',\n",
       " 'conda-verify.exe',\n",
       " 'conda.exe',\n",
       " 'Continue1.ipynb',\n",
       " 'Continue2.ipynb',\n",
       " 'cph-script.py',\n",
       " 'cph.exe',\n",
       " 'cq-script.py',\n",
       " 'cq.exe',\n",
       " 'CreatingVariables.ipynb',\n",
       " 'cwutil-script.py',\n",
       " 'cwutil.exe',\n",
       " 'cygdb-script.py',\n",
       " 'cygdb.exe',\n",
       " 'cython-script.py',\n",
       " 'cython.exe',\n",
       " 'cythonize-script.py',\n",
       " 'cythonize.exe',\n",
       " 'dask-scheduler-script.py',\n",
       " 'dask-scheduler.exe',\n",
       " 'dask-ssh-script.py',\n",
       " 'dask-ssh.exe',\n",
       " 'dask-worker-script.py',\n",
       " 'dask-worker.exe',\n",
       " 'DataTypes.ipynb',\n",
       " 'deactivate',\n",
       " 'Dictionary.ipynb',\n",
       " 'dynamodb_dump-script.py',\n",
       " 'dynamodb_dump.exe',\n",
       " 'dynamodb_load-script.py',\n",
       " 'dynamodb_load.exe',\n",
       " 'easy_install-script.py',\n",
       " 'easy_install.exe',\n",
       " 'elbadmin-script.py',\n",
       " 'elbadmin.exe',\n",
       " 'epylint-script.py',\n",
       " 'epylint.bat',\n",
       " 'epylint.exe',\n",
       " 'f2py-script.py',\n",
       " 'f2py.bat',\n",
       " 'f2py.exe',\n",
       " 'fetch_file-script.py',\n",
       " 'fetch_file.exe',\n",
       " 'fits2bitmap-script.py',\n",
       " 'fits2bitmap.exe',\n",
       " 'fitscheck-script.py',\n",
       " 'fitscheck.exe',\n",
       " 'fitsdiff-script.py',\n",
       " 'fitsdiff.exe',\n",
       " 'fitsheader-script.py',\n",
       " 'fitsheader.exe',\n",
       " 'fitsinfo-script.py',\n",
       " 'fitsinfo.exe',\n",
       " 'flake8-script.py',\n",
       " 'flake8.exe',\n",
       " 'flask-script.py',\n",
       " 'flask.exe',\n",
       " 'FormattedOutput.ipynb',\n",
       " 'Func1.ipynb',\n",
       " 'Func2.ipynb',\n",
       " 'Func3.ipynb',\n",
       " 'FuncArg.ipynb',\n",
       " 'FuncArguments.ipynb',\n",
       " 'FuncNuances.ipynb',\n",
       " 'FuncPassByValue.ipynb',\n",
       " 'FuncPassReference.ipynb',\n",
       " 'FuncRet1.ipynb',\n",
       " 'FuncReturn.ipynb',\n",
       " 'Functions.ipynb',\n",
       " 'futurize-script.py',\n",
       " 'futurize.exe',\n",
       " 'git',\n",
       " 'glacier-script.py',\n",
       " 'glacier.exe',\n",
       " 'idle-script.py',\n",
       " 'idle.exe',\n",
       " 'imageio_download_bin-script.py',\n",
       " 'imageio_download_bin.exe',\n",
       " 'imageio_remove_bin-script.py',\n",
       " 'imageio_remove_bin.exe',\n",
       " 'instance_events-script.py',\n",
       " 'instance_events.exe',\n",
       " 'iptest-script.py',\n",
       " 'iptest.exe',\n",
       " 'iptest3-script.py',\n",
       " 'iptest3.exe',\n",
       " 'ipython-script.py',\n",
       " 'ipython.exe',\n",
       " 'ipython3-script.py',\n",
       " 'ipython3.exe',\n",
       " 'isort-script.py',\n",
       " 'isort.exe',\n",
       " 'isympy-script.py',\n",
       " 'isympy.exe',\n",
       " 'iteration.ipynb',\n",
       " 'jlpm-script.py',\n",
       " 'jlpm.exe',\n",
       " 'jsonschema-script.py',\n",
       " 'jsonschema.exe',\n",
       " 'jupyter-bundlerextension-script.py',\n",
       " 'jupyter-bundlerextension.exe',\n",
       " 'jupyter-console-script.py',\n",
       " 'jupyter-console.exe',\n",
       " 'jupyter-kernel-script.py',\n",
       " 'jupyter-kernel.exe',\n",
       " 'jupyter-kernelspec-script.py',\n",
       " 'jupyter-kernelspec.exe',\n",
       " 'jupyter-lab-script.py',\n",
       " 'jupyter-lab.exe',\n",
       " 'jupyter-labextension-script.py',\n",
       " 'jupyter-labextension.exe',\n",
       " 'jupyter-labhub',\n",
       " 'jupyter-migrate-script.py',\n",
       " 'jupyter-migrate.exe',\n",
       " 'jupyter-nbconvert-script.py',\n",
       " 'jupyter-nbconvert.exe',\n",
       " 'jupyter-nbextension-script.py',\n",
       " 'jupyter-nbextension.exe',\n",
       " 'jupyter-notebook-script.py',\n",
       " 'jupyter-notebook.exe',\n",
       " 'jupyter-qtconsole-script.py',\n",
       " 'jupyter-qtconsole.exe',\n",
       " 'jupyter-run-script.py',\n",
       " 'jupyter-run.exe',\n",
       " 'jupyter-script.py',\n",
       " 'jupyter-serverextension-script.py',\n",
       " 'jupyter-serverextension.exe',\n",
       " 'jupyter-troubleshoot-script.py',\n",
       " 'jupyter-troubleshoot.exe',\n",
       " 'jupyter-trust-script.py',\n",
       " 'jupyter-trust.exe',\n",
       " 'jupyter.exe',\n",
       " 'keyring-script.py',\n",
       " 'keyring.exe',\n",
       " 'kill_instance-script.py',\n",
       " 'kill_instance.exe',\n",
       " 'launch_instance-script.py',\n",
       " 'launch_instance.exe',\n",
       " 'ListSlicing.ipynb',\n",
       " 'list_instances-script.py',\n",
       " 'list_instances.exe',\n",
       " 'Loop3.ipynb',\n",
       " 'Loops2.ipynb',\n",
       " 'lsm2bin-script.py',\n",
       " 'lsm2bin.exe',\n",
       " 'lss3-script.py',\n",
       " 'lss3.exe',\n",
       " 'MathOS.ipynb',\n",
       " 'menuinst-script.py',\n",
       " 'menuinst.exe',\n",
       " 'mturk-script.py',\n",
       " 'mturk.exe',\n",
       " 'MyPythonStarting.ipynb',\n",
       " 'navigator-updater-script.py',\n",
       " 'navigator-updater-script.pyw',\n",
       " 'navigator-updater.exe',\n",
       " 'nltk',\n",
       " 'nosetests-script.py',\n",
       " 'nosetests.exe',\n",
       " 'numba-script.py',\n",
       " 'numba.exe',\n",
       " 'Num_List.ipynb',\n",
       " 'pandoc.exe',\n",
       " 'Pass.ipynb',\n",
       " 'pasteurize-script.py',\n",
       " 'pasteurize.exe',\n",
       " 'pep8-script.py',\n",
       " 'pep8.exe',\n",
       " 'pip-script.py',\n",
       " 'pip.exe',\n",
       " 'pip3-script.py',\n",
       " 'pip3.exe',\n",
       " 'pkginfo-script.py',\n",
       " 'pkginfo.exe',\n",
       " 'pt2to3-script.py',\n",
       " 'pt2to3.exe',\n",
       " 'ptdump-script.py',\n",
       " 'ptdump.exe',\n",
       " 'ptrepack-script.py',\n",
       " 'ptrepack.exe',\n",
       " 'pttree-script.py',\n",
       " 'pttree.exe',\n",
       " 'py.test-script.py',\n",
       " 'py.test.exe',\n",
       " 'pyami_sendmail-script.py',\n",
       " 'pyami_sendmail.exe',\n",
       " 'pybabel-script.py',\n",
       " 'pybabel.exe',\n",
       " 'pycc-script.py',\n",
       " 'pycc.exe',\n",
       " 'pycodestyle-script.py',\n",
       " 'pycodestyle.exe',\n",
       " 'pydoc-script.py',\n",
       " 'pydoc.exe',\n",
       " 'pydocstyle-script.py',\n",
       " 'pydocstyle.exe',\n",
       " 'pyflakes-script.py',\n",
       " 'pyflakes.exe',\n",
       " 'pygmentize-script.py',\n",
       " 'pygmentize.exe',\n",
       " 'pyjson5-script.py',\n",
       " 'pyjson5.exe',\n",
       " 'pylint-script.py',\n",
       " 'pylint.bat',\n",
       " 'pylint.exe',\n",
       " 'pyls-script.py',\n",
       " 'pyls.exe',\n",
       " 'pyreverse-script.py',\n",
       " 'pyreverse.bat',\n",
       " 'pyreverse.exe',\n",
       " 'pytest-script.py',\n",
       " 'pytest.exe',\n",
       " 'PythonCalculator.ipynb',\n",
       " 'PythonConditions.ipynb',\n",
       " 'PythonConditions2.ipynb',\n",
       " 'PythonConditions3.ipynb',\n",
       " 'PythonList.ipynb',\n",
       " 'pywin32_postinstall.py',\n",
       " 'pywin32_testall.py',\n",
       " 'qdarkstyle',\n",
       " 'qta-browser',\n",
       " 'Range2.ipynb',\n",
       " 'route53-script.py',\n",
       " 'route53.exe',\n",
       " 'rst2html.py',\n",
       " 'rst2html4.py',\n",
       " 'rst2html5.py',\n",
       " 'rst2latex.py',\n",
       " 'rst2man.py',\n",
       " 'rst2odt.py',\n",
       " 'rst2odt_prepstyles.py',\n",
       " 'rst2pseudoxml.py',\n",
       " 'rst2s5.py',\n",
       " 'rst2xetex.py',\n",
       " 'rst2xml.py',\n",
       " 'rstpep2html.py',\n",
       " 'runxlrd.py',\n",
       " 's3put-script.py',\n",
       " 's3put.exe',\n",
       " 'samp_hub-script.py',\n",
       " 'samp_hub.exe',\n",
       " 'sdbadmin-script.py',\n",
       " 'sdbadmin.exe',\n",
       " 'Set.ipynb',\n",
       " 'showtable-script.py',\n",
       " 'showtable.exe',\n",
       " 'skivi-script.py',\n",
       " 'skivi.exe',\n",
       " 'sphinx-apidoc-script.py',\n",
       " 'sphinx-apidoc.exe',\n",
       " 'sphinx-autogen-script.py',\n",
       " 'sphinx-autogen.exe',\n",
       " 'sphinx-build-script.py',\n",
       " 'sphinx-build.exe',\n",
       " 'sphinx-quickstart-script.py',\n",
       " 'sphinx-quickstart.exe',\n",
       " 'spyder-script.py',\n",
       " 'spyder.exe',\n",
       " 'spyder.ico',\n",
       " 'spyder3.exe',\n",
       " 'spyder_reset.ico',\n",
       " 'StringAsList.ipynb',\n",
       " 'StringForms.ipynb',\n",
       " 'StringFunctions.ipynb',\n",
       " 'StringSlicing.ipynb',\n",
       " 'symilar-script.py',\n",
       " 'symilar.bat',\n",
       " 'symilar.exe',\n",
       " 'taskadmin-script.py',\n",
       " 'taskadmin.exe',\n",
       " 'tifffile-script.py',\n",
       " 'tifffile.exe',\n",
       " 'tqdm-script.py',\n",
       " 'tqdm.exe',\n",
       " 'Tuples.ipynb',\n",
       " 'TypeConversion.ipynb',\n",
       " 'Untitled.ipynb',\n",
       " 'Untitled1.ipynb',\n",
       " 'Untitled2.ipynb',\n",
       " 'Untitled3.ipynb',\n",
       " 'Untitled4.ipynb',\n",
       " 'vba_extract.py',\n",
       " 'volint-script.py',\n",
       " 'volint.exe',\n",
       " 'watchmedo-script.py',\n",
       " 'watchmedo.exe',\n",
       " 'wcslint-script.py',\n",
       " 'wcslint.exe',\n",
       " 'wheel-script.py',\n",
       " 'wheel.exe',\n",
       " 'whilContinue.ipynb',\n",
       " 'While.ipynb',\n",
       " 'while1.ipynb',\n",
       " 'while2.ipynb',\n",
       " 'while3.ipynb',\n",
       " 'while4.ipynb',\n",
       " 'while5.ipynb',\n",
       " 'WhileBreak.ipynb',\n",
       " 'whilePass.ipynb',\n",
       " 'xlwings-script.py',\n",
       " 'xlwings.exe',\n",
       " 'yapf-script.py',\n",
       " 'yapf.exe',\n",
       " '__pycache__']"
      ]
     },
     "execution_count": 17,
     "metadata": {},
     "output_type": "execute_result"
    }
   ],
   "source": [
    "os.listdir()"
   ]
  },
  {
   "cell_type": "code",
   "execution_count": 18,
   "metadata": {},
   "outputs": [],
   "source": [
    "os.mkdir(\"./NewStep\")"
   ]
  },
  {
   "cell_type": "code",
   "execution_count": 20,
   "metadata": {},
   "outputs": [
    {
     "data": {
      "text/plain": [
       "['.ipynb_checkpoints',\n",
       " '.qt-post-link.bat',\n",
       " '2to3-script.py',\n",
       " '2to3.exe',\n",
       " 'activate',\n",
       " 'activate.bat',\n",
       " 'anaconda-navigator-script.py',\n",
       " 'anaconda-navigator-script.pyw',\n",
       " 'anaconda-navigator.exe',\n",
       " 'anaconda-project-script.py',\n",
       " 'anaconda-project.exe',\n",
       " 'anaconda-script.py',\n",
       " 'anaconda.exe',\n",
       " 'ArgsGlobalLocalPass.ipynb',\n",
       " 'asadmin-script.py',\n",
       " 'asadmin.exe',\n",
       " 'autopep8-script.py',\n",
       " 'autopep8.exe',\n",
       " 'Basic3.ipynb',\n",
       " 'BasicPr1.ipynb',\n",
       " 'BasicPr2.ipynb',\n",
       " 'BasicPrograms.ipynb',\n",
       " 'Basics3.ipynb',\n",
       " 'Basics4.ipynb',\n",
       " 'binstar-script.py',\n",
       " 'binstar.exe',\n",
       " 'bokeh-script.py',\n",
       " 'bokeh.exe',\n",
       " 'Break2.ipynb',\n",
       " 'BuiltInFunctions.ipynb',\n",
       " 'bundle_image-script.py',\n",
       " 'bundle_image.exe',\n",
       " 'Calculator.ipynb',\n",
       " 'cfadmin-script.py',\n",
       " 'cfadmin.exe',\n",
       " 'chardetect-script.py',\n",
       " 'chardetect.exe',\n",
       " 'clear_comtypes_cache.py',\n",
       " 'Comprehensions.ipynb',\n",
       " 'conda-build-script.py',\n",
       " 'conda-build.exe',\n",
       " 'conda-convert-script.py',\n",
       " 'conda-convert.exe',\n",
       " 'conda-debug-script.py',\n",
       " 'conda-debug.exe',\n",
       " 'conda-develop-script.py',\n",
       " 'conda-develop.exe',\n",
       " 'conda-env-script.py',\n",
       " 'conda-env.exe',\n",
       " 'conda-index-script.py',\n",
       " 'conda-index.exe',\n",
       " 'conda-inspect-script.py',\n",
       " 'conda-inspect.exe',\n",
       " 'conda-metapackage-script.py',\n",
       " 'conda-metapackage.exe',\n",
       " 'conda-render-script.py',\n",
       " 'conda-render.exe',\n",
       " 'conda-script.py',\n",
       " 'conda-server-script.py',\n",
       " 'conda-server.exe',\n",
       " 'conda-skeleton-script.py',\n",
       " 'conda-skeleton.exe',\n",
       " 'conda-verify-script.py',\n",
       " 'conda-verify.exe',\n",
       " 'conda.exe',\n",
       " 'Continue1.ipynb',\n",
       " 'Continue2.ipynb',\n",
       " 'cph-script.py',\n",
       " 'cph.exe',\n",
       " 'cq-script.py',\n",
       " 'cq.exe',\n",
       " 'CreatingVariables.ipynb',\n",
       " 'cwutil-script.py',\n",
       " 'cwutil.exe',\n",
       " 'cygdb-script.py',\n",
       " 'cygdb.exe',\n",
       " 'cython-script.py',\n",
       " 'cython.exe',\n",
       " 'cythonize-script.py',\n",
       " 'cythonize.exe',\n",
       " 'dask-scheduler-script.py',\n",
       " 'dask-scheduler.exe',\n",
       " 'dask-ssh-script.py',\n",
       " 'dask-ssh.exe',\n",
       " 'dask-worker-script.py',\n",
       " 'dask-worker.exe',\n",
       " 'DataTypes.ipynb',\n",
       " 'deactivate',\n",
       " 'Dictionary.ipynb',\n",
       " 'dynamodb_dump-script.py',\n",
       " 'dynamodb_dump.exe',\n",
       " 'dynamodb_load-script.py',\n",
       " 'dynamodb_load.exe',\n",
       " 'easy_install-script.py',\n",
       " 'easy_install.exe',\n",
       " 'elbadmin-script.py',\n",
       " 'elbadmin.exe',\n",
       " 'epylint-script.py',\n",
       " 'epylint.bat',\n",
       " 'epylint.exe',\n",
       " 'f2py-script.py',\n",
       " 'f2py.bat',\n",
       " 'f2py.exe',\n",
       " 'fetch_file-script.py',\n",
       " 'fetch_file.exe',\n",
       " 'fits2bitmap-script.py',\n",
       " 'fits2bitmap.exe',\n",
       " 'fitscheck-script.py',\n",
       " 'fitscheck.exe',\n",
       " 'fitsdiff-script.py',\n",
       " 'fitsdiff.exe',\n",
       " 'fitsheader-script.py',\n",
       " 'fitsheader.exe',\n",
       " 'fitsinfo-script.py',\n",
       " 'fitsinfo.exe',\n",
       " 'flake8-script.py',\n",
       " 'flake8.exe',\n",
       " 'flask-script.py',\n",
       " 'flask.exe',\n",
       " 'FormattedOutput.ipynb',\n",
       " 'Func1.ipynb',\n",
       " 'Func2.ipynb',\n",
       " 'Func3.ipynb',\n",
       " 'FuncArg.ipynb',\n",
       " 'FuncArguments.ipynb',\n",
       " 'FuncNuances.ipynb',\n",
       " 'FuncPassByValue.ipynb',\n",
       " 'FuncPassReference.ipynb',\n",
       " 'FuncRet1.ipynb',\n",
       " 'FuncReturn.ipynb',\n",
       " 'Functions.ipynb',\n",
       " 'futurize-script.py',\n",
       " 'futurize.exe',\n",
       " 'git',\n",
       " 'glacier-script.py',\n",
       " 'glacier.exe',\n",
       " 'idle-script.py',\n",
       " 'idle.exe',\n",
       " 'imageio_download_bin-script.py',\n",
       " 'imageio_download_bin.exe',\n",
       " 'imageio_remove_bin-script.py',\n",
       " 'imageio_remove_bin.exe',\n",
       " 'instance_events-script.py',\n",
       " 'instance_events.exe',\n",
       " 'iptest-script.py',\n",
       " 'iptest.exe',\n",
       " 'iptest3-script.py',\n",
       " 'iptest3.exe',\n",
       " 'ipython-script.py',\n",
       " 'ipython.exe',\n",
       " 'ipython3-script.py',\n",
       " 'ipython3.exe',\n",
       " 'isort-script.py',\n",
       " 'isort.exe',\n",
       " 'isympy-script.py',\n",
       " 'isympy.exe',\n",
       " 'iteration.ipynb',\n",
       " 'jlpm-script.py',\n",
       " 'jlpm.exe',\n",
       " 'jsonschema-script.py',\n",
       " 'jsonschema.exe',\n",
       " 'jupyter-bundlerextension-script.py',\n",
       " 'jupyter-bundlerextension.exe',\n",
       " 'jupyter-console-script.py',\n",
       " 'jupyter-console.exe',\n",
       " 'jupyter-kernel-script.py',\n",
       " 'jupyter-kernel.exe',\n",
       " 'jupyter-kernelspec-script.py',\n",
       " 'jupyter-kernelspec.exe',\n",
       " 'jupyter-lab-script.py',\n",
       " 'jupyter-lab.exe',\n",
       " 'jupyter-labextension-script.py',\n",
       " 'jupyter-labextension.exe',\n",
       " 'jupyter-labhub',\n",
       " 'jupyter-migrate-script.py',\n",
       " 'jupyter-migrate.exe',\n",
       " 'jupyter-nbconvert-script.py',\n",
       " 'jupyter-nbconvert.exe',\n",
       " 'jupyter-nbextension-script.py',\n",
       " 'jupyter-nbextension.exe',\n",
       " 'jupyter-notebook-script.py',\n",
       " 'jupyter-notebook.exe',\n",
       " 'jupyter-qtconsole-script.py',\n",
       " 'jupyter-qtconsole.exe',\n",
       " 'jupyter-run-script.py',\n",
       " 'jupyter-run.exe',\n",
       " 'jupyter-script.py',\n",
       " 'jupyter-serverextension-script.py',\n",
       " 'jupyter-serverextension.exe',\n",
       " 'jupyter-troubleshoot-script.py',\n",
       " 'jupyter-troubleshoot.exe',\n",
       " 'jupyter-trust-script.py',\n",
       " 'jupyter-trust.exe',\n",
       " 'jupyter.exe',\n",
       " 'keyring-script.py',\n",
       " 'keyring.exe',\n",
       " 'kill_instance-script.py',\n",
       " 'kill_instance.exe',\n",
       " 'launch_instance-script.py',\n",
       " 'launch_instance.exe',\n",
       " 'ListSlicing.ipynb',\n",
       " 'list_instances-script.py',\n",
       " 'list_instances.exe',\n",
       " 'Loop3.ipynb',\n",
       " 'Loops2.ipynb',\n",
       " 'lsm2bin-script.py',\n",
       " 'lsm2bin.exe',\n",
       " 'lss3-script.py',\n",
       " 'lss3.exe',\n",
       " 'MathOS.ipynb',\n",
       " 'menuinst-script.py',\n",
       " 'menuinst.exe',\n",
       " 'mturk-script.py',\n",
       " 'mturk.exe',\n",
       " 'MyPythonStarting.ipynb',\n",
       " 'navigator-updater-script.py',\n",
       " 'navigator-updater-script.pyw',\n",
       " 'navigator-updater.exe',\n",
       " 'NewStep',\n",
       " 'nltk',\n",
       " 'nosetests-script.py',\n",
       " 'nosetests.exe',\n",
       " 'numba-script.py',\n",
       " 'numba.exe',\n",
       " 'Num_List.ipynb',\n",
       " 'pandoc.exe',\n",
       " 'Pass.ipynb',\n",
       " 'pasteurize-script.py',\n",
       " 'pasteurize.exe',\n",
       " 'pep8-script.py',\n",
       " 'pep8.exe',\n",
       " 'pip-script.py',\n",
       " 'pip.exe',\n",
       " 'pip3-script.py',\n",
       " 'pip3.exe',\n",
       " 'pkginfo-script.py',\n",
       " 'pkginfo.exe',\n",
       " 'pt2to3-script.py',\n",
       " 'pt2to3.exe',\n",
       " 'ptdump-script.py',\n",
       " 'ptdump.exe',\n",
       " 'ptrepack-script.py',\n",
       " 'ptrepack.exe',\n",
       " 'pttree-script.py',\n",
       " 'pttree.exe',\n",
       " 'py.test-script.py',\n",
       " 'py.test.exe',\n",
       " 'pyami_sendmail-script.py',\n",
       " 'pyami_sendmail.exe',\n",
       " 'pybabel-script.py',\n",
       " 'pybabel.exe',\n",
       " 'pycc-script.py',\n",
       " 'pycc.exe',\n",
       " 'pycodestyle-script.py',\n",
       " 'pycodestyle.exe',\n",
       " 'pydoc-script.py',\n",
       " 'pydoc.exe',\n",
       " 'pydocstyle-script.py',\n",
       " 'pydocstyle.exe',\n",
       " 'pyflakes-script.py',\n",
       " 'pyflakes.exe',\n",
       " 'pygmentize-script.py',\n",
       " 'pygmentize.exe',\n",
       " 'pyjson5-script.py',\n",
       " 'pyjson5.exe',\n",
       " 'pylint-script.py',\n",
       " 'pylint.bat',\n",
       " 'pylint.exe',\n",
       " 'pyls-script.py',\n",
       " 'pyls.exe',\n",
       " 'pyreverse-script.py',\n",
       " 'pyreverse.bat',\n",
       " 'pyreverse.exe',\n",
       " 'pytest-script.py',\n",
       " 'pytest.exe',\n",
       " 'PythonCalculator.ipynb',\n",
       " 'PythonConditions.ipynb',\n",
       " 'PythonConditions2.ipynb',\n",
       " 'PythonConditions3.ipynb',\n",
       " 'PythonList.ipynb',\n",
       " 'pywin32_postinstall.py',\n",
       " 'pywin32_testall.py',\n",
       " 'qdarkstyle',\n",
       " 'qta-browser',\n",
       " 'Range2.ipynb',\n",
       " 'route53-script.py',\n",
       " 'route53.exe',\n",
       " 'rst2html.py',\n",
       " 'rst2html4.py',\n",
       " 'rst2html5.py',\n",
       " 'rst2latex.py',\n",
       " 'rst2man.py',\n",
       " 'rst2odt.py',\n",
       " 'rst2odt_prepstyles.py',\n",
       " 'rst2pseudoxml.py',\n",
       " 'rst2s5.py',\n",
       " 'rst2xetex.py',\n",
       " 'rst2xml.py',\n",
       " 'rstpep2html.py',\n",
       " 'runxlrd.py',\n",
       " 's3put-script.py',\n",
       " 's3put.exe',\n",
       " 'samp_hub-script.py',\n",
       " 'samp_hub.exe',\n",
       " 'sdbadmin-script.py',\n",
       " 'sdbadmin.exe',\n",
       " 'Set.ipynb',\n",
       " 'showtable-script.py',\n",
       " 'showtable.exe',\n",
       " 'skivi-script.py',\n",
       " 'skivi.exe',\n",
       " 'sphinx-apidoc-script.py',\n",
       " 'sphinx-apidoc.exe',\n",
       " 'sphinx-autogen-script.py',\n",
       " 'sphinx-autogen.exe',\n",
       " 'sphinx-build-script.py',\n",
       " 'sphinx-build.exe',\n",
       " 'sphinx-quickstart-script.py',\n",
       " 'sphinx-quickstart.exe',\n",
       " 'spyder-script.py',\n",
       " 'spyder.exe',\n",
       " 'spyder.ico',\n",
       " 'spyder3.exe',\n",
       " 'spyder_reset.ico',\n",
       " 'StringAsList.ipynb',\n",
       " 'StringForms.ipynb',\n",
       " 'StringFunctions.ipynb',\n",
       " 'StringSlicing.ipynb',\n",
       " 'symilar-script.py',\n",
       " 'symilar.bat',\n",
       " 'symilar.exe',\n",
       " 'taskadmin-script.py',\n",
       " 'taskadmin.exe',\n",
       " 'tifffile-script.py',\n",
       " 'tifffile.exe',\n",
       " 'tqdm-script.py',\n",
       " 'tqdm.exe',\n",
       " 'Tuples.ipynb',\n",
       " 'TypeConversion.ipynb',\n",
       " 'Untitled.ipynb',\n",
       " 'Untitled1.ipynb',\n",
       " 'Untitled2.ipynb',\n",
       " 'Untitled3.ipynb',\n",
       " 'Untitled4.ipynb',\n",
       " 'vba_extract.py',\n",
       " 'volint-script.py',\n",
       " 'volint.exe',\n",
       " 'watchmedo-script.py',\n",
       " 'watchmedo.exe',\n",
       " 'wcslint-script.py',\n",
       " 'wcslint.exe',\n",
       " 'wheel-script.py',\n",
       " 'wheel.exe',\n",
       " 'whilContinue.ipynb',\n",
       " 'While.ipynb',\n",
       " 'while1.ipynb',\n",
       " 'while2.ipynb',\n",
       " 'while3.ipynb',\n",
       " 'while4.ipynb',\n",
       " 'while5.ipynb',\n",
       " 'WhileBreak.ipynb',\n",
       " 'whilePass.ipynb',\n",
       " 'xlwings-script.py',\n",
       " 'xlwings.exe',\n",
       " 'yapf-script.py',\n",
       " 'yapf.exe',\n",
       " '__pycache__']"
      ]
     },
     "execution_count": 20,
     "metadata": {},
     "output_type": "execute_result"
    }
   ],
   "source": [
    "os.listdir(\".\")"
   ]
  },
  {
   "cell_type": "code",
   "execution_count": 21,
   "metadata": {},
   "outputs": [
    {
     "data": {
      "text/plain": [
       "'C:\\\\ProgramData\\\\Anaconda3\\\\Scripts'"
      ]
     },
     "execution_count": 21,
     "metadata": {},
     "output_type": "execute_result"
    }
   ],
   "source": [
    "cwd = os.getcwd()\n",
    "\n",
    "cwd"
   ]
  },
  {
   "cell_type": "code",
   "execution_count": 22,
   "metadata": {},
   "outputs": [
    {
     "data": {
      "text/plain": [
       "True"
      ]
     },
     "execution_count": 22,
     "metadata": {},
     "output_type": "execute_result"
    }
   ],
   "source": [
    "os.path.isdir(cwd)"
   ]
  },
  {
   "cell_type": "code",
   "execution_count": 23,
   "metadata": {},
   "outputs": [
    {
     "data": {
      "text/plain": [
       "False"
      ]
     },
     "execution_count": 23,
     "metadata": {},
     "output_type": "execute_result"
    }
   ],
   "source": [
    "os.path.isfile(cwd)"
   ]
  },
  {
   "cell_type": "code",
   "execution_count": 24,
   "metadata": {},
   "outputs": [],
   "source": [
    "from os import path\n"
   ]
  },
  {
   "cell_type": "code",
   "execution_count": 25,
   "metadata": {},
   "outputs": [
    {
     "data": {
      "text/plain": [
       "True"
      ]
     },
     "execution_count": 25,
     "metadata": {},
     "output_type": "execute_result"
    }
   ],
   "source": [
    "path.isdir(cwd)"
   ]
  },
  {
   "cell_type": "code",
   "execution_count": 26,
   "metadata": {},
   "outputs": [
    {
     "ename": "NameError",
     "evalue": "name 'NewStep' is not defined",
     "output_type": "error",
     "traceback": [
      "\u001b[1;31m---------------------------------------------------------------------------\u001b[0m",
      "\u001b[1;31mNameError\u001b[0m                                 Traceback (most recent call last)",
      "\u001b[1;32m<ipython-input-26-27d51b521b0a>\u001b[0m in \u001b[0;36m<module>\u001b[1;34m\u001b[0m\n\u001b[1;32m----> 1\u001b[1;33m \u001b[0mpath\u001b[0m\u001b[1;33m.\u001b[0m\u001b[0mexists\u001b[0m\u001b[1;33m(\u001b[0m\u001b[0mNewStep\u001b[0m\u001b[1;33m)\u001b[0m\u001b[1;33m\u001b[0m\u001b[1;33m\u001b[0m\u001b[0m\n\u001b[0m",
      "\u001b[1;31mNameError\u001b[0m: name 'NewStep' is not defined"
     ]
    }
   ],
   "source": [
    "path.exists(NewStep)"
   ]
  },
  {
   "cell_type": "code",
   "execution_count": null,
   "metadata": {},
   "outputs": [],
   "source": []
  }
 ],
 "metadata": {
  "kernelspec": {
   "display_name": "Python 3",
   "language": "python",
   "name": "python3"
  },
  "language_info": {
   "codemirror_mode": {
    "name": "ipython",
    "version": 3
   },
   "file_extension": ".py",
   "mimetype": "text/x-python",
   "name": "python",
   "nbconvert_exporter": "python",
   "pygments_lexer": "ipython3",
   "version": "3.8.5"
  }
 },
 "nbformat": 4,
 "nbformat_minor": 4
}
