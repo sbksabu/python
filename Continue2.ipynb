{
 "cells": [
  {
   "cell_type": "code",
   "execution_count": 1,
   "metadata": {},
   "outputs": [
    {
     "name": "stdout",
     "output_type": "stream",
     "text": [
      "\n",
      "Before continue :  1\n",
      "after continue :  1\n",
      "\n",
      "Before continue :  2\n",
      "after continue :  2\n",
      "\n",
      "Before continue :  3\n",
      "\n",
      "Before continue :  4\n",
      "after continue :  4\n",
      "\n",
      "Before continue :  5\n",
      "after continue :  5\n",
      "\n",
      "Before continue :  6\n",
      "\n",
      "Before continue :  7\n",
      "after continue :  7\n",
      "\n",
      "Before continue :  8\n",
      "after continue :  8\n",
      "\n",
      "Before continue :  9\n",
      "\n",
      "Before continue :  10\n",
      "after continue :  10\n",
      "\n",
      "Before continue :  11\n",
      "after continue :  11\n"
     ]
    }
   ],
   "source": [
    "for i in range(1,12):\n",
    "    \n",
    "    print()\n",
    "    \n",
    "    print(\"Before continue : \", i)\n",
    "    \n",
    "    if i % 3 == 0:\n",
    "        \n",
    "        continue\n",
    "        \n",
    "    print(\"after continue : \", i)"
   ]
  },
  {
   "cell_type": "code",
   "execution_count": 8,
   "metadata": {},
   "outputs": [
    {
     "name": "stdout",
     "output_type": "stream",
     "text": [
      "Jan has 31 number of days\n",
      "Mar has 31 number of days\n",
      "Apr has 30 number of days\n",
      "May has 31 number of days\n",
      "June has 30 number of days\n",
      "July has 31 number of days\n",
      "Aug has 31 number of days\n",
      "Sep has 30 number of days\n",
      "Oct has 31 number of days\n",
      "Nove has 30 number of days\n",
      "Dec has 31 number of days\n"
     ]
    }
   ],
   "source": [
    "num_days = [31, 28, 31, 30, 31, 30, 31, 31, 30, 31, 30, 31]\n",
    "\n",
    "months = [\"Jan\", \"Feb\", \"Mar\", \"Apr\", \"May\", \"June\", \"July\", \"Aug\", \"Sep\", \"Oct\", \"Nove\", \"Dec\"]\n",
    "\n",
    "zip1 = zip(months, num_days)\n",
    "\n",
    "tup1 = tuple(zip1)\n",
    "\n",
    "dict1 = dict(tup1)\n",
    "\n",
    "for i in dict1:\n",
    "    \n",
    "    if dict1[i] < 29:\n",
    "        \n",
    "        continue\n",
    "        \n",
    "    else:\n",
    "        \n",
    "        print(\"%s has %d number of days\" %(i, dict1[i]))"
   ]
  },
  {
   "cell_type": "code",
   "execution_count": 4,
   "metadata": {},
   "outputs": [
    {
     "data": {
      "text/plain": [
       "(('Jan', 31),\n",
       " ('Feb', 28),\n",
       " ('Mar', 31),\n",
       " ('Apr', 30),\n",
       " ('May', 31),\n",
       " ('June', 30),\n",
       " ('July', 31),\n",
       " ('Aug', 31),\n",
       " ('Sep', 30),\n",
       " ('Oct', 31),\n",
       " ('Nove', 30),\n",
       " ('Dec', 31))"
      ]
     },
     "execution_count": 4,
     "metadata": {},
     "output_type": "execute_result"
    }
   ],
   "source": [
    "tup1"
   ]
  },
  {
   "cell_type": "code",
   "execution_count": 5,
   "metadata": {},
   "outputs": [
    {
     "data": {
      "text/plain": [
       "{'Jan': 31,\n",
       " 'Feb': 28,\n",
       " 'Mar': 31,\n",
       " 'Apr': 30,\n",
       " 'May': 31,\n",
       " 'June': 30,\n",
       " 'July': 31,\n",
       " 'Aug': 31,\n",
       " 'Sep': 30,\n",
       " 'Oct': 31,\n",
       " 'Nove': 30,\n",
       " 'Dec': 31}"
      ]
     },
     "execution_count": 5,
     "metadata": {},
     "output_type": "execute_result"
    }
   ],
   "source": [
    "dict1 = dict(tup1)\n",
    "\n",
    "dict1"
   ]
  },
  {
   "cell_type": "code",
   "execution_count": 9,
   "metadata": {},
   "outputs": [
    {
     "name": "stdout",
     "output_type": "stream",
     "text": [
      "Jan has 31 number of days\n",
      "Mar has 31 number of days\n",
      "Apr has 30 number of days\n",
      "May has 31 number of days\n",
      "June has 30 number of days\n",
      "July has 31 number of days\n",
      "Aug has 31 number of days\n",
      "Sep has 30 number of days\n",
      "Oct has 31 number of days\n",
      "Nove has 30 number of days\n",
      "Dec has 31 number of days\n"
     ]
    }
   ],
   "source": [
    "num_days = [31, 28, 31, 30, 31, 30, 31, 31, 30, 31, 30, 31]\n",
    "\n",
    "months = [\"Jan\", \"Feb\", \"Mar\", \"Apr\", \"May\", \"June\", \"July\", \"Aug\", \"Sep\", \"Oct\", \"Nove\", \"Dec\"]\n",
    "\n",
    "dict1 = dict(tuple(zip(months, num_days)))\n",
    "\n",
    "for i in dict1:\n",
    "    \n",
    "    if dict1[i] < 29:\n",
    "        \n",
    "        continue\n",
    "        \n",
    "    else:\n",
    "        \n",
    "        print(\"%s has %d number of days\" %(i, dict1[i]))"
   ]
  },
  {
   "cell_type": "code",
   "execution_count": 1,
   "metadata": {},
   "outputs": [
    {
     "name": "stdout",
     "output_type": "stream",
     "text": [
      "Jan has 31 number of days\n",
      "Mar has 31 number of days\n",
      "Apr has 30 number of days\n",
      "May has 31 number of days\n",
      "June has 30 number of days\n",
      "July has 31 number of days\n",
      "Aug has 31 number of days\n",
      "Sep has 30 number of days\n",
      "Oct has 31 number of days\n",
      "Nove has 30 number of days\n",
      "Dec has 31 number of days\n"
     ]
    }
   ],
   "source": [
    "num_days = [31, 28, 31, 30, 31, 30, 31, 31, 30, 31, 30, 31]\n",
    "\n",
    "months = [\"Jan\", \"Feb\", \"Mar\", \"Apr\", \"May\", \"June\", \"July\", \"Aug\", \"Sep\", \"Oct\", \"Nove\", \"Dec\"]\n",
    "\n",
    "dict1 = dict()\n",
    "\n",
    "for i, j in zip(months, num_days):\n",
    "    \n",
    "    dict1.update({i:j})\n",
    "    \n",
    "    if dict1[i] < 29:\n",
    "        continue\n",
    "    else:\n",
    "        \n",
    "        print(\"%s has %d number of days\" %(i, dict1[i]))"
   ]
  },
  {
   "cell_type": "code",
   "execution_count": 3,
   "metadata": {},
   "outputs": [
    {
     "name": "stdout",
     "output_type": "stream",
     "text": [
      "Ovington\n",
      "Abdul Ghafur\n"
     ]
    }
   ],
   "source": [
    " legacy = [\"Ovington\", \"williams Methwold\", \"Abdul Ghafur\", \"Virji VOra\", \"Kamal Khan Khakhar\"]\n",
    "    \n",
    "for i in legacy:\n",
    "        \n",
    "    if i == \"williams Methwold\":\n",
    "            continue\n",
    "            \n",
    "    if i == \"Virji VOra\":\n",
    "            \n",
    "            break\n",
    "            \n",
    "    else:\n",
    "            \n",
    "            print(i)\n",
    "        \n",
    "        "
   ]
  },
  {
   "cell_type": "code",
   "execution_count": null,
   "metadata": {},
   "outputs": [],
   "source": []
  }
 ],
 "metadata": {
  "kernelspec": {
   "display_name": "Python 3",
   "language": "python",
   "name": "python3"
  },
  "language_info": {
   "codemirror_mode": {
    "name": "ipython",
    "version": 3
   },
   "file_extension": ".py",
   "mimetype": "text/x-python",
   "name": "python",
   "nbconvert_exporter": "python",
   "pygments_lexer": "ipython3",
   "version": "3.8.5"
  }
 },
 "nbformat": 4,
 "nbformat_minor": 4
}
