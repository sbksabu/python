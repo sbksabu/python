{
 "cells": [
  {
   "cell_type": "code",
   "execution_count": 2,
   "metadata": {},
   "outputs": [
    {
     "name": "stdout",
     "output_type": "stream",
     "text": [
      "[121, 144, 169, 196, 225, 256, 289, 324, 361, 400, 441, 484, 529, 576]\n"
     ]
    }
   ],
   "source": [
    "num = range (11,25)\n",
    "\n",
    "num2 = [x ** 2 for x in num]\n",
    "\n",
    "print(num2)"
   ]
  },
  {
   "cell_type": "code",
   "execution_count": 3,
   "metadata": {},
   "outputs": [
    {
     "name": "stdout",
     "output_type": "stream",
     "text": [
      "['1', '9', '7', '0']\n"
     ]
    }
   ],
   "source": [
    "lst1 = \"1970\"\n",
    "\n",
    "lst2 = [digits for digits in lst1]\n",
    "\n",
    "print(lst2)"
   ]
  },
  {
   "cell_type": "code",
   "execution_count": 6,
   "metadata": {},
   "outputs": [
    {
     "name": "stdout",
     "output_type": "stream",
     "text": [
      "['I', 'L', 'U', 'V', ' ', 'U']\n"
     ]
    }
   ],
   "source": [
    "list1 = [\"Iam\", \"Living\", \"Ultra\", \"Voltage\", \" Life\", \"Union\"]\n",
    "\n",
    "list2 = [word[0].upper() for word in list1]\n",
    "\n",
    "print(list2)"
   ]
  },
  {
   "cell_type": "code",
   "execution_count": 7,
   "metadata": {},
   "outputs": [
    {
     "name": "stdout",
     "output_type": "stream",
     "text": [
      "['IAM', 'LIVING', 'ULTRA', 'VOLTAGE', ' LIFE', 'UNION']\n"
     ]
    }
   ],
   "source": [
    "list1 = [\"Iam\", \"Living\", \"Ultra\", \"Voltage\", \" Life\", \"Union\"]\n",
    "\n",
    "list2 = [word.upper() for word in list1]\n",
    "\n",
    "print(list2)"
   ]
  },
  {
   "cell_type": "code",
   "execution_count": 9,
   "metadata": {},
   "outputs": [
    {
     "name": "stdout",
     "output_type": "stream",
     "text": [
      "['maI', 'gniviL', 'artlU', 'egatloV', 'efiL ', 'noinU']\n"
     ]
    }
   ],
   "source": [
    "list1 = [\"Iam\", \"Living\", \"Ultra\", \"Voltage\", \" Life\", \"Union\"]\n",
    "\n",
    "list2 = [word[::-1] for word in list1]\n",
    "\n",
    "print(list2)"
   ]
  },
  {
   "cell_type": "code",
   "execution_count": 10,
   "metadata": {},
   "outputs": [],
   "source": [
    "lis1 = range (21)\n",
    "\n",
    "list2 = [x for x in lis1 if (x % 2 == 0)]"
   ]
  },
  {
   "cell_type": "code",
   "execution_count": 11,
   "metadata": {},
   "outputs": [
    {
     "name": "stdout",
     "output_type": "stream",
     "text": [
      "[0, 2, 4, 6, 8, 10, 12, 14, 16, 18, 20]\n"
     ]
    }
   ],
   "source": [
    "print(list2)"
   ]
  },
  {
   "cell_type": "code",
   "execution_count": 12,
   "metadata": {},
   "outputs": [
    {
     "name": "stdout",
     "output_type": "stream",
     "text": [
      "[0, 27, 54, 81, 108, 135, 162, 189, 216, 243, 270, 297]\n"
     ]
    }
   ],
   "source": [
    "multiples_27 = [x for x in range(300) if (x % 27 == 0)]\n",
    "\n",
    "print(multiples_27)"
   ]
  },
  {
   "cell_type": "code",
   "execution_count": 13,
   "metadata": {},
   "outputs": [
    {
     "name": "stdout",
     "output_type": "stream",
     "text": [
      "Enter the String : Sabu#191221\n",
      "[1, 9, 1, 2, 2, 1]\n"
     ]
    }
   ],
   "source": [
    "in1 = input(\"Enter the String : \")\n",
    "\n",
    "ls1 = [int(x) for x in in1 if x.isdigit()]\n",
    "\n",
    "print(ls1)"
   ]
  },
  {
   "cell_type": "code",
   "execution_count": 14,
   "metadata": {},
   "outputs": [
    {
     "name": "stdout",
     "output_type": "stream",
     "text": [
      "[('Lexi', 'black'), ('Lexi', 'blue'), ('Lexi', 'red'), ('Lexi', 'green'), ('Faster', 'black'), ('Faster', 'blue'), ('Faster', 'red'), ('Faster', 'green'), ('Gripper', 'black'), ('Gripper', 'blue'), ('Gripper', 'red'), ('Gripper', 'green')]\n"
     ]
    }
   ],
   "source": [
    "pen = [\"Lexi\", \"Faster\", \"Gripper\"]\n",
    "\n",
    "col = [\"black\", \"blue\", \"red\", \"green\"]\n",
    "\n",
    "combo = [(i,j) for i in pen for j in col]\n",
    "\n",
    "print(combo)"
   ]
  },
  {
   "cell_type": "code",
   "execution_count": 15,
   "metadata": {},
   "outputs": [
    {
     "name": "stdout",
     "output_type": "stream",
     "text": [
      "[0, 10, 20, 30, 40, 50]\n"
     ]
    }
   ],
   "source": [
    "num10 = [number for number in range(51) if (number % 2 == 0) if (number % 5 == 0)]\n",
    "\n",
    "print(num10)"
   ]
  },
  {
   "cell_type": "code",
   "execution_count": 16,
   "metadata": {},
   "outputs": [],
   "source": [
    "evenOdd = [\"Even\" if (i % 2 == 0) else \"Odd\" for i in range (10)]"
   ]
  },
  {
   "cell_type": "code",
   "execution_count": 17,
   "metadata": {},
   "outputs": [
    {
     "name": "stdout",
     "output_type": "stream",
     "text": [
      "['Even', 'Odd', 'Even', 'Odd', 'Even', 'Odd', 'Even', 'Odd', 'Even', 'Odd']\n"
     ]
    }
   ],
   "source": [
    "print(evenOdd)"
   ]
  },
  {
   "cell_type": "code",
   "execution_count": 20,
   "metadata": {},
   "outputs": [],
   "source": [
    "nums = [22, 30, 55, 65, 27, 36, 45, 66]\n",
    "\n",
    "fil = [\"Small\" if number < 50 else \"Large\" for number in nums if (number % 2 == 0)]"
   ]
  },
  {
   "cell_type": "code",
   "execution_count": 21,
   "metadata": {},
   "outputs": [
    {
     "name": "stdout",
     "output_type": "stream",
     "text": [
      "['Small', 'Small', 'Small', 'Large']\n"
     ]
    }
   ],
   "source": [
    "print(fil)"
   ]
  },
  {
   "cell_type": "code",
   "execution_count": 24,
   "metadata": {},
   "outputs": [
    {
     "name": "stdout",
     "output_type": "stream",
     "text": [
      "42\n",
      "35\n",
      "315\n"
     ]
    }
   ],
   "source": [
    "lis1 = [10, 30, 42, 35, 75, 315, 632, 879]\n",
    "\n",
    "for i in lis1:\n",
    "    \n",
    "    if (i % 7 == 0):\n",
    "        \n",
    "        print(i)\n",
    "        \n",
    "        if i == 315:\n",
    "            \n",
    "            break\n",
    "            \n",
    "            "
   ]
  },
  {
   "cell_type": "code",
   "execution_count": null,
   "metadata": {},
   "outputs": [],
   "source": []
  }
 ],
 "metadata": {
  "kernelspec": {
   "display_name": "Python 3",
   "language": "python",
   "name": "python3"
  },
  "language_info": {
   "codemirror_mode": {
    "name": "ipython",
    "version": 3
   },
   "file_extension": ".py",
   "mimetype": "text/x-python",
   "name": "python",
   "nbconvert_exporter": "python",
   "pygments_lexer": "ipython3",
   "version": "3.8.5"
  }
 },
 "nbformat": 4,
 "nbformat_minor": 4
}
