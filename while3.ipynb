{
 "cells": [
  {
   "cell_type": "code",
   "execution_count": 1,
   "metadata": {},
   "outputs": [
    {
     "name": "stdout",
     "output_type": "stream",
     "text": [
      "CR7 is the best in the world\n"
     ]
    }
   ],
   "source": [
    "name = \"CR7\"\n",
    "\n",
    "while name == \"CR7\":\n",
    "    \n",
    "    print(\"%s is the best in the world\" %name)\n",
    "    \n",
    "    name = \"messi\"\n",
    "    \n",
    "    "
   ]
  },
  {
   "cell_type": "code",
   "execution_count": 2,
   "metadata": {},
   "outputs": [
    {
     "name": "stdout",
     "output_type": "stream",
     "text": [
      "Enter the password : Sabu91\n",
      "\n",
      " Access granted\n"
     ]
    }
   ],
   "source": [
    "pwd = \"\"\n",
    "\n",
    "while pwd != \"Sabu91\":\n",
    "    \n",
    "    pwd = input(\"Enter the password : \")\n",
    "\n",
    "    \n",
    "print(\"\\n Access granted\")"
   ]
  },
  {
   "cell_type": "code",
   "execution_count": 3,
   "metadata": {},
   "outputs": [
    {
     "name": "stdout",
     "output_type": "stream",
     "text": [
      "Square of 1 is 1 \n",
      "Square of 2 is 4 \n",
      "Square of 3 is 9 \n",
      "Square of 4 is 16 \n",
      "Square of 5 is 25 \n",
      "Square of 6 is 36 \n",
      "Square of 7 is 49 \n",
      "Square of 8 is 64 \n",
      "Square of 9 is 81 \n",
      "Square of 10 is 100 \n"
     ]
    }
   ],
   "source": [
    "num = 1\n",
    "\n",
    "while num <= 10:\n",
    "    \n",
    "    print( \"Square of %d is %d \" %(num, (num ** 2)) )\n",
    "    \n",
    "    num += 1\n",
    "    "
   ]
  },
  {
   "cell_type": "code",
   "execution_count": null,
   "metadata": {},
   "outputs": [],
   "source": [
    "counter = int(input(\"Enter the counter value : \"))\n",
    "\n",
    "name = input(\"Enter the Name\")\n",
    "\n",
    "count = 1\n",
    "\n",
    "while count <= counter:\n",
    "    \n",
    "    print (\"%d : %s\" %(count, name))\n",
    "    \n",
    "    count += 1"
   ]
  },
  {
   "cell_type": "code",
   "execution_count": null,
   "metadata": {},
   "outputs": [],
   "source": [
    "counter = int(input(\"Enter the counter value : \"))\n",
    "\n",
    "name = input(\"Enter the Name\")\n",
    "\n",
    "count = 1\n",
    "\n",
    "while count <= counter:\n",
    "    \n",
    "    print (\"%d : %s\" %(count, name))\n",
    "    \n",
    "    count += 1"
   ]
  },
  {
   "cell_type": "code",
   "execution_count": null,
   "metadata": {},
   "outputs": [],
   "source": []
  }
 ],
 "metadata": {
  "kernelspec": {
   "display_name": "Python 3",
   "language": "python",
   "name": "python3"
  },
  "language_info": {
   "codemirror_mode": {
    "name": "ipython",
    "version": 3
   },
   "file_extension": ".py",
   "mimetype": "text/x-python",
   "name": "python",
   "nbconvert_exporter": "python",
   "pygments_lexer": "ipython3",
   "version": "3.8.5"
  }
 },
 "nbformat": 4,
 "nbformat_minor": 4
}
