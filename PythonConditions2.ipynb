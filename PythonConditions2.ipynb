{
 "cells": [
  {
   "cell_type": "code",
   "execution_count": 1,
   "metadata": {},
   "outputs": [],
   "source": [
    "bike_price = 25000"
   ]
  },
  {
   "cell_type": "code",
   "execution_count": 2,
   "metadata": {},
   "outputs": [
    {
     "name": "stdout",
     "output_type": "stream",
     "text": [
      "Costly bike\n"
     ]
    }
   ],
   "source": [
    "if bike_price < 10000:\n",
    "    \n",
    "    print(\"Cheaper bike\")\n",
    "\n",
    "elif bike_price >= 10000 and bike_price < 20000 :\n",
    "    \n",
    "    print(\"Moderate\")\n",
    "    \n",
    "elif bike_price >= 20000 and bike_price < 20000 :\n",
    "    \n",
    "    print (\"Somehwat costly\")\n",
    "    \n",
    "else :\n",
    "    \n",
    "    print(\"Costly bike\")"
   ]
  },
  {
   "cell_type": "code",
   "execution_count": 3,
   "metadata": {},
   "outputs": [],
   "source": [
    "x = 20\n",
    "y = 40\n",
    "z = 60"
   ]
  },
  {
   "cell_type": "code",
   "execution_count": 4,
   "metadata": {},
   "outputs": [
    {
     "name": "stdout",
     "output_type": "stream",
     "text": [
      "1st condition is true\n",
      "2nd condition is also True\n"
     ]
    }
   ],
   "source": [
    "if x < y:\n",
    "    \n",
    "    print(\"1st condition is true\")\n",
    "    \n",
    "    if x < z:\n",
    "        \n",
    "        print(\"2nd condition is also True\")\n",
    "        \n",
    "    else :\n",
    "        \n",
    "        print (\"2nd condition only failed\")\n",
    "        \n",
    "else:\n",
    "    \n",
    "    print(\"All the conditions failed\")"
   ]
  },
  {
   "cell_type": "code",
   "execution_count": 5,
   "metadata": {},
   "outputs": [
    {
     "name": "stdout",
     "output_type": "stream",
     "text": [
      "Enter 1st value62\n",
      "Enter 2nd value50\n",
      "Enter 3rd value63\n",
      "All the conditions failed\n"
     ]
    }
   ],
   "source": [
    "x = input(\"Enter 1st value\")\n",
    "y = input(\"Enter 2nd value\")\n",
    "z = input(\"Enter 3rd value\")\n",
    "\n",
    "\n",
    "if x < y:\n",
    "    \n",
    "    print(\"1st condition is true\")\n",
    "    \n",
    "    if x < z:\n",
    "        \n",
    "        print(\"2nd condition is also True\")\n",
    "        \n",
    "    else :\n",
    "        \n",
    "        print (\"2nd condition only failed\")\n",
    "        \n",
    "else:\n",
    "    \n",
    "    print(\"All the conditions failed\")"
   ]
  },
  {
   "cell_type": "code",
   "execution_count": 6,
   "metadata": {},
   "outputs": [],
   "source": [
    "sultans = [\"Aybak\", \"Shamsuddin Iltumish\", \"Raziyya\", \"Ghiyazuddin\", \"Jalaluddin Khalji\", \"Alauddin Khalji\", \"Ghiyasuddin Tughluq\", \"Muhammad\", \"Firuz Shah\", \"Khizr Khan\", \"Bahbul Lodi\"]"
   ]
  },
  {
   "cell_type": "code",
   "execution_count": 8,
   "metadata": {},
   "outputs": [
    {
     "data": {
      "text/plain": [
       "['Aybak',\n",
       " 'Shamsuddin Iltumish',\n",
       " 'Raziyya',\n",
       " 'Ghiyazuddin',\n",
       " 'Jalaluddin Khalji',\n",
       " 'Alauddin Khalji',\n",
       " 'Ghiyasuddin Tughluq',\n",
       " 'Muhammad',\n",
       " 'Firuz Shah',\n",
       " 'Khizr Khan',\n",
       " 'Bahbul Lodi']"
      ]
     },
     "execution_count": 8,
     "metadata": {},
     "output_type": "execute_result"
    }
   ],
   "source": [
    "sultans"
   ]
  },
  {
   "cell_type": "code",
   "execution_count": 9,
   "metadata": {},
   "outputs": [
    {
     "name": "stdout",
     "output_type": "stream",
     "text": [
      "sultans is correct\n"
     ]
    }
   ],
   "source": [
    "if \"Alauddin Khalji\" in sultans:\n",
    "    \n",
    "    print(\"sultans is correct\")\n",
    "\n",
    "    \n",
    "else:\n",
    "    \n",
    "    print(\"Doesnt make sense\")"
   ]
  },
  {
   "cell_type": "code",
   "execution_count": null,
   "metadata": {},
   "outputs": [],
   "source": []
  }
 ],
 "metadata": {
  "kernelspec": {
   "display_name": "Python 3",
   "language": "python",
   "name": "python3"
  },
  "language_info": {
   "codemirror_mode": {
    "name": "ipython",
    "version": 3
   },
   "file_extension": ".py",
   "mimetype": "text/x-python",
   "name": "python",
   "nbconvert_exporter": "python",
   "pygments_lexer": "ipython3",
   "version": "3.8.5"
  }
 },
 "nbformat": 4,
 "nbformat_minor": 4
}
