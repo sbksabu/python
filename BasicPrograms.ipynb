{
 "cells": [
  {
   "cell_type": "code",
   "execution_count": 1,
   "metadata": {},
   "outputs": [
    {
     "name": "stdout",
     "output_type": "stream",
     "text": [
      "Enter the Salary : 85000\n",
      "Enter the Total Expenses : 60000\n",
      "Total Savings is  25000\n"
     ]
    }
   ],
   "source": [
    "salary = int(input(\"Enter the Salary : \"))\n",
    "\n",
    "expenses = int(input(\"Enter the Total Expenses : \"))\n",
    "\n",
    "savings = salary - expenses\n",
    "\n",
    "print(\"Total Savings is \", savings)"
   ]
  },
  {
   "cell_type": "code",
   "execution_count": 2,
   "metadata": {},
   "outputs": [
    {
     "name": "stdout",
     "output_type": "stream",
     "text": [
      "Enter the 1st Number : 77\n",
      "Enter the 2nd number : 55\n",
      "55 77\n"
     ]
    }
   ],
   "source": [
    "first = int(input(\"Enter the 1st Number : \"))\n",
    "\n",
    "second = int(input(\"Enter the 2nd number : \"))\n",
    "\n",
    "first = first + second\n",
    "\n",
    "second = first - second\n",
    "\n",
    "first = first - second\n",
    "\n",
    "print(first, second)"
   ]
  },
  {
   "cell_type": "code",
   "execution_count": null,
   "metadata": {},
   "outputs": [],
   "source": []
  }
 ],
 "metadata": {
  "kernelspec": {
   "display_name": "Python 3",
   "language": "python",
   "name": "python3"
  },
  "language_info": {
   "codemirror_mode": {
    "name": "ipython",
    "version": 3
   },
   "file_extension": ".py",
   "mimetype": "text/x-python",
   "name": "python",
   "nbconvert_exporter": "python",
   "pygments_lexer": "ipython3",
   "version": "3.8.5"
  }
 },
 "nbformat": 4,
 "nbformat_minor": 4
}
