{
 "cells": [
  {
   "cell_type": "code",
   "execution_count": 3,
   "metadata": {},
   "outputs": [
    {
     "name": "stdout",
     "output_type": "stream",
     "text": [
      "Please enter the number :30\n",
      "Sum of  30 3030 303030 : 306090\n"
     ]
    }
   ],
   "source": [
    "num = int(input(\"Please enter the number :\"))\n",
    "\n",
    "var1 = str(num)\n",
    "\n",
    "var2 = var1 + var1\n",
    "\n",
    "var3 = var1 + var1 + var1\n",
    "\n",
    "total = num + int(var2) + int(var3)\n",
    "\n",
    "print(\"Sum of \", num , var2, var3, \":\", total)"
   ]
  },
  {
   "cell_type": "code",
   "execution_count": 4,
   "metadata": {},
   "outputs": [
    {
     "name": "stdout",
     "output_type": "stream",
     "text": [
      "Enter the principle amount : 15000\n",
      "Enter the duration/number of months : 24\n",
      "Please enter the interest rate :8.5\n",
      "Simple interest is :  30600.0\n"
     ]
    }
   ],
   "source": [
    "pr_amount = float(input(\"Enter the principle amount : \"))\n",
    "\n",
    "duration = int (input(\"Enter the duration/number of months : \"))\n",
    "\n",
    "rate = float(input(\"Please enter the interest rate :\"))\n",
    "\n",
    "interest = (pr_amount * duration * rate)/100\n",
    "\n",
    "print(\"Simple interest is : \", interest)"
   ]
  },
  {
   "cell_type": "code",
   "execution_count": 6,
   "metadata": {},
   "outputs": [
    {
     "name": "stdout",
     "output_type": "stream",
     "text": [
      "Please enter the height in cms : 165\n",
      "Height in inches is :  65.01 \n",
      "Height in feet is :  5.346\n"
     ]
    }
   ],
   "source": [
    "cms = float(input(\"Please enter the height in cms : \"))\n",
    "\n",
    "inches = 0.394 * cms\n",
    "\n",
    "feet = 0.0324 * cms\n",
    "\n",
    "print(\"Height in inches is : \", inches, \"\\nHeight in feet is : \", feet)"
   ]
  },
  {
   "cell_type": "code",
   "execution_count": 8,
   "metadata": {},
   "outputs": [
    {
     "data": {
      "text/plain": [
       "['Akbar', 'Humayun', 'Babur', 'Jahangir', 'Shah Jahan', 'Aurangazeb']"
      ]
     },
     "execution_count": 8,
     "metadata": {},
     "output_type": "execute_result"
    }
   ],
   "source": [
    "mughals = [\"Babur\", \"Humayun\", \"Akbar\", \"Jahangir\", \"Shah Jahan\", \"Aurangazeb\"]\n",
    "\n",
    "temp_king = mughals[0]\n",
    "\n",
    "mughals [0] = mughals[2]\n",
    "\n",
    "mughals [2] = temp_king\n",
    "\n",
    "mughals"
   ]
  },
  {
   "cell_type": "code",
   "execution_count": null,
   "metadata": {},
   "outputs": [],
   "source": [
    "print(\"Before swap : \", mughals)\n",
    "\n",
    "king1 = 0\n",
    "king2 = 2\n",
    "\n",
    "mughals[king1], mughals[king2] = mughals[king2], mughals[king1]\n",
    "\n",
    "print(After Swa)"
   ]
  }
 ],
 "metadata": {
  "kernelspec": {
   "display_name": "Python 3",
   "language": "python",
   "name": "python3"
  },
  "language_info": {
   "codemirror_mode": {
    "name": "ipython",
    "version": 3
   },
   "file_extension": ".py",
   "mimetype": "text/x-python",
   "name": "python",
   "nbconvert_exporter": "python",
   "pygments_lexer": "ipython3",
   "version": "3.8.5"
  }
 },
 "nbformat": 4,
 "nbformat_minor": 4
}
