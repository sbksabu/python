{
 "cells": [
  {
   "cell_type": "code",
   "execution_count": 1,
   "metadata": {},
   "outputs": [
    {
     "name": "stdout",
     "output_type": "stream",
     "text": [
      "10\n",
      "20\n",
      "30\n",
      "40\n",
      "50\n",
      "Came out\n"
     ]
    }
   ],
   "source": [
    "num = 10\n",
    "\n",
    "while num in range (10, 100):\n",
    "    \n",
    "    print(num)\n",
    "    \n",
    "    if num == 50:\n",
    "        break\n",
    "        \n",
    "    num += 10\n",
    "    \n",
    "print(\"Came out\")"
   ]
  },
  {
   "cell_type": "code",
   "execution_count": 2,
   "metadata": {},
   "outputs": [
    {
     "name": "stdout",
     "output_type": "stream",
     "text": [
      "Enter the number : 5\n",
      "Enter the number : 7\n",
      "Enter the number : 32\n",
      "Enter the number : 61\n",
      "Enter the number : 69\n",
      "The number is    69 \n"
     ]
    }
   ],
   "source": [
    "num = 10\n",
    "\n",
    "while True:\n",
    "    \n",
    "    num = int(input(\"Enter the number : \"))\n",
    "    \n",
    "    if num % 3 == 0:\n",
    "        \n",
    "        break\n",
    "        \n",
    "print(\"The number is %5d \" %num)"
   ]
  },
  {
   "cell_type": "code",
   "execution_count": 3,
   "metadata": {},
   "outputs": [
    {
     "name": "stdout",
     "output_type": "stream",
     "text": [
      "N\n",
      "e\n",
      "w\n",
      "Y\n",
      "o\n",
      "r\n",
      "k\n"
     ]
    }
   ],
   "source": [
    "place = \"NewYorkCity\"\n",
    "\n",
    "index = 0\n",
    "\n",
    "while index < len(place):\n",
    "    \n",
    "    if place[index] == \"C\":\n",
    "        \n",
    "        break\n",
    "        \n",
    "    else:\n",
    "        \n",
    "        print(place[index])\n",
    "        \n",
    "    index += 1"
   ]
  },
  {
   "cell_type": "code",
   "execution_count": 9,
   "metadata": {},
   "outputs": [
    {
     "name": "stdout",
     "output_type": "stream",
     "text": [
      "\n",
      " The cleared list :  ['hay', 'hay', 'hay', 'hay']\n"
     ]
    }
   ],
   "source": [
    "uncleaned = [\"hay\", \"fool\", \"hay\", \"three\", \"hay\", \"hay\", \"five\"]\n",
    "\n",
    "index = 0\n",
    "\n",
    "while index < len(uncleaned):\n",
    "    \n",
    "    if uncleaned[index] != \"hay\":\n",
    "        \n",
    "        del uncleaned[index]\n",
    "        \n",
    "    index += 1\n",
    "    \n",
    "print(\"\\n The cleared list : \", uncleaned)\n",
    "        \n",
    "        "
   ]
  },
  {
   "cell_type": "code",
   "execution_count": null,
   "metadata": {},
   "outputs": [],
   "source": []
  }
 ],
 "metadata": {
  "kernelspec": {
   "display_name": "Python 3",
   "language": "python",
   "name": "python3"
  },
  "language_info": {
   "codemirror_mode": {
    "name": "ipython",
    "version": 3
   },
   "file_extension": ".py",
   "mimetype": "text/x-python",
   "name": "python",
   "nbconvert_exporter": "python",
   "pygments_lexer": "ipython3",
   "version": "3.8.5"
  }
 },
 "nbformat": 4,
 "nbformat_minor": 4
}
