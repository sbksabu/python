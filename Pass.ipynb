{
 "cells": [
  {
   "cell_type": "code",
   "execution_count": 4,
   "metadata": {},
   "outputs": [
    {
     "name": "stdout",
     "output_type": "stream",
     "text": [
      "The letter is  h\n",
      "In the pass block\n",
      "The letter is  l\n",
      "The letter is  l\n",
      "The letter is  l\n",
      "The letter is  l\n",
      "The letter is  o\n",
      "The letter is  o\n",
      "The letter is  o\n"
     ]
    }
   ],
   "source": [
    "for i in \"hellllooo\":\n",
    "    \n",
    "    if i == \"e\":\n",
    "        \n",
    "        pass\n",
    "        print(\"In the pass block\")\n",
    "            \n",
    "    else:\n",
    "        \n",
    "        print(\"The letter is \",i )"
   ]
  },
  {
   "cell_type": "code",
   "execution_count": 5,
   "metadata": {},
   "outputs": [
    {
     "name": "stdout",
     "output_type": "stream",
     "text": [
      "1\n",
      "3\n",
      "5\n",
      "7\n",
      "9\n"
     ]
    }
   ],
   "source": [
    "for i in range (10):\n",
    "    \n",
    "    if (i % 2 == 0):\n",
    "        \n",
    "        pass\n",
    "    \n",
    "    else:\n",
    "        \n",
    "        print(i)"
   ]
  },
  {
   "cell_type": "code",
   "execution_count": 6,
   "metadata": {},
   "outputs": [
    {
     "name": "stdout",
     "output_type": "stream",
     "text": [
      "1\n",
      "3\n",
      "5\n",
      "7\n",
      "9\n",
      "Count of odd numbers is 5  \n",
      "Total Count 10\n"
     ]
    }
   ],
   "source": [
    "odd_co = 0\n",
    "\n",
    "total = 0\n",
    "\n",
    "for i in range (10):\n",
    "    \n",
    "    if (i % 2 == 0):\n",
    "        \n",
    "        pass\n",
    "    \n",
    "    else:\n",
    "        \n",
    "        print(i)\n",
    "        \n",
    "        odd_co += 1\n",
    "        \n",
    "    total += 1\n",
    "\n",
    "print(\"Count of odd numbers is %d \" %odd_co,\"\\nTotal Count %d\" %total )\n",
    "        \n",
    "        "
   ]
  },
  {
   "cell_type": "code",
   "execution_count": 8,
   "metadata": {},
   "outputs": [
    {
     "name": "stdout",
     "output_type": "stream",
     "text": [
      "Enter the value : Sabu@191221\n",
      "Total number of digits is 6 \n",
      "Total number of alphabets is 4\n"
     ]
    }
   ],
   "source": [
    "dig1 = 0\n",
    "alp1 = 0\n",
    "\n",
    "value = input(\"Enter the value : \")\n",
    "\n",
    "for i in value:\n",
    "    \n",
    "    if i.isdigit():\n",
    "        \n",
    "        dig1 += 1\n",
    "        \n",
    "    elif i.isalpha():\n",
    "        \n",
    "        alp1 += 1\n",
    "        \n",
    "    else:\n",
    "        pass\n",
    "    \n",
    "print(\"Total number of digits is %d\" %dig1, \"\\nTotal number of alphabets is %d\" %alp1)\n",
    "        "
   ]
  },
  {
   "cell_type": "code",
   "execution_count": null,
   "metadata": {},
   "outputs": [],
   "source": []
  }
 ],
 "metadata": {
  "kernelspec": {
   "display_name": "Python 3",
   "language": "python",
   "name": "python3"
  },
  "language_info": {
   "codemirror_mode": {
    "name": "ipython",
    "version": 3
   },
   "file_extension": ".py",
   "mimetype": "text/x-python",
   "name": "python",
   "nbconvert_exporter": "python",
   "pygments_lexer": "ipython3",
   "version": "3.8.5"
  }
 },
 "nbformat": 4,
 "nbformat_minor": 4
}
